{
 "cells": [
  {
   "cell_type": "code",
   "execution_count": 88,
   "metadata": {
    "colab": {},
    "colab_type": "code",
    "id": "hNfIPRLtFqCF"
   },
   "outputs": [],
   "source": [
    "import re\n",
    "import numpy as np\n",
    "import pandas as pd\n",
    "import matplotlib.pyplot as plt\n",
    "import seaborn as sns"
   ]
  },
  {
   "cell_type": "markdown",
   "metadata": {
    "colab_type": "text",
    "id": "s3BXwPPxtNzs"
   },
   "source": [
    "# Helpful functions"
   ]
  },
  {
   "cell_type": "code",
   "execution_count": 89,
   "metadata": {
    "colab": {},
    "colab_type": "code",
    "id": "OO5kKYCMlLTs"
   },
   "outputs": [],
   "source": [
    "def ecdf(data):\n",
    "  n_data = len(data)\n",
    "  x_data = np.sort(data)\n",
    "  y_data = np.linspace(1/n_data, 1, n_data)\n",
    "  return x_data, y_data"
   ]
  },
  {
   "cell_type": "code",
   "execution_count": 90,
   "metadata": {
    "colab": {},
    "colab_type": "code",
    "id": "3_vV__SQkaq9"
   },
   "outputs": [],
   "source": [
    "def get_airline_name(x):\n",
    "  mtch = re.search(\"[a-z]+([A-Z])\", str(x) )\n",
    "  return x[mtch.span(1)[0]:] if mtch else \"\"\n"
   ]
  },
  {
   "cell_type": "code",
   "execution_count": 91,
   "metadata": {
    "colab": {},
    "colab_type": "code",
    "id": "ntkIh88plPzy"
   },
   "outputs": [],
   "source": [
    "def get_location(x):\n",
    "  mtch = re.search(\"[a-z]+([A-Z])\", str(x) )\n",
    "  return x[:mtch.span(1)[0]] if mtch else \"\"\n"
   ]
  },
  {
   "cell_type": "code",
   "execution_count": 92,
   "metadata": {},
   "outputs": [],
   "source": [
    "def add(a,b):\n",
    "    return int(a)+int(b)"
   ]
  },
  {
   "cell_type": "code",
   "execution_count": 93,
   "metadata": {
    "colab": {
     "base_uri": "https://localhost:8080/",
     "height": 34
    },
    "colab_type": "code",
    "executionInfo": {
     "elapsed": 1665,
     "status": "ok",
     "timestamp": 1589103517133,
     "user": {
      "displayName": "Sarfraaz Ahmed",
      "photoUrl": "",
      "userId": "11687395159645464019"
     },
     "user_tz": -330
    },
    "id": "6SkoTXEe6-Pj",
    "outputId": "79cd2b3f-6d20-45c6-caa3-1659bedb656a"
   },
   "outputs": [
    {
     "data": {
      "text/plain": [
       "'American Airlines'"
      ]
     },
     "execution_count": 93,
     "metadata": {},
     "output_type": "execute_result"
    }
   ],
   "source": [
    "sample = 'Miami, FloridaAmerican Airlines'\n",
    "get_airline_name(sample)"
   ]
  },
  {
   "cell_type": "code",
   "execution_count": 94,
   "metadata": {
    "colab": {
     "base_uri": "https://localhost:8080/",
     "height": 34
    },
    "colab_type": "code",
    "executionInfo": {
     "elapsed": 1650,
     "status": "ok",
     "timestamp": 1589103517135,
     "user": {
      "displayName": "Sarfraaz Ahmed",
      "photoUrl": "",
      "userId": "11687395159645464019"
     },
     "user_tz": -330
    },
    "id": "0htOSn576-K9",
    "outputId": "7b879140-98be-47d3-955f-36b6c37be59f"
   },
   "outputs": [
    {
     "data": {
      "text/plain": [
       "'Miami, Florida'"
      ]
     },
     "execution_count": 94,
     "metadata": {},
     "output_type": "execute_result"
    }
   ],
   "source": [
    "get_location(sample)"
   ]
  },
  {
   "cell_type": "code",
   "execution_count": 95,
   "metadata": {
    "colab": {},
    "colab_type": "code",
    "id": "oD_lQBhk23vP"
   },
   "outputs": [],
   "source": [
    "def get_casualties(x):\n",
    "  nums = re.findall(\"([0-9]+)\", x)\n",
    "  return nums[0] if nums else x"
   ]
  },
  {
   "cell_type": "code",
   "execution_count": 96,
   "metadata": {
    "colab": {},
    "colab_type": "code",
    "id": "7kt6NUH92_vo"
   },
   "outputs": [],
   "source": [
    "def get_passengers(x):\n",
    "  nums = re.findall(\"([0-9]+)\", x)\n",
    "  return nums[1] if len(nums) > 1 else x"
   ]
  },
  {
   "cell_type": "code",
   "execution_count": 97,
   "metadata": {
    "colab": {},
    "colab_type": "code",
    "id": "ijh4qK343TV0"
   },
   "outputs": [],
   "source": [
    "def get_ground_casualties(x):\n",
    "  nums = re.findall(\"([0-9]+)\", x)\n",
    "  return nums[2] if len(nums) > 2 else x"
   ]
  },
  {
   "cell_type": "code",
   "execution_count": 98,
   "metadata": {
    "colab": {
     "base_uri": "https://localhost:8080/",
     "height": 34
    },
    "colab_type": "code",
    "executionInfo": {
     "elapsed": 1611,
     "status": "ok",
     "timestamp": 1589103517140,
     "user": {
      "displayName": "Sarfraaz Ahmed",
      "photoUrl": "",
      "userId": "11687395159645464019"
     },
     "user_tz": -330
    },
    "id": "6KE_gGr_6-HU",
    "outputId": "5d609035-62f6-4879-9a51-db7b90dda232"
   },
   "outputs": [
    {
     "data": {
      "text/plain": [
       "'22'"
      ]
     },
     "execution_count": 98,
     "metadata": {},
     "output_type": "execute_result"
    }
   ],
   "source": [
    "text = '22/41(0)'\n",
    "get_casualties(text)"
   ]
  },
  {
   "cell_type": "code",
   "execution_count": 99,
   "metadata": {
    "colab": {
     "base_uri": "https://localhost:8080/",
     "height": 34
    },
    "colab_type": "code",
    "executionInfo": {
     "elapsed": 1596,
     "status": "ok",
     "timestamp": 1589103517140,
     "user": {
      "displayName": "Sarfraaz Ahmed",
      "photoUrl": "",
      "userId": "11687395159645464019"
     },
     "user_tz": -330
    },
    "id": "mopCrEpm7x_5",
    "outputId": "17f049f1-0dc7-45bf-ee27-68a2bc8b4e3b"
   },
   "outputs": [
    {
     "data": {
      "text/plain": [
       "'41'"
      ]
     },
     "execution_count": 99,
     "metadata": {},
     "output_type": "execute_result"
    }
   ],
   "source": [
    "get_passengers(text)"
   ]
  },
  {
   "cell_type": "code",
   "execution_count": 100,
   "metadata": {
    "colab": {
     "base_uri": "https://localhost:8080/",
     "height": 34
    },
    "colab_type": "code",
    "executionInfo": {
     "elapsed": 1583,
     "status": "ok",
     "timestamp": 1589103517142,
     "user": {
      "displayName": "Sarfraaz Ahmed",
      "photoUrl": "",
      "userId": "11687395159645464019"
     },
     "user_tz": -330
    },
    "id": "UtsuDaKO74Ha",
    "outputId": "ce40cd97-9076-433c-d778-ae6b0a7e5845"
   },
   "outputs": [
    {
     "data": {
      "text/plain": [
       "'0'"
      ]
     },
     "execution_count": 100,
     "metadata": {},
     "output_type": "execute_result"
    }
   ],
   "source": [
    "get_ground_casualties(text)"
   ]
  },
  {
   "cell_type": "code",
   "execution_count": 101,
   "metadata": {
    "colab": {},
    "colab_type": "code",
    "id": "9BNeSMGk5prV"
   },
   "outputs": [],
   "source": [
    "def get_aircraft_type(x):\n",
    "  return x.rsplit(maxsplit=1)[0]"
   ]
  },
  {
   "cell_type": "code",
   "execution_count": 102,
   "metadata": {
    "colab": {
     "base_uri": "https://localhost:8080/",
     "height": 34
    },
    "colab_type": "code",
    "executionInfo": {
     "elapsed": 1565,
     "status": "ok",
     "timestamp": 1589103517144,
     "user": {
      "displayName": "Sarfraaz Ahmed",
      "photoUrl": "",
      "userId": "11687395159645464019"
     },
     "user_tz": -330
    },
    "id": "e8F1QZRq8H56",
    "outputId": "0d0d30cd-d85f-453c-d51b-c48d98585594"
   },
   "outputs": [
    {
     "data": {
      "text/plain": [
       "'Airbus'"
      ]
     },
     "execution_count": 102,
     "metadata": {},
     "output_type": "execute_result"
    }
   ],
   "source": [
    "smpl = \"Airbus A300-600RN14056\"\n",
    "get_aircraft_type(smpl)\n",
    "smpl.rsplit(maxsplit=1)[0]"
   ]
  },
  {
   "cell_type": "markdown",
   "metadata": {
    "colab_type": "text",
    "id": "bNwgYKPO86Jz"
   },
   "source": [
    "# 1. Collect information for all Airplane crashes from 2000 to 2020\n",
    "\n",
    "You might already have received a GitHub link to a csv file called \"plane_crash_all.csv\"\n",
    "\n",
    "Access the data from this csv file and present its summary report :\n",
    "- Number of data points [ or rows ]\n",
    "- Number of features [ or columns ]\n",
    "- First 10 entries in the dataset\n",
    "- Last 10 entries in the dataset\n",
    "- Datatypes of each column"
   ]
  },
  {
   "cell_type": "code",
   "execution_count": 103,
   "metadata": {
    "colab": {},
    "colab_type": "code",
    "id": "IYcLc35UCTZc"
   },
   "outputs": [],
   "source": [
    "df1 = pd.read_csv('plane_crash_all.csv')"
   ]
  },
  {
   "cell_type": "code",
   "execution_count": 104,
   "metadata": {
    "colab": {},
    "colab_type": "code",
    "id": "KszYIKss9VDI"
   },
   "outputs": [
    {
     "data": {
      "text/html": [
       "<div>\n",
       "<style scoped>\n",
       "    .dataframe tbody tr th:only-of-type {\n",
       "        vertical-align: middle;\n",
       "    }\n",
       "\n",
       "    .dataframe tbody tr th {\n",
       "        vertical-align: top;\n",
       "    }\n",
       "\n",
       "    .dataframe thead th {\n",
       "        text-align: right;\n",
       "    }\n",
       "</style>\n",
       "<table border=\"1\" class=\"dataframe\">\n",
       "  <thead>\n",
       "    <tr style=\"text-align: right;\">\n",
       "      <th></th>\n",
       "      <th>Unnamed: 0</th>\n",
       "      <th>Date</th>\n",
       "      <th>Location / Operator</th>\n",
       "      <th>Aircraft Type / Registration</th>\n",
       "      <th>Fatalities</th>\n",
       "    </tr>\n",
       "  </thead>\n",
       "  <tbody>\n",
       "    <tr>\n",
       "      <th>0</th>\n",
       "      <td>0</td>\n",
       "      <td>05 Jan 2000</td>\n",
       "      <td>Abuja, NigeriaSkypower Express Airways</td>\n",
       "      <td>Embraer 110P1A Bandeirante5N-AXL</td>\n",
       "      <td>1/16(1)</td>\n",
       "    </tr>\n",
       "    <tr>\n",
       "      <th>1</th>\n",
       "      <td>1</td>\n",
       "      <td>10 Jan 2000</td>\n",
       "      <td>Niederhasli, SwitzerlandCrossair</td>\n",
       "      <td>Saab 340BHB-AKK</td>\n",
       "      <td>10/10(0)</td>\n",
       "    </tr>\n",
       "    <tr>\n",
       "      <th>2</th>\n",
       "      <td>2</td>\n",
       "      <td>13 Jan 2000</td>\n",
       "      <td>Off Marsa el-Brega, LibyaAvisto</td>\n",
       "      <td>Shorts 360-300HB-AAM</td>\n",
       "      <td>22/41(0)</td>\n",
       "    </tr>\n",
       "    <tr>\n",
       "      <th>3</th>\n",
       "      <td>3</td>\n",
       "      <td>15 Jan 2000</td>\n",
       "      <td>San Jose, Costa RicaTACA</td>\n",
       "      <td>Let 410UVP-EYS-09-C</td>\n",
       "      <td>5/20(0)</td>\n",
       "    </tr>\n",
       "    <tr>\n",
       "      <th>4</th>\n",
       "      <td>4</td>\n",
       "      <td>30 Jan 2000</td>\n",
       "      <td>Off Abidjan, Ivory CoastKenya Airways</td>\n",
       "      <td>AirbusA310-3045Y-BEN</td>\n",
       "      <td>169/179(0)</td>\n",
       "    </tr>\n",
       "    <tr>\n",
       "      <th>...</th>\n",
       "      <td>...</td>\n",
       "      <td>...</td>\n",
       "      <td>...</td>\n",
       "      <td>...</td>\n",
       "      <td>...</td>\n",
       "    </tr>\n",
       "    <tr>\n",
       "      <th>741</th>\n",
       "      <td>12</td>\n",
       "      <td>27 Dec 2019</td>\n",
       "      <td>Almaty, KazakhstanBek Air</td>\n",
       "      <td>Fokker 100UP-F100</td>\n",
       "      <td>12/98(0)</td>\n",
       "    </tr>\n",
       "    <tr>\n",
       "      <th>742</th>\n",
       "      <td>0</td>\n",
       "      <td>02 Jan 2020</td>\n",
       "      <td>Geneina, SudanSudanese Air Force</td>\n",
       "      <td>Antonov An12-A?</td>\n",
       "      <td>18/18(?)</td>\n",
       "    </tr>\n",
       "    <tr>\n",
       "      <th>743</th>\n",
       "      <td>1</td>\n",
       "      <td>08 Jan 2020</td>\n",
       "      <td>Near Shahriah, IranUkraine International Airlines</td>\n",
       "      <td>Boeing 737-8KV WLUR-PSR</td>\n",
       "      <td>176/176(0)</td>\n",
       "    </tr>\n",
       "    <tr>\n",
       "      <th>744</th>\n",
       "      <td>2</td>\n",
       "      <td>05 Feb 2020</td>\n",
       "      <td>Istanbul, TurkeyPegasus Airlines</td>\n",
       "      <td>Boeing 737-86JTC-IZK</td>\n",
       "      <td>3/177(0)</td>\n",
       "    </tr>\n",
       "    <tr>\n",
       "      <th>745</th>\n",
       "      <td>3</td>\n",
       "      <td>29 Mar 2020</td>\n",
       "      <td>Manila, PhilippinesLion Air Inc.</td>\n",
       "      <td>IAI 1124A Westwind IIRP-C5880</td>\n",
       "      <td>8/8(0)</td>\n",
       "    </tr>\n",
       "  </tbody>\n",
       "</table>\n",
       "<p>746 rows × 5 columns</p>\n",
       "</div>"
      ],
      "text/plain": [
       "     Unnamed: 0         Date  \\\n",
       "0             0  05 Jan 2000   \n",
       "1             1  10 Jan 2000   \n",
       "2             2  13 Jan 2000   \n",
       "3             3  15 Jan 2000   \n",
       "4             4  30 Jan 2000   \n",
       "..          ...          ...   \n",
       "741          12  27 Dec 2019   \n",
       "742           0  02 Jan 2020   \n",
       "743           1  08 Jan 2020   \n",
       "744           2  05 Feb 2020   \n",
       "745           3  29 Mar 2020   \n",
       "\n",
       "                                   Location / Operator  \\\n",
       "0               Abuja, NigeriaSkypower Express Airways   \n",
       "1                     Niederhasli, SwitzerlandCrossair   \n",
       "2                      Off Marsa el-Brega, LibyaAvisto   \n",
       "3                             San Jose, Costa RicaTACA   \n",
       "4                Off Abidjan, Ivory CoastKenya Airways   \n",
       "..                                                 ...   \n",
       "741                          Almaty, KazakhstanBek Air   \n",
       "742                   Geneina, SudanSudanese Air Force   \n",
       "743  Near Shahriah, IranUkraine International Airlines   \n",
       "744                   Istanbul, TurkeyPegasus Airlines   \n",
       "745                   Manila, PhilippinesLion Air Inc.   \n",
       "\n",
       "         Aircraft Type / Registration  Fatalities  \n",
       "0    Embraer 110P1A Bandeirante5N-AXL     1/16(1)  \n",
       "1                     Saab 340BHB-AKK    10/10(0)  \n",
       "2                Shorts 360-300HB-AAM    22/41(0)  \n",
       "3                 Let 410UVP-EYS-09-C     5/20(0)  \n",
       "4                AirbusA310-3045Y-BEN  169/179(0)  \n",
       "..                                ...         ...  \n",
       "741                 Fokker 100UP-F100    12/98(0)  \n",
       "742                   Antonov An12-A?    18/18(?)  \n",
       "743           Boeing 737-8KV WLUR-PSR  176/176(0)  \n",
       "744              Boeing 737-86JTC-IZK    3/177(0)  \n",
       "745     IAI 1124A Westwind IIRP-C5880      8/8(0)  \n",
       "\n",
       "[746 rows x 5 columns]"
      ]
     },
     "execution_count": 104,
     "metadata": {},
     "output_type": "execute_result"
    }
   ],
   "source": [
    "#First 10 entries in the dataset \n",
    "df1"
   ]
  },
  {
   "cell_type": "code",
   "execution_count": 105,
   "metadata": {},
   "outputs": [
    {
     "data": {
      "text/html": [
       "<div>\n",
       "<style scoped>\n",
       "    .dataframe tbody tr th:only-of-type {\n",
       "        vertical-align: middle;\n",
       "    }\n",
       "\n",
       "    .dataframe tbody tr th {\n",
       "        vertical-align: top;\n",
       "    }\n",
       "\n",
       "    .dataframe thead th {\n",
       "        text-align: right;\n",
       "    }\n",
       "</style>\n",
       "<table border=\"1\" class=\"dataframe\">\n",
       "  <thead>\n",
       "    <tr style=\"text-align: right;\">\n",
       "      <th></th>\n",
       "      <th>Unnamed: 0</th>\n",
       "      <th>Date</th>\n",
       "      <th>Location / Operator</th>\n",
       "      <th>Aircraft Type / Registration</th>\n",
       "      <th>Fatalities</th>\n",
       "    </tr>\n",
       "  </thead>\n",
       "  <tbody>\n",
       "    <tr>\n",
       "      <th>10</th>\n",
       "      <td>10</td>\n",
       "      <td>17 Mar 2000</td>\n",
       "      <td>Near Kuna Yala, PanamaAeroperlas</td>\n",
       "      <td>de Havilland Canada DHC-6 Twin Otter 300HP-126...</td>\n",
       "      <td>10/10(0)</td>\n",
       "    </tr>\n",
       "    <tr>\n",
       "      <th>11</th>\n",
       "      <td>11</td>\n",
       "      <td>17 Mar 2000</td>\n",
       "      <td>Ennadai Lake, CanadaPoints North Air Services</td>\n",
       "      <td>Douglas C-47A-5-DKC-FNTF</td>\n",
       "      <td>2/2(0)</td>\n",
       "    </tr>\n",
       "    <tr>\n",
       "      <th>12</th>\n",
       "      <td>12</td>\n",
       "      <td>22 Mar 2000</td>\n",
       "      <td>Herreira, SpainMilitary - Ejército del Aire</td>\n",
       "      <td>CASA 212-DE Aviocar 200TM-12D-73</td>\n",
       "      <td>7/7(0)</td>\n",
       "    </tr>\n",
       "    <tr>\n",
       "      <th>13</th>\n",
       "      <td>13</td>\n",
       "      <td>24 Mar 2000</td>\n",
       "      <td>Kadirana, Sri LankaSky Cabs</td>\n",
       "      <td>Antonov AN-12 (freighter)RA-11302</td>\n",
       "      <td>6/8(2)</td>\n",
       "    </tr>\n",
       "    <tr>\n",
       "      <th>14</th>\n",
       "      <td>14</td>\n",
       "      <td>25 Mar 2000</td>\n",
       "      <td>Huambo, AngolaUralex</td>\n",
       "      <td>Antonov AN-32D2-MAJ</td>\n",
       "      <td>3/33(0)</td>\n",
       "    </tr>\n",
       "    <tr>\n",
       "      <th>...</th>\n",
       "      <td>...</td>\n",
       "      <td>...</td>\n",
       "      <td>...</td>\n",
       "      <td>...</td>\n",
       "      <td>...</td>\n",
       "    </tr>\n",
       "    <tr>\n",
       "      <th>741</th>\n",
       "      <td>12</td>\n",
       "      <td>27 Dec 2019</td>\n",
       "      <td>Almaty, KazakhstanBek Air</td>\n",
       "      <td>Fokker 100UP-F100</td>\n",
       "      <td>12/98(0)</td>\n",
       "    </tr>\n",
       "    <tr>\n",
       "      <th>742</th>\n",
       "      <td>0</td>\n",
       "      <td>02 Jan 2020</td>\n",
       "      <td>Geneina, SudanSudanese Air Force</td>\n",
       "      <td>Antonov An12-A?</td>\n",
       "      <td>18/18(?)</td>\n",
       "    </tr>\n",
       "    <tr>\n",
       "      <th>743</th>\n",
       "      <td>1</td>\n",
       "      <td>08 Jan 2020</td>\n",
       "      <td>Near Shahriah, IranUkraine International Airlines</td>\n",
       "      <td>Boeing 737-8KV WLUR-PSR</td>\n",
       "      <td>176/176(0)</td>\n",
       "    </tr>\n",
       "    <tr>\n",
       "      <th>744</th>\n",
       "      <td>2</td>\n",
       "      <td>05 Feb 2020</td>\n",
       "      <td>Istanbul, TurkeyPegasus Airlines</td>\n",
       "      <td>Boeing 737-86JTC-IZK</td>\n",
       "      <td>3/177(0)</td>\n",
       "    </tr>\n",
       "    <tr>\n",
       "      <th>745</th>\n",
       "      <td>3</td>\n",
       "      <td>29 Mar 2020</td>\n",
       "      <td>Manila, PhilippinesLion Air Inc.</td>\n",
       "      <td>IAI 1124A Westwind IIRP-C5880</td>\n",
       "      <td>8/8(0)</td>\n",
       "    </tr>\n",
       "  </tbody>\n",
       "</table>\n",
       "<p>736 rows × 5 columns</p>\n",
       "</div>"
      ],
      "text/plain": [
       "     Unnamed: 0         Date  \\\n",
       "10           10  17 Mar 2000   \n",
       "11           11  17 Mar 2000   \n",
       "12           12  22 Mar 2000   \n",
       "13           13  24 Mar 2000   \n",
       "14           14  25 Mar 2000   \n",
       "..          ...          ...   \n",
       "741          12  27 Dec 2019   \n",
       "742           0  02 Jan 2020   \n",
       "743           1  08 Jan 2020   \n",
       "744           2  05 Feb 2020   \n",
       "745           3  29 Mar 2020   \n",
       "\n",
       "                                   Location / Operator  \\\n",
       "10                    Near Kuna Yala, PanamaAeroperlas   \n",
       "11       Ennadai Lake, CanadaPoints North Air Services   \n",
       "12         Herreira, SpainMilitary - Ejército del Aire   \n",
       "13                         Kadirana, Sri LankaSky Cabs   \n",
       "14                                Huambo, AngolaUralex   \n",
       "..                                                 ...   \n",
       "741                          Almaty, KazakhstanBek Air   \n",
       "742                   Geneina, SudanSudanese Air Force   \n",
       "743  Near Shahriah, IranUkraine International Airlines   \n",
       "744                   Istanbul, TurkeyPegasus Airlines   \n",
       "745                   Manila, PhilippinesLion Air Inc.   \n",
       "\n",
       "                          Aircraft Type / Registration  Fatalities  \n",
       "10   de Havilland Canada DHC-6 Twin Otter 300HP-126...    10/10(0)  \n",
       "11                            Douglas C-47A-5-DKC-FNTF      2/2(0)  \n",
       "12                    CASA 212-DE Aviocar 200TM-12D-73      7/7(0)  \n",
       "13                   Antonov AN-12 (freighter)RA-11302      6/8(2)  \n",
       "14                                 Antonov AN-32D2-MAJ     3/33(0)  \n",
       "..                                                 ...         ...  \n",
       "741                                  Fokker 100UP-F100    12/98(0)  \n",
       "742                                    Antonov An12-A?    18/18(?)  \n",
       "743                            Boeing 737-8KV WLUR-PSR  176/176(0)  \n",
       "744                               Boeing 737-86JTC-IZK    3/177(0)  \n",
       "745                      IAI 1124A Westwind IIRP-C5880      8/8(0)  \n",
       "\n",
       "[736 rows x 5 columns]"
      ]
     },
     "execution_count": 105,
     "metadata": {},
     "output_type": "execute_result"
    }
   ],
   "source": [
    "#Last 10 entries in the dataset\n",
    "df1[10:]"
   ]
  },
  {
   "cell_type": "code",
   "execution_count": 106,
   "metadata": {},
   "outputs": [
    {
     "data": {
      "text/plain": [
       "(746, 5)"
      ]
     },
     "execution_count": 106,
     "metadata": {},
     "output_type": "execute_result"
    }
   ],
   "source": [
    "#To know the shape of the data (In this data frame Rows = 746,columns = 4)\n",
    "df1.shape"
   ]
  },
  {
   "cell_type": "code",
   "execution_count": 107,
   "metadata": {
    "colab": {},
    "colab_type": "code",
    "id": "HgYFvtmd9U0w"
   },
   "outputs": [
    {
     "data": {
      "text/plain": [
       "Index(['Unnamed: 0', 'Date', 'Location / Operator',\n",
       "       'Aircraft Type / Registration', 'Fatalities'],\n",
       "      dtype='object')"
      ]
     },
     "execution_count": 107,
     "metadata": {},
     "output_type": "execute_result"
    }
   ],
   "source": [
    "#To know the columns name in the data frame\n",
    "df1.columns"
   ]
  },
  {
   "cell_type": "code",
   "execution_count": 108,
   "metadata": {},
   "outputs": [
    {
     "data": {
      "text/plain": [
       "Unnamed: 0                       int64\n",
       "Date                            object\n",
       "Location / Operator             object\n",
       "Aircraft Type / Registration    object\n",
       "Fatalities                      object\n",
       "dtype: object"
      ]
     },
     "execution_count": 108,
     "metadata": {},
     "output_type": "execute_result"
    }
   ],
   "source": [
    "#Datatypes of each column\n",
    "df1.dtypes"
   ]
  },
  {
   "cell_type": "code",
   "execution_count": 109,
   "metadata": {},
   "outputs": [
    {
     "data": {
      "text/html": [
       "<div>\n",
       "<style scoped>\n",
       "    .dataframe tbody tr th:only-of-type {\n",
       "        vertical-align: middle;\n",
       "    }\n",
       "\n",
       "    .dataframe tbody tr th {\n",
       "        vertical-align: top;\n",
       "    }\n",
       "\n",
       "    .dataframe thead th {\n",
       "        text-align: right;\n",
       "    }\n",
       "</style>\n",
       "<table border=\"1\" class=\"dataframe\">\n",
       "  <thead>\n",
       "    <tr style=\"text-align: right;\">\n",
       "      <th></th>\n",
       "      <th>Unnamed: 0</th>\n",
       "      <th>Date</th>\n",
       "      <th>Location / Operator</th>\n",
       "      <th>Aircraft Type / Registration</th>\n",
       "      <th>Fatalities</th>\n",
       "    </tr>\n",
       "  </thead>\n",
       "  <tbody>\n",
       "    <tr>\n",
       "      <th>0</th>\n",
       "      <td>0</td>\n",
       "      <td>05 Jan 2000</td>\n",
       "      <td>Abuja, NigeriaSkypower Express Airways</td>\n",
       "      <td>Embraer 110P1A Bandeirante5N-AXL</td>\n",
       "      <td>1/16(1)</td>\n",
       "    </tr>\n",
       "    <tr>\n",
       "      <th>1</th>\n",
       "      <td>1</td>\n",
       "      <td>10 Jan 2000</td>\n",
       "      <td>Niederhasli, SwitzerlandCrossair</td>\n",
       "      <td>Saab 340BHB-AKK</td>\n",
       "      <td>10/10(0)</td>\n",
       "    </tr>\n",
       "    <tr>\n",
       "      <th>2</th>\n",
       "      <td>2</td>\n",
       "      <td>13 Jan 2000</td>\n",
       "      <td>Off Marsa el-Brega, LibyaAvisto</td>\n",
       "      <td>Shorts 360-300HB-AAM</td>\n",
       "      <td>22/41(0)</td>\n",
       "    </tr>\n",
       "    <tr>\n",
       "      <th>3</th>\n",
       "      <td>3</td>\n",
       "      <td>15 Jan 2000</td>\n",
       "      <td>San Jose, Costa RicaTACA</td>\n",
       "      <td>Let 410UVP-EYS-09-C</td>\n",
       "      <td>5/20(0)</td>\n",
       "    </tr>\n",
       "    <tr>\n",
       "      <th>4</th>\n",
       "      <td>4</td>\n",
       "      <td>30 Jan 2000</td>\n",
       "      <td>Off Abidjan, Ivory CoastKenya Airways</td>\n",
       "      <td>AirbusA310-3045Y-BEN</td>\n",
       "      <td>169/179(0)</td>\n",
       "    </tr>\n",
       "  </tbody>\n",
       "</table>\n",
       "</div>"
      ],
      "text/plain": [
       "   Unnamed: 0         Date                     Location / Operator  \\\n",
       "0           0  05 Jan 2000  Abuja, NigeriaSkypower Express Airways   \n",
       "1           1  10 Jan 2000        Niederhasli, SwitzerlandCrossair   \n",
       "2           2  13 Jan 2000         Off Marsa el-Brega, LibyaAvisto   \n",
       "3           3  15 Jan 2000                San Jose, Costa RicaTACA   \n",
       "4           4  30 Jan 2000   Off Abidjan, Ivory CoastKenya Airways   \n",
       "\n",
       "       Aircraft Type / Registration  Fatalities  \n",
       "0  Embraer 110P1A Bandeirante5N-AXL     1/16(1)  \n",
       "1                   Saab 340BHB-AKK    10/10(0)  \n",
       "2              Shorts 360-300HB-AAM    22/41(0)  \n",
       "3               Let 410UVP-EYS-09-C     5/20(0)  \n",
       "4              AirbusA310-3045Y-BEN  169/179(0)  "
      ]
     },
     "execution_count": 109,
     "metadata": {},
     "output_type": "execute_result"
    }
   ],
   "source": [
    "df1.head()"
   ]
  },
  {
   "cell_type": "code",
   "execution_count": 110,
   "metadata": {},
   "outputs": [],
   "source": [
    "df1 = df1.drop(['Unnamed: 0'], axis=1)"
   ]
  },
  {
   "cell_type": "markdown",
   "metadata": {
    "colab_type": "text",
    "id": "uQoK6ypD9W0C"
   },
   "source": [
    "# 2. Clean the data and arrange it into a DataFrame that contains the following columns\n",
    "\n",
    "- Day [ Day of the month ]\n",
    "- Month\n",
    "- Year\n",
    "- Location\n",
    "- Operator\n",
    "- Aircraft Type\n",
    "- Total Passengers\n",
    "- Casualties\n",
    "- Ground Casualties\n",
    "\n",
    "Make sure each column contains data with its appropriate datatype.\n",
    "\n",
    "To study more details about what each field in the HTML represents, you can read through this sample data at : http://www.planecrashinfo.com/2014/2014-15.htm"
   ]
  },
  {
   "cell_type": "code",
   "execution_count": 111,
   "metadata": {
    "colab": {},
    "colab_type": "code",
    "id": "Pl-b4hQh9zhD"
   },
   "outputs": [],
   "source": [
    "#Making list of Each  coluumns\n",
    "data1 = df1['Date'].tolist()\n",
    "data2 = df1['Location / Operator'].tolist()\n",
    "data3 = df1['Aircraft Type / Registration'].tolist()\n",
    "data4 = df1['Fatalities'].tolist()"
   ]
  },
  {
   "cell_type": "code",
   "execution_count": 112,
   "metadata": {
    "colab": {},
    "colab_type": "code",
    "id": "Pl-b4hQh9zhD"
   },
   "outputs": [],
   "source": [
    "#Extracting the reqired data from the list and appending in to new list\n",
    "Day = []\n",
    "Month = []\n",
    "Year = []\n",
    "for i in data1:\n",
    "    splt = i.split(' ')\n",
    "    day = Day.append(splt[0])\n",
    "    mont = Month.append(splt[1])\n",
    "    year = Year.append(splt[2])"
   ]
  },
  {
   "cell_type": "code",
   "execution_count": 113,
   "metadata": {},
   "outputs": [],
   "source": [
    "#Extracting the reqired data from the list and appending in to new list\n",
    "Location = []\n",
    "Operator = []\n",
    "for i in data2:\n",
    "    locn = get_location(i)\n",
    "    locn = Location.append(locn)\n",
    "    opt = get_airline_name(i)\n",
    "    opt = Operator.append(opt)"
   ]
  },
  {
   "cell_type": "code",
   "execution_count": 114,
   "metadata": {},
   "outputs": [],
   "source": [
    "#Extracting the reqired data from the list and appending in to new list\n",
    "Aircraft_Type = []\n",
    "for i in data3:\n",
    "    air_typ = get_aircraft_type(i)\n",
    "    aor_typ = Aircraft_Type.append(air_typ)"
   ]
  },
  {
   "cell_type": "code",
   "execution_count": 115,
   "metadata": {},
   "outputs": [],
   "source": [
    "#Extracting the reqired data from the list and appending in to new list\n",
    "Total_Passengers = []\n",
    "Casualties = []\n",
    "Ground_Casualties = []\n",
    "for i in data4:\n",
    "    pasn = get_passengers(i)\n",
    "    pasn = int(pasn)\n",
    "    pasn = Total_Passengers.append(pasn)\n",
    "    casu = get_casualties(i)\n",
    "    casu = int(casu)\n",
    "    casu = Casualties.append(casu)\n",
    "    gcas = get_ground_casualties(i)\n",
    "    if len(gcas) < 5:\n",
    "        gcas = int(gcas)\n",
    "        gcas = Ground_Casualties.append(gcas)\n",
    "    elif len(gcas) > 5:\n",
    "        gcas = 0\n",
    "        gcas = Ground_Casualties.append(gcas)"
   ]
  },
  {
   "cell_type": "code",
   "execution_count": 116,
   "metadata": {},
   "outputs": [],
   "source": [
    "df = pd.DataFrame({'Day' : Day,\n",
    "                   'Month' : Month,\n",
    "                   'Year' : Year,\n",
    "                   'Location' : Location,\n",
    "                   'Operator' : Operator,\n",
    "                   'Aircraft Type' : Aircraft_Type,\n",
    "                   'Total Passengers' : Total_Passengers,\n",
    "                   'Casualties' : Casualties,\n",
    "                   'Ground Casualties' : Ground_Casualties\n",
    "                  })"
   ]
  },
  {
   "cell_type": "code",
   "execution_count": 117,
   "metadata": {},
   "outputs": [],
   "source": [
    "Total_Casualties = []\n",
    "for i in range(0, len(Casualties)): \n",
    "    Total_Casualties.append(add(Casualties[i], Ground_Casualties[i]))"
   ]
  },
  {
   "cell_type": "code",
   "execution_count": 118,
   "metadata": {},
   "outputs": [],
   "source": [
    "df['Total Casualties'] = Total_Casualties"
   ]
  },
  {
   "cell_type": "code",
   "execution_count": 119,
   "metadata": {},
   "outputs": [
    {
     "data": {
      "text/html": [
       "<div>\n",
       "<style scoped>\n",
       "    .dataframe tbody tr th:only-of-type {\n",
       "        vertical-align: middle;\n",
       "    }\n",
       "\n",
       "    .dataframe tbody tr th {\n",
       "        vertical-align: top;\n",
       "    }\n",
       "\n",
       "    .dataframe thead th {\n",
       "        text-align: right;\n",
       "    }\n",
       "</style>\n",
       "<table border=\"1\" class=\"dataframe\">\n",
       "  <thead>\n",
       "    <tr style=\"text-align: right;\">\n",
       "      <th></th>\n",
       "      <th>Day</th>\n",
       "      <th>Month</th>\n",
       "      <th>Year</th>\n",
       "      <th>Location</th>\n",
       "      <th>Operator</th>\n",
       "      <th>Aircraft Type</th>\n",
       "      <th>Total Passengers</th>\n",
       "      <th>Casualties</th>\n",
       "      <th>Ground Casualties</th>\n",
       "      <th>Total Casualties</th>\n",
       "    </tr>\n",
       "  </thead>\n",
       "  <tbody>\n",
       "    <tr>\n",
       "      <th>0</th>\n",
       "      <td>05</td>\n",
       "      <td>Jan</td>\n",
       "      <td>2000</td>\n",
       "      <td>Abuja, Nigeria</td>\n",
       "      <td>Skypower Express Airways</td>\n",
       "      <td>Embraer 110P1A</td>\n",
       "      <td>16</td>\n",
       "      <td>1</td>\n",
       "      <td>1</td>\n",
       "      <td>2</td>\n",
       "    </tr>\n",
       "    <tr>\n",
       "      <th>1</th>\n",
       "      <td>10</td>\n",
       "      <td>Jan</td>\n",
       "      <td>2000</td>\n",
       "      <td>Niederhasli, Switzerland</td>\n",
       "      <td>Crossair</td>\n",
       "      <td>Saab</td>\n",
       "      <td>10</td>\n",
       "      <td>10</td>\n",
       "      <td>0</td>\n",
       "      <td>10</td>\n",
       "    </tr>\n",
       "    <tr>\n",
       "      <th>2</th>\n",
       "      <td>13</td>\n",
       "      <td>Jan</td>\n",
       "      <td>2000</td>\n",
       "      <td>Off Marsa el-Brega, Libya</td>\n",
       "      <td>Avisto</td>\n",
       "      <td>Shorts</td>\n",
       "      <td>41</td>\n",
       "      <td>22</td>\n",
       "      <td>0</td>\n",
       "      <td>22</td>\n",
       "    </tr>\n",
       "    <tr>\n",
       "      <th>3</th>\n",
       "      <td>15</td>\n",
       "      <td>Jan</td>\n",
       "      <td>2000</td>\n",
       "      <td>San Jose, Costa Rica</td>\n",
       "      <td>TACA</td>\n",
       "      <td>Let</td>\n",
       "      <td>20</td>\n",
       "      <td>5</td>\n",
       "      <td>0</td>\n",
       "      <td>5</td>\n",
       "    </tr>\n",
       "    <tr>\n",
       "      <th>4</th>\n",
       "      <td>30</td>\n",
       "      <td>Jan</td>\n",
       "      <td>2000</td>\n",
       "      <td>Off Abidjan, Ivory Coast</td>\n",
       "      <td>Kenya Airways</td>\n",
       "      <td>AirbusA310-3045Y-BEN</td>\n",
       "      <td>179</td>\n",
       "      <td>169</td>\n",
       "      <td>0</td>\n",
       "      <td>169</td>\n",
       "    </tr>\n",
       "    <tr>\n",
       "      <th>...</th>\n",
       "      <td>...</td>\n",
       "      <td>...</td>\n",
       "      <td>...</td>\n",
       "      <td>...</td>\n",
       "      <td>...</td>\n",
       "      <td>...</td>\n",
       "      <td>...</td>\n",
       "      <td>...</td>\n",
       "      <td>...</td>\n",
       "      <td>...</td>\n",
       "    </tr>\n",
       "    <tr>\n",
       "      <th>741</th>\n",
       "      <td>27</td>\n",
       "      <td>Dec</td>\n",
       "      <td>2019</td>\n",
       "      <td>Almaty, Kazakhstan</td>\n",
       "      <td>Bek Air</td>\n",
       "      <td>Fokker</td>\n",
       "      <td>98</td>\n",
       "      <td>12</td>\n",
       "      <td>0</td>\n",
       "      <td>12</td>\n",
       "    </tr>\n",
       "    <tr>\n",
       "      <th>742</th>\n",
       "      <td>02</td>\n",
       "      <td>Jan</td>\n",
       "      <td>2020</td>\n",
       "      <td>Geneina, Sudan</td>\n",
       "      <td>Sudanese Air Force</td>\n",
       "      <td>Antonov</td>\n",
       "      <td>18</td>\n",
       "      <td>18</td>\n",
       "      <td>0</td>\n",
       "      <td>18</td>\n",
       "    </tr>\n",
       "    <tr>\n",
       "      <th>743</th>\n",
       "      <td>08</td>\n",
       "      <td>Jan</td>\n",
       "      <td>2020</td>\n",
       "      <td>Near Shahriah, Iran</td>\n",
       "      <td>Ukraine International Airlines</td>\n",
       "      <td>Boeing 737-8KV</td>\n",
       "      <td>176</td>\n",
       "      <td>176</td>\n",
       "      <td>0</td>\n",
       "      <td>176</td>\n",
       "    </tr>\n",
       "    <tr>\n",
       "      <th>744</th>\n",
       "      <td>05</td>\n",
       "      <td>Feb</td>\n",
       "      <td>2020</td>\n",
       "      <td>Istanbul, Turkey</td>\n",
       "      <td>Pegasus Airlines</td>\n",
       "      <td>Boeing</td>\n",
       "      <td>177</td>\n",
       "      <td>3</td>\n",
       "      <td>0</td>\n",
       "      <td>3</td>\n",
       "    </tr>\n",
       "    <tr>\n",
       "      <th>745</th>\n",
       "      <td>29</td>\n",
       "      <td>Mar</td>\n",
       "      <td>2020</td>\n",
       "      <td>Manila, Philippines</td>\n",
       "      <td>Lion Air Inc.</td>\n",
       "      <td>IAI 1124A Westwind</td>\n",
       "      <td>8</td>\n",
       "      <td>8</td>\n",
       "      <td>0</td>\n",
       "      <td>8</td>\n",
       "    </tr>\n",
       "  </tbody>\n",
       "</table>\n",
       "<p>746 rows × 10 columns</p>\n",
       "</div>"
      ],
      "text/plain": [
       "    Day Month  Year                   Location  \\\n",
       "0    05   Jan  2000             Abuja, Nigeria   \n",
       "1    10   Jan  2000   Niederhasli, Switzerland   \n",
       "2    13   Jan  2000  Off Marsa el-Brega, Libya   \n",
       "3    15   Jan  2000       San Jose, Costa Rica   \n",
       "4    30   Jan  2000   Off Abidjan, Ivory Coast   \n",
       "..   ..   ...   ...                        ...   \n",
       "741  27   Dec  2019         Almaty, Kazakhstan   \n",
       "742  02   Jan  2020             Geneina, Sudan   \n",
       "743  08   Jan  2020        Near Shahriah, Iran   \n",
       "744  05   Feb  2020           Istanbul, Turkey   \n",
       "745  29   Mar  2020        Manila, Philippines   \n",
       "\n",
       "                           Operator         Aircraft Type  Total Passengers  \\\n",
       "0          Skypower Express Airways        Embraer 110P1A                16   \n",
       "1                          Crossair                  Saab                10   \n",
       "2                            Avisto                Shorts                41   \n",
       "3                              TACA                   Let                20   \n",
       "4                     Kenya Airways  AirbusA310-3045Y-BEN               179   \n",
       "..                              ...                   ...               ...   \n",
       "741                         Bek Air                Fokker                98   \n",
       "742              Sudanese Air Force               Antonov                18   \n",
       "743  Ukraine International Airlines        Boeing 737-8KV               176   \n",
       "744                Pegasus Airlines                Boeing               177   \n",
       "745                   Lion Air Inc.    IAI 1124A Westwind                 8   \n",
       "\n",
       "     Casualties  Ground Casualties  Total Casualties  \n",
       "0             1                  1                 2  \n",
       "1            10                  0                10  \n",
       "2            22                  0                22  \n",
       "3             5                  0                 5  \n",
       "4           169                  0               169  \n",
       "..          ...                ...               ...  \n",
       "741          12                  0                12  \n",
       "742          18                  0                18  \n",
       "743         176                  0               176  \n",
       "744           3                  0                 3  \n",
       "745           8                  0                 8  \n",
       "\n",
       "[746 rows x 10 columns]"
      ]
     },
     "execution_count": 119,
     "metadata": {},
     "output_type": "execute_result"
    }
   ],
   "source": [
    "df"
   ]
  },
  {
   "cell_type": "code",
   "execution_count": 132,
   "metadata": {},
   "outputs": [
    {
     "name": "stdout",
     "output_type": "stream",
     "text": [
      "<class 'pandas.core.frame.DataFrame'>\n",
      "RangeIndex: 746 entries, 0 to 745\n",
      "Data columns (total 10 columns):\n",
      " #   Column             Non-Null Count  Dtype \n",
      "---  ------             --------------  ----- \n",
      " 0   Day                746 non-null    object\n",
      " 1   Month              746 non-null    object\n",
      " 2   Year               746 non-null    object\n",
      " 3   Location           746 non-null    object\n",
      " 4   Operator           746 non-null    object\n",
      " 5   Aircraft Type      746 non-null    object\n",
      " 6   Total Passengers   746 non-null    int64 \n",
      " 7   Casualties         746 non-null    int64 \n",
      " 8   Ground Casualties  746 non-null    int64 \n",
      " 9   Total Casualties   746 non-null    int64 \n",
      "dtypes: int64(4), object(6)\n",
      "memory usage: 40.9+ KB\n"
     ]
    }
   ],
   "source": [
    "df.info()"
   ]
  },
  {
   "cell_type": "markdown",
   "metadata": {
    "colab_type": "text",
    "id": "DBm1xA6rwE34"
   },
   "source": [
    "# 3. Display a graph for number of crashes every year\n",
    "\n",
    "- Do you see any trend ?\n",
    "- Has airplane transportation become any safer over the last 20 years ?\n",
    "\n",
    "\n",
    "\n"
   ]
  },
  {
   "cell_type": "code",
   "execution_count": 143,
   "metadata": {},
   "outputs": [
    {
     "data": {
      "text/plain": [
       "Year\n",
       "2000    63\n",
       "2001    58\n",
       "2002    55\n",
       "2003    62\n",
       "2004    46\n",
       "2005    45\n",
       "2006    38\n",
       "2007    43\n",
       "2008    51\n",
       "2009    46\n",
       "2010    40\n",
       "2011    36\n",
       "2012    26\n",
       "2013    25\n",
       "2014    23\n",
       "2015    18\n",
       "2016    23\n",
       "2017    15\n",
       "2018    16\n",
       "2019    13\n",
       "2020     4\n",
       "Name: Casualties, dtype: int64"
      ]
     },
     "execution_count": 143,
     "metadata": {},
     "output_type": "execute_result"
    },
    {
     "data": {
      "image/png": "[encoded data removed]",
      "text/plain": [
       "<Figure size 1080x1440 with 1 Axes>"
      ]
     },
     "metadata": {},
     "output_type": "display_data"
    }
   ],
   "source": [
    "crash =df.groupby('Year').count()\n",
    "df.set_index('Year').sort_index(ascending=False).plot( kind='barh', figsize=(15, 20))\n",
    "crash =df.groupby('Year').count()\n",
    "crash['Casualties']\n",
    "#crash['Casualties']"
   ]
  },
  {
   "cell_type": "code",
   "execution_count": 144,
   "metadata": {},
   "outputs": [
    {
     "data": {
      "image/png": "[encoded data removed]",
      "text/plain": [
       "<Figure size 432x288 with 1 Axes>"
      ]
     },
     "metadata": {},
     "output_type": "display_data"
    }
   ],
   "source": [
    "plt.plot(crash)\n",
    "plt.show()"
   ]
  },
  {
   "cell_type": "code",
   "execution_count": 121,
   "metadata": {},
   "outputs": [
    {
     "data": {
      "image/png": "[encoded data removed]",
      "text/plain": [
       "<Figure size 432x288 with 1 Axes>"
      ]
     },
     "metadata": {},
     "output_type": "display_data"
    }
   ],
   "source": [
    "_ = df['Casualties'].plot()"
   ]
  },
  {
   "cell_type": "code",
   "execution_count": 122,
   "metadata": {},
   "outputs": [
    {
     "data": {
      "image/png": "[encoded data removed]",
      "text/plain": [
       "<Figure size 432x288 with 1 Axes>"
      ]
     },
     "metadata": {},
     "output_type": "display_data"
    }
   ],
   "source": [
    "sns.set()\n",
    "\n",
    "_ = df['Casualties'].plot(kind='hist')\n",
    "\n",
    "_ = plt.xlabel('No of cases')\n",
    "_ = plt.ylabel('Frequency')"
   ]
  },
  {
   "cell_type": "code",
   "execution_count": 123,
   "metadata": {
    "colab": {},
    "colab_type": "code",
    "id": "rpMCUUM6wjw0"
   },
   "outputs": [
    {
     "data": {
      "text/plain": [
       "<matplotlib.legend.Legend at 0x13ef1370>"
      ]
     },
     "execution_count": 123,
     "metadata": {},
     "output_type": "execute_result"
    },
    {
     "data": {
      "image/png": "[encoded data removed]",
      "text/plain": [
       "<Figure size 1440x432 with 1 Axes>"
      ]
     },
     "metadata": {},
     "output_type": "display_data"
    }
   ],
   "source": [
    "plt.figure(figsize=(20, 6))\n",
    "x_vals, y_vals = ecdf(df['Casualties'])\n",
    "\n",
    "plt.plot(x_vals, y_vals, marker='.', ls='none', label=\"Deths\")\n",
    "\n",
    "_ = plt.xlabel('No of cases')\n",
    "_ = plt.ylabel('ECDF')\n",
    "plt.legend()"
   ]
  },
  {
   "cell_type": "code",
   "execution_count": 124,
   "metadata": {
    "colab": {},
    "colab_type": "code",
    "id": "b4Q77-jlwjuG"
   },
   "outputs": [
    {
     "data": {
      "image/png": "[encoded data removed]",
      "text/plain": [
       "<Figure size 432x288 with 1 Axes>"
      ]
     },
     "metadata": {},
     "output_type": "display_data"
    }
   ],
   "source": [
    "x = df['Year']\n",
    "y = df['Casualties']\n",
    "plt.scatter(x,y, label='skitscat',color='k',s=25, marker = 'o')\n",
    "\n",
    "plt.xlabel('Years')\n",
    "plt.ylabel(\"No of Deth's\")\n",
    "\n",
    "plt.title('Scatter Plot')\n",
    "plt.legend()\n",
    "#plt.grid(True,color='k')\n",
    "plt.show()"
   ]
  },
  {
   "cell_type": "code",
   "execution_count": 125,
   "metadata": {
    "colab": {},
    "colab_type": "code",
    "id": "-7XdxclZwjo7"
   },
   "outputs": [
    {
     "data": {
      "image/png": "[encoded data removed]",
      "text/plain": [
       "<Figure size 432x288 with 1 Axes>"
      ]
     },
     "metadata": {},
     "output_type": "display_data"
    }
   ],
   "source": [
    "x = df['Year']\n",
    "y = df['Casualties']\n",
    "plt.scatter(x,y, label='skitscat',color='k',s=25, marker = 'o')\n",
    "\n",
    "plt.xlabel('Years')\n",
    "plt.ylabel(\"No of Deth's\")\n",
    "\n",
    "plt.title('Scatter Plot')\n",
    "plt.legend()\n",
    "#plt.grid(True,color='k')\n",
    "plt.show()"
   ]
  },
  {
   "cell_type": "code",
   "execution_count": 126,
   "metadata": {},
   "outputs": [
    {
     "data": {
      "text/plain": [
       "<pandas.core.groupby.generic.SeriesGroupBy object at 0x1441ED90>"
      ]
     },
     "execution_count": 126,
     "metadata": {},
     "output_type": "execute_result"
    }
   ],
   "source": [
    "top_case = df.groupby('Year')\n",
    "top_case['Casualties']"
   ]
  },
  {
   "cell_type": "code",
   "execution_count": 127,
   "metadata": {},
   "outputs": [
    {
     "data": {
      "image/png": "[encoded data removed]",
      "text/plain": [
       "<Figure size 720x360 with 1 Axes>"
      ]
     },
     "metadata": {},
     "output_type": "display_data"
    }
   ],
   "source": [
    "plt.figure(figsize=(10, 5))\n",
    "_ = sns.swarmplot(x='Year', y='Casualties', data=df)"
   ]
  },
  {
   "cell_type": "code",
   "execution_count": 128,
   "metadata": {},
   "outputs": [
    {
     "data": {
      "text/html": [
       "<div>\n",
       "<style scoped>\n",
       "    .dataframe tbody tr th:only-of-type {\n",
       "        vertical-align: middle;\n",
       "    }\n",
       "\n",
       "    .dataframe tbody tr th {\n",
       "        vertical-align: top;\n",
       "    }\n",
       "\n",
       "    .dataframe thead th {\n",
       "        text-align: right;\n",
       "    }\n",
       "</style>\n",
       "<table border=\"1\" class=\"dataframe\">\n",
       "  <thead>\n",
       "    <tr style=\"text-align: right;\">\n",
       "      <th></th>\n",
       "      <th>Day</th>\n",
       "      <th>Month</th>\n",
       "      <th>Year</th>\n",
       "      <th>Location</th>\n",
       "      <th>Operator</th>\n",
       "      <th>Aircraft Type</th>\n",
       "      <th>Total Passengers</th>\n",
       "      <th>Casualties</th>\n",
       "      <th>Ground Casualties</th>\n",
       "      <th>Total Casualties</th>\n",
       "    </tr>\n",
       "  </thead>\n",
       "  <tbody>\n",
       "    <tr>\n",
       "      <th>0</th>\n",
       "      <td>05</td>\n",
       "      <td>Jan</td>\n",
       "      <td>2000</td>\n",
       "      <td>Abuja, Nigeria</td>\n",
       "      <td>Skypower Express Airways</td>\n",
       "      <td>Embraer 110P1A</td>\n",
       "      <td>16</td>\n",
       "      <td>1</td>\n",
       "      <td>1</td>\n",
       "      <td>2</td>\n",
       "    </tr>\n",
       "    <tr>\n",
       "      <th>1</th>\n",
       "      <td>10</td>\n",
       "      <td>Jan</td>\n",
       "      <td>2000</td>\n",
       "      <td>Niederhasli, Switzerland</td>\n",
       "      <td>Crossair</td>\n",
       "      <td>Saab</td>\n",
       "      <td>10</td>\n",
       "      <td>10</td>\n",
       "      <td>0</td>\n",
       "      <td>10</td>\n",
       "    </tr>\n",
       "    <tr>\n",
       "      <th>2</th>\n",
       "      <td>13</td>\n",
       "      <td>Jan</td>\n",
       "      <td>2000</td>\n",
       "      <td>Off Marsa el-Brega, Libya</td>\n",
       "      <td>Avisto</td>\n",
       "      <td>Shorts</td>\n",
       "      <td>41</td>\n",
       "      <td>22</td>\n",
       "      <td>0</td>\n",
       "      <td>22</td>\n",
       "    </tr>\n",
       "    <tr>\n",
       "      <th>3</th>\n",
       "      <td>15</td>\n",
       "      <td>Jan</td>\n",
       "      <td>2000</td>\n",
       "      <td>San Jose, Costa Rica</td>\n",
       "      <td>TACA</td>\n",
       "      <td>Let</td>\n",
       "      <td>20</td>\n",
       "      <td>5</td>\n",
       "      <td>0</td>\n",
       "      <td>5</td>\n",
       "    </tr>\n",
       "    <tr>\n",
       "      <th>4</th>\n",
       "      <td>30</td>\n",
       "      <td>Jan</td>\n",
       "      <td>2000</td>\n",
       "      <td>Off Abidjan, Ivory Coast</td>\n",
       "      <td>Kenya Airways</td>\n",
       "      <td>AirbusA310-3045Y-BEN</td>\n",
       "      <td>179</td>\n",
       "      <td>169</td>\n",
       "      <td>0</td>\n",
       "      <td>169</td>\n",
       "    </tr>\n",
       "    <tr>\n",
       "      <th>...</th>\n",
       "      <td>...</td>\n",
       "      <td>...</td>\n",
       "      <td>...</td>\n",
       "      <td>...</td>\n",
       "      <td>...</td>\n",
       "      <td>...</td>\n",
       "      <td>...</td>\n",
       "      <td>...</td>\n",
       "      <td>...</td>\n",
       "      <td>...</td>\n",
       "    </tr>\n",
       "    <tr>\n",
       "      <th>741</th>\n",
       "      <td>27</td>\n",
       "      <td>Dec</td>\n",
       "      <td>2019</td>\n",
       "      <td>Almaty, Kazakhstan</td>\n",
       "      <td>Bek Air</td>\n",
       "      <td>Fokker</td>\n",
       "      <td>98</td>\n",
       "      <td>12</td>\n",
       "      <td>0</td>\n",
       "      <td>12</td>\n",
       "    </tr>\n",
       "    <tr>\n",
       "      <th>742</th>\n",
       "      <td>02</td>\n",
       "      <td>Jan</td>\n",
       "      <td>2020</td>\n",
       "      <td>Geneina, Sudan</td>\n",
       "      <td>Sudanese Air Force</td>\n",
       "      <td>Antonov</td>\n",
       "      <td>18</td>\n",
       "      <td>18</td>\n",
       "      <td>0</td>\n",
       "      <td>18</td>\n",
       "    </tr>\n",
       "    <tr>\n",
       "      <th>743</th>\n",
       "      <td>08</td>\n",
       "      <td>Jan</td>\n",
       "      <td>2020</td>\n",
       "      <td>Near Shahriah, Iran</td>\n",
       "      <td>Ukraine International Airlines</td>\n",
       "      <td>Boeing 737-8KV</td>\n",
       "      <td>176</td>\n",
       "      <td>176</td>\n",
       "      <td>0</td>\n",
       "      <td>176</td>\n",
       "    </tr>\n",
       "    <tr>\n",
       "      <th>744</th>\n",
       "      <td>05</td>\n",
       "      <td>Feb</td>\n",
       "      <td>2020</td>\n",
       "      <td>Istanbul, Turkey</td>\n",
       "      <td>Pegasus Airlines</td>\n",
       "      <td>Boeing</td>\n",
       "      <td>177</td>\n",
       "      <td>3</td>\n",
       "      <td>0</td>\n",
       "      <td>3</td>\n",
       "    </tr>\n",
       "    <tr>\n",
       "      <th>745</th>\n",
       "      <td>29</td>\n",
       "      <td>Mar</td>\n",
       "      <td>2020</td>\n",
       "      <td>Manila, Philippines</td>\n",
       "      <td>Lion Air Inc.</td>\n",
       "      <td>IAI 1124A Westwind</td>\n",
       "      <td>8</td>\n",
       "      <td>8</td>\n",
       "      <td>0</td>\n",
       "      <td>8</td>\n",
       "    </tr>\n",
       "  </tbody>\n",
       "</table>\n",
       "<p>729 rows × 10 columns</p>\n",
       "</div>"
      ],
      "text/plain": [
       "    Day Month  Year                   Location  \\\n",
       "0    05   Jan  2000             Abuja, Nigeria   \n",
       "1    10   Jan  2000   Niederhasli, Switzerland   \n",
       "2    13   Jan  2000  Off Marsa el-Brega, Libya   \n",
       "3    15   Jan  2000       San Jose, Costa Rica   \n",
       "4    30   Jan  2000   Off Abidjan, Ivory Coast   \n",
       "..   ..   ...   ...                        ...   \n",
       "741  27   Dec  2019         Almaty, Kazakhstan   \n",
       "742  02   Jan  2020             Geneina, Sudan   \n",
       "743  08   Jan  2020        Near Shahriah, Iran   \n",
       "744  05   Feb  2020           Istanbul, Turkey   \n",
       "745  29   Mar  2020        Manila, Philippines   \n",
       "\n",
       "                           Operator         Aircraft Type  Total Passengers  \\\n",
       "0          Skypower Express Airways        Embraer 110P1A                16   \n",
       "1                          Crossair                  Saab                10   \n",
       "2                            Avisto                Shorts                41   \n",
       "3                              TACA                   Let                20   \n",
       "4                     Kenya Airways  AirbusA310-3045Y-BEN               179   \n",
       "..                              ...                   ...               ...   \n",
       "741                         Bek Air                Fokker                98   \n",
       "742              Sudanese Air Force               Antonov                18   \n",
       "743  Ukraine International Airlines        Boeing 737-8KV               176   \n",
       "744                Pegasus Airlines                Boeing               177   \n",
       "745                   Lion Air Inc.    IAI 1124A Westwind                 8   \n",
       "\n",
       "     Casualties  Ground Casualties  Total Casualties  \n",
       "0             1                  1                 2  \n",
       "1            10                  0                10  \n",
       "2            22                  0                22  \n",
       "3             5                  0                 5  \n",
       "4           169                  0               169  \n",
       "..          ...                ...               ...  \n",
       "741          12                  0                12  \n",
       "742          18                  0                18  \n",
       "743         176                  0               176  \n",
       "744           3                  0                 3  \n",
       "745           8                  0                 8  \n",
       "\n",
       "[729 rows x 10 columns]"
      ]
     },
     "execution_count": 128,
     "metadata": {},
     "output_type": "execute_result"
    }
   ],
   "source": [
    "mask = df['Casualties'] > 0\n",
    "No_of_deths = df[mask]\n",
    "No_of_deths"
   ]
  },
  {
   "cell_type": "code",
   "execution_count": 129,
   "metadata": {},
   "outputs": [
    {
     "data": {
      "text/plain": [
       "<matplotlib.axes._subplots.AxesSubplot at 0x1508f450>"
      ]
     },
     "execution_count": 129,
     "metadata": {},
     "output_type": "execute_result"
    },
    {
     "data": {
      "image/png": "[encoded data removed]",
      "text/plain": [
       "<Figure size 1080x1440 with 1 Axes>"
      ]
     },
     "metadata": {},
     "output_type": "display_data"
    }
   ],
   "source": [
    "No_of_deths[:10].set_index('Year').sort_index(ascending=False).plot( kind='barh', figsize=(15, 20))"
   ]
  },
  {
   "cell_type": "code",
   "execution_count": null,
   "metadata": {},
   "outputs": [],
   "source": []
  },
  {
   "cell_type": "code",
   "execution_count": null,
   "metadata": {},
   "outputs": [],
   "source": []
  },
  {
   "cell_type": "code",
   "execution_count": null,
   "metadata": {},
   "outputs": [],
   "source": []
  },
  {
   "cell_type": "code",
   "execution_count": null,
   "metadata": {},
   "outputs": [],
   "source": []
  },
  {
   "cell_type": "code",
   "execution_count": null,
   "metadata": {},
   "outputs": [],
   "source": []
  },
  {
   "cell_type": "code",
   "execution_count": null,
   "metadata": {},
   "outputs": [],
   "source": []
  },
  {
   "cell_type": "code",
   "execution_count": null,
   "metadata": {},
   "outputs": [],
   "source": []
  },
  {
   "cell_type": "code",
   "execution_count": null,
   "metadata": {},
   "outputs": [],
   "source": []
  },
  {
   "cell_type": "code",
   "execution_count": 130,
   "metadata": {},
   "outputs": [
    {
     "name": "stdout",
     "output_type": "stream",
     "text": [
      "<class 'pandas.core.frame.DataFrame'>\n",
      "RangeIndex: 746 entries, 0 to 745\n",
      "Data columns (total 10 columns):\n",
      " #   Column             Non-Null Count  Dtype \n",
      "---  ------             --------------  ----- \n",
      " 0   Day                746 non-null    object\n",
      " 1   Month              746 non-null    object\n",
      " 2   Year               746 non-null    object\n",
      " 3   Location           746 non-null    object\n",
      " 4   Operator           746 non-null    object\n",
      " 5   Aircraft Type      746 non-null    object\n",
      " 6   Total Passengers   746 non-null    int64 \n",
      " 7   Casualties         746 non-null    int64 \n",
      " 8   Ground Casualties  746 non-null    int64 \n",
      " 9   Total Casualties   746 non-null    int64 \n",
      "dtypes: int64(4), object(6)\n",
      "memory usage: 40.9+ KB\n"
     ]
    }
   ],
   "source": [
    "df.info()"
   ]
  },
  {
   "cell_type": "code",
   "execution_count": 131,
   "metadata": {},
   "outputs": [
    {
     "data": {
      "text/html": [
       "<div>\n",
       "<style scoped>\n",
       "    .dataframe tbody tr th:only-of-type {\n",
       "        vertical-align: middle;\n",
       "    }\n",
       "\n",
       "    .dataframe tbody tr th {\n",
       "        vertical-align: top;\n",
       "    }\n",
       "\n",
       "    .dataframe thead th {\n",
       "        text-align: right;\n",
       "    }\n",
       "</style>\n",
       "<table border=\"1\" class=\"dataframe\">\n",
       "  <thead>\n",
       "    <tr style=\"text-align: right;\">\n",
       "      <th></th>\n",
       "      <th>Day</th>\n",
       "      <th>Month</th>\n",
       "      <th>Year</th>\n",
       "      <th>Location</th>\n",
       "      <th>Operator</th>\n",
       "      <th>Aircraft Type</th>\n",
       "      <th>Total Passengers</th>\n",
       "      <th>Casualties</th>\n",
       "      <th>Ground Casualties</th>\n",
       "      <th>Total Casualties</th>\n",
       "    </tr>\n",
       "  </thead>\n",
       "  <tbody>\n",
       "    <tr>\n",
       "      <th>0</th>\n",
       "      <td>05</td>\n",
       "      <td>Jan</td>\n",
       "      <td>2000</td>\n",
       "      <td>Abuja, Nigeria</td>\n",
       "      <td>Skypower Express Airways</td>\n",
       "      <td>Embraer 110P1A</td>\n",
       "      <td>16</td>\n",
       "      <td>1</td>\n",
       "      <td>1</td>\n",
       "      <td>2</td>\n",
       "    </tr>\n",
       "    <tr>\n",
       "      <th>1</th>\n",
       "      <td>10</td>\n",
       "      <td>Jan</td>\n",
       "      <td>2000</td>\n",
       "      <td>Niederhasli, Switzerland</td>\n",
       "      <td>Crossair</td>\n",
       "      <td>Saab</td>\n",
       "      <td>10</td>\n",
       "      <td>10</td>\n",
       "      <td>0</td>\n",
       "      <td>10</td>\n",
       "    </tr>\n",
       "    <tr>\n",
       "      <th>2</th>\n",
       "      <td>13</td>\n",
       "      <td>Jan</td>\n",
       "      <td>2000</td>\n",
       "      <td>Off Marsa el-Brega, Libya</td>\n",
       "      <td>Avisto</td>\n",
       "      <td>Shorts</td>\n",
       "      <td>41</td>\n",
       "      <td>22</td>\n",
       "      <td>0</td>\n",
       "      <td>22</td>\n",
       "    </tr>\n",
       "    <tr>\n",
       "      <th>3</th>\n",
       "      <td>15</td>\n",
       "      <td>Jan</td>\n",
       "      <td>2000</td>\n",
       "      <td>San Jose, Costa Rica</td>\n",
       "      <td>TACA</td>\n",
       "      <td>Let</td>\n",
       "      <td>20</td>\n",
       "      <td>5</td>\n",
       "      <td>0</td>\n",
       "      <td>5</td>\n",
       "    </tr>\n",
       "    <tr>\n",
       "      <th>4</th>\n",
       "      <td>30</td>\n",
       "      <td>Jan</td>\n",
       "      <td>2000</td>\n",
       "      <td>Off Abidjan, Ivory Coast</td>\n",
       "      <td>Kenya Airways</td>\n",
       "      <td>AirbusA310-3045Y-BEN</td>\n",
       "      <td>179</td>\n",
       "      <td>169</td>\n",
       "      <td>0</td>\n",
       "      <td>169</td>\n",
       "    </tr>\n",
       "    <tr>\n",
       "      <th>...</th>\n",
       "      <td>...</td>\n",
       "      <td>...</td>\n",
       "      <td>...</td>\n",
       "      <td>...</td>\n",
       "      <td>...</td>\n",
       "      <td>...</td>\n",
       "      <td>...</td>\n",
       "      <td>...</td>\n",
       "      <td>...</td>\n",
       "      <td>...</td>\n",
       "    </tr>\n",
       "    <tr>\n",
       "      <th>741</th>\n",
       "      <td>27</td>\n",
       "      <td>Dec</td>\n",
       "      <td>2019</td>\n",
       "      <td>Almaty, Kazakhstan</td>\n",
       "      <td>Bek Air</td>\n",
       "      <td>Fokker</td>\n",
       "      <td>98</td>\n",
       "      <td>12</td>\n",
       "      <td>0</td>\n",
       "      <td>12</td>\n",
       "    </tr>\n",
       "    <tr>\n",
       "      <th>742</th>\n",
       "      <td>02</td>\n",
       "      <td>Jan</td>\n",
       "      <td>2020</td>\n",
       "      <td>Geneina, Sudan</td>\n",
       "      <td>Sudanese Air Force</td>\n",
       "      <td>Antonov</td>\n",
       "      <td>18</td>\n",
       "      <td>18</td>\n",
       "      <td>0</td>\n",
       "      <td>18</td>\n",
       "    </tr>\n",
       "    <tr>\n",
       "      <th>743</th>\n",
       "      <td>08</td>\n",
       "      <td>Jan</td>\n",
       "      <td>2020</td>\n",
       "      <td>Near Shahriah, Iran</td>\n",
       "      <td>Ukraine International Airlines</td>\n",
       "      <td>Boeing 737-8KV</td>\n",
       "      <td>176</td>\n",
       "      <td>176</td>\n",
       "      <td>0</td>\n",
       "      <td>176</td>\n",
       "    </tr>\n",
       "    <tr>\n",
       "      <th>744</th>\n",
       "      <td>05</td>\n",
       "      <td>Feb</td>\n",
       "      <td>2020</td>\n",
       "      <td>Istanbul, Turkey</td>\n",
       "      <td>Pegasus Airlines</td>\n",
       "      <td>Boeing</td>\n",
       "      <td>177</td>\n",
       "      <td>3</td>\n",
       "      <td>0</td>\n",
       "      <td>3</td>\n",
       "    </tr>\n",
       "    <tr>\n",
       "      <th>745</th>\n",
       "      <td>29</td>\n",
       "      <td>Mar</td>\n",
       "      <td>2020</td>\n",
       "      <td>Manila, Philippines</td>\n",
       "      <td>Lion Air Inc.</td>\n",
       "      <td>IAI 1124A Westwind</td>\n",
       "      <td>8</td>\n",
       "      <td>8</td>\n",
       "      <td>0</td>\n",
       "      <td>8</td>\n",
       "    </tr>\n",
       "  </tbody>\n",
       "</table>\n",
       "<p>746 rows × 10 columns</p>\n",
       "</div>"
      ],
      "text/plain": [
       "    Day Month  Year                   Location  \\\n",
       "0    05   Jan  2000             Abuja, Nigeria   \n",
       "1    10   Jan  2000   Niederhasli, Switzerland   \n",
       "2    13   Jan  2000  Off Marsa el-Brega, Libya   \n",
       "3    15   Jan  2000       San Jose, Costa Rica   \n",
       "4    30   Jan  2000   Off Abidjan, Ivory Coast   \n",
       "..   ..   ...   ...                        ...   \n",
       "741  27   Dec  2019         Almaty, Kazakhstan   \n",
       "742  02   Jan  2020             Geneina, Sudan   \n",
       "743  08   Jan  2020        Near Shahriah, Iran   \n",
       "744  05   Feb  2020           Istanbul, Turkey   \n",
       "745  29   Mar  2020        Manila, Philippines   \n",
       "\n",
       "                           Operator         Aircraft Type  Total Passengers  \\\n",
       "0          Skypower Express Airways        Embraer 110P1A                16   \n",
       "1                          Crossair                  Saab                10   \n",
       "2                            Avisto                Shorts                41   \n",
       "3                              TACA                   Let                20   \n",
       "4                     Kenya Airways  AirbusA310-3045Y-BEN               179   \n",
       "..                              ...                   ...               ...   \n",
       "741                         Bek Air                Fokker                98   \n",
       "742              Sudanese Air Force               Antonov                18   \n",
       "743  Ukraine International Airlines        Boeing 737-8KV               176   \n",
       "744                Pegasus Airlines                Boeing               177   \n",
       "745                   Lion Air Inc.    IAI 1124A Westwind                 8   \n",
       "\n",
       "     Casualties  Ground Casualties  Total Casualties  \n",
       "0             1                  1                 2  \n",
       "1            10                  0                10  \n",
       "2            22                  0                22  \n",
       "3             5                  0                 5  \n",
       "4           169                  0               169  \n",
       "..          ...                ...               ...  \n",
       "741          12                  0                12  \n",
       "742          18                  0                18  \n",
       "743         176                  0               176  \n",
       "744           3                  0                 3  \n",
       "745           8                  0                 8  \n",
       "\n",
       "[746 rows x 10 columns]"
      ]
     },
     "execution_count": 131,
     "metadata": {},
     "output_type": "execute_result"
    }
   ],
   "source": [
    "df"
   ]
  },
  {
   "cell_type": "markdown",
   "metadata": {
    "colab_type": "text",
    "id": "EsVe5r-6Svl7"
   },
   "source": [
    "# 4. Display in a graph month-wise report of deaths\n",
    "\n",
    "- Are there any trends or patterns that you see in this data ?\n",
    "- Which are the top 3 months with the highest  deaths on an average ?\n",
    "- Which are the top 3 months with the least  deaths on an average?"
   ]
  },
  {
   "cell_type": "code",
   "execution_count": null,
   "metadata": {},
   "outputs": [],
   "source": []
  },
  {
   "cell_type": "code",
   "execution_count": null,
   "metadata": {},
   "outputs": [],
   "source": []
  },
  {
   "cell_type": "code",
   "execution_count": null,
   "metadata": {
    "colab": {},
    "colab_type": "code",
    "id": "-0muZJroS1Ux"
   },
   "outputs": [],
   "source": []
  },
  {
   "cell_type": "code",
   "execution_count": null,
   "metadata": {
    "colab": {},
    "colab_type": "code",
    "id": "gvGzi208S1GW"
   },
   "outputs": [],
   "source": []
  },
  {
   "cell_type": "code",
   "execution_count": null,
   "metadata": {
    "colab": {},
    "colab_type": "code",
    "id": "H3VazojwS1C_"
   },
   "outputs": [],
   "source": []
  },
  {
   "cell_type": "markdown",
   "metadata": {
    "colab_type": "text",
    "id": "59VTuYG7wn5C"
   },
   "source": [
    "## 5. Report the casualties among passengers and the ground for every year\n",
    "\n",
    "- Has air travel become any safer over these years ?\n",
    "- Are there any specific months where the casualties are usually less ?\n",
    "- Which are the top 3 months, that reported the most number of casualties ?"
   ]
  },
  {
   "cell_type": "code",
   "execution_count": null,
   "metadata": {
    "colab": {},
    "colab_type": "code",
    "id": "-Hmp5qCrwpzW"
   },
   "outputs": [],
   "source": []
  },
  {
   "cell_type": "code",
   "execution_count": null,
   "metadata": {
    "colab": {},
    "colab_type": "code",
    "id": "DxbkcoN6wpxe"
   },
   "outputs": [],
   "source": []
  },
  {
   "cell_type": "code",
   "execution_count": null,
   "metadata": {
    "colab": {},
    "colab_type": "code",
    "id": "NZcl_PvHwpsr"
   },
   "outputs": [],
   "source": []
  },
  {
   "cell_type": "markdown",
   "metadata": {
    "colab_type": "text",
    "id": "B9Jtu0k1-RFT"
   },
   "source": [
    "# 6. Display in a graph the number of crashes for every year that happened for Airbus\n",
    "\n",
    "- Which were the best 3 years for Airbus ?\n",
    "- Which were the worst 3 years for Airbus ?"
   ]
  },
  {
   "cell_type": "code",
   "execution_count": null,
   "metadata": {
    "colab": {},
    "colab_type": "code",
    "id": "4iGzm7uT-kEF"
   },
   "outputs": [],
   "source": []
  },
  {
   "cell_type": "code",
   "execution_count": null,
   "metadata": {
    "colab": {},
    "colab_type": "code",
    "id": "0e-uKa7U-l3C"
   },
   "outputs": [],
   "source": []
  },
  {
   "cell_type": "code",
   "execution_count": null,
   "metadata": {
    "colab": {},
    "colab_type": "code",
    "id": "jKzUYMnx-lzC"
   },
   "outputs": [],
   "source": []
  },
  {
   "cell_type": "markdown",
   "metadata": {
    "colab_type": "text",
    "id": "c7C8N_sQ-m0J"
   },
   "source": [
    "# 7. Cessna is one of the smallest aircrafts. Analyse the trends of casualties, both among passengers and on the ground for this aircraft\n",
    "\n",
    "- Do you see any improvement in its safety for travel ?"
   ]
  },
  {
   "cell_type": "code",
   "execution_count": null,
   "metadata": {
    "colab": {},
    "colab_type": "code",
    "id": "KsoTzAKd-1Hu"
   },
   "outputs": [],
   "source": []
  },
  {
   "cell_type": "code",
   "execution_count": null,
   "metadata": {
    "colab": {},
    "colab_type": "code",
    "id": "e7Xrx65N-3Y0"
   },
   "outputs": [],
   "source": []
  },
  {
   "cell_type": "code",
   "execution_count": null,
   "metadata": {
    "colab": {},
    "colab_type": "code",
    "id": "V_ezMHfE-3Us"
   },
   "outputs": [],
   "source": []
  },
  {
   "cell_type": "markdown",
   "metadata": {
    "colab_type": "text",
    "id": "77GVo9u6-3-N"
   },
   "source": [
    "# 8. Find out the top 5 aircrafts that have had the least number of crashes and can thus be considered relatively safe to travel in"
   ]
  },
  {
   "cell_type": "code",
   "execution_count": null,
   "metadata": {
    "colab": {},
    "colab_type": "code",
    "id": "h0uVmSju_LDq"
   },
   "outputs": [],
   "source": []
  },
  {
   "cell_type": "code",
   "execution_count": null,
   "metadata": {
    "colab": {},
    "colab_type": "code",
    "id": "uAs0Hwjx_K_Z"
   },
   "outputs": [],
   "source": []
  },
  {
   "cell_type": "code",
   "execution_count": null,
   "metadata": {
    "colab": {},
    "colab_type": "code",
    "id": "MhlbyQgE_K8M"
   },
   "outputs": [],
   "source": []
  },
  {
   "cell_type": "code",
   "execution_count": null,
   "metadata": {
    "colab": {},
    "colab_type": "code",
    "id": "QMthEewI_KD4"
   },
   "outputs": [],
   "source": []
  }
 ],
 "metadata": {
  "colab": {
   "collapsed_sections": [],
   "name": "Airplane_crash_Analysis_Bsv.ipynb",
   "provenance": [
    {
     "file_id": "1DopFOr1XH9DH5SSO7J7EVv33H470lgnP",
     "timestamp": 1590284490723
    },
    {
     "file_id": "1zYVTqQ-wQQ8jUjlT2Ar74CS_DrFlgF8D",
     "timestamp": 1589102767882
    },
    {
     "file_id": "1y1rcIYQrntfk4ydAl0aAxBEqkkco7MZf",
     "timestamp": 1588482165611
    }
   ],
   "toc_visible": true
  },
  "kernelspec": {
   "display_name": "Python 3",
   "language": "python",
   "name": "python3"
  },
  "language_info": {
   "codemirror_mode": {
    "name": "ipython",
    "version": 3
   },
   "file_extension": ".py",
   "mimetype": "text/x-python",
   "name": "python",
   "nbconvert_exporter": "python",
   "pygments_lexer": "ipython3",
   "version": "3.7.4"
  }
 },
 "nbformat": 4,
 "nbformat_minor": 1
}

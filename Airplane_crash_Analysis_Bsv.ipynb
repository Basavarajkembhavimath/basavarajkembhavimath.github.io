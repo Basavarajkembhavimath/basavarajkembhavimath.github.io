{
 "cells": [
  {
   "cell_type": "code",
   "execution_count": 1,
   "metadata": {
    "colab": {},
    "colab_type": "code",
    "id": "hNfIPRLtFqCF"
   },
   "outputs": [],
   "source": [
    "import re\n",
    "import numpy as np\n",
    "import pandas as pd\n",
    "import matplotlib.pyplot as plt\n",
    "import seaborn as sns\n",
    "from datetime import datetime"
   ]
  },
  {
   "cell_type": "markdown",
   "metadata": {
    "colab_type": "text",
    "id": "s3BXwPPxtNzs"
   },
   "source": [
    "# Helpful functions"
   ]
  },
  {
   "cell_type": "code",
   "execution_count": 2,
   "metadata": {
    "colab": {},
    "colab_type": "code",
    "id": "OO5kKYCMlLTs"
   },
   "outputs": [],
   "source": [
    "def ecdf(data):\n",
    "  n_data = len(data)\n",
    "  x_data = np.sort(data)\n",
    "  y_data = np.linspace(1/n_data, 1, n_data)\n",
    "  return x_data, y_data"
   ]
  },
  {
   "cell_type": "code",
   "execution_count": 3,
   "metadata": {
    "colab": {},
    "colab_type": "code",
    "id": "3_vV__SQkaq9"
   },
   "outputs": [],
   "source": [
    "def get_airline_name(x):\n",
    "  mtch = re.search(\"[a-z]+([A-Z])\", str(x) )\n",
    "  return x[mtch.span(1)[0]:] if mtch else \"\"\n"
   ]
  },
  {
   "cell_type": "code",
   "execution_count": 4,
   "metadata": {
    "colab": {},
    "colab_type": "code",
    "id": "ntkIh88plPzy"
   },
   "outputs": [],
   "source": [
    "def get_location(x):\n",
    "  mtch = re.search(\"[a-z]+([A-Z])\", str(x) )\n",
    "  return x[:mtch.span(1)[0]] if mtch else \"\"\n"
   ]
  },
  {
   "cell_type": "code",
   "execution_count": 5,
   "metadata": {},
   "outputs": [],
   "source": [
    "def add(a,b):\n",
    "    return int(a)+int(b)"
   ]
  },
  {
   "cell_type": "code",
   "execution_count": 6,
   "metadata": {
    "colab": {
     "base_uri": "https://localhost:8080/",
     "height": 34
    },
    "colab_type": "code",
    "executionInfo": {
     "elapsed": 1665,
     "status": "ok",
     "timestamp": 1589103517133,
     "user": {
      "displayName": "Sarfraaz Ahmed",
      "photoUrl": "",
      "userId": "11687395159645464019"
     },
     "user_tz": -330
    },
    "id": "6SkoTXEe6-Pj",
    "outputId": "79cd2b3f-6d20-45c6-caa3-1659bedb656a"
   },
   "outputs": [
    {
     "data": {
      "text/plain": [
       "'American Airlines'"
      ]
     },
     "execution_count": 6,
     "metadata": {},
     "output_type": "execute_result"
    }
   ],
   "source": [
    "sample = 'Miami, FloridaAmerican Airlines'\n",
    "get_airline_name(sample)"
   ]
  },
  {
   "cell_type": "code",
   "execution_count": 7,
   "metadata": {
    "colab": {
     "base_uri": "https://localhost:8080/",
     "height": 34
    },
    "colab_type": "code",
    "executionInfo": {
     "elapsed": 1650,
     "status": "ok",
     "timestamp": 1589103517135,
     "user": {
      "displayName": "Sarfraaz Ahmed",
      "photoUrl": "",
      "userId": "11687395159645464019"
     },
     "user_tz": -330
    },
    "id": "0htOSn576-K9",
    "outputId": "7b879140-98be-47d3-955f-36b6c37be59f"
   },
   "outputs": [
    {
     "data": {
      "text/plain": [
       "'Miami, Florida'"
      ]
     },
     "execution_count": 7,
     "metadata": {},
     "output_type": "execute_result"
    }
   ],
   "source": [
    "get_location(sample)"
   ]
  },
  {
   "cell_type": "code",
   "execution_count": 8,
   "metadata": {
    "colab": {},
    "colab_type": "code",
    "id": "oD_lQBhk23vP"
   },
   "outputs": [],
   "source": [
    "def get_casualties(x):\n",
    "  nums = re.findall(\"([0-9]+)\", x)\n",
    "  return nums[0] if nums else x"
   ]
  },
  {
   "cell_type": "code",
   "execution_count": 9,
   "metadata": {
    "colab": {},
    "colab_type": "code",
    "id": "7kt6NUH92_vo"
   },
   "outputs": [],
   "source": [
    "def get_passengers(x):\n",
    "  nums = re.findall(\"([0-9]+)\", x)\n",
    "  return nums[1] if len(nums) > 1 else x"
   ]
  },
  {
   "cell_type": "code",
   "execution_count": 10,
   "metadata": {
    "colab": {},
    "colab_type": "code",
    "id": "ijh4qK343TV0"
   },
   "outputs": [],
   "source": [
    "def get_ground_casualties(x):\n",
    "  nums = re.findall(\"([0-9]+)\", x)\n",
    "  return nums[2] if len(nums) > 2 else x"
   ]
  },
  {
   "cell_type": "code",
   "execution_count": 11,
   "metadata": {
    "colab": {
     "base_uri": "https://localhost:8080/",
     "height": 34
    },
    "colab_type": "code",
    "executionInfo": {
     "elapsed": 1611,
     "status": "ok",
     "timestamp": 1589103517140,
     "user": {
      "displayName": "Sarfraaz Ahmed",
      "photoUrl": "",
      "userId": "11687395159645464019"
     },
     "user_tz": -330
    },
    "id": "6KE_gGr_6-HU",
    "outputId": "5d609035-62f6-4879-9a51-db7b90dda232"
   },
   "outputs": [
    {
     "data": {
      "text/plain": [
       "'22'"
      ]
     },
     "execution_count": 11,
     "metadata": {},
     "output_type": "execute_result"
    }
   ],
   "source": [
    "text = '22/41(0)'\n",
    "get_casualties(text)"
   ]
  },
  {
   "cell_type": "code",
   "execution_count": 12,
   "metadata": {
    "colab": {
     "base_uri": "https://localhost:8080/",
     "height": 34
    },
    "colab_type": "code",
    "executionInfo": {
     "elapsed": 1596,
     "status": "ok",
     "timestamp": 1589103517140,
     "user": {
      "displayName": "Sarfraaz Ahmed",
      "photoUrl": "",
      "userId": "11687395159645464019"
     },
     "user_tz": -330
    },
    "id": "mopCrEpm7x_5",
    "outputId": "17f049f1-0dc7-45bf-ee27-68a2bc8b4e3b"
   },
   "outputs": [
    {
     "data": {
      "text/plain": [
       "'41'"
      ]
     },
     "execution_count": 12,
     "metadata": {},
     "output_type": "execute_result"
    }
   ],
   "source": [
    "get_passengers(text)"
   ]
  },
  {
   "cell_type": "code",
   "execution_count": 13,
   "metadata": {
    "colab": {
     "base_uri": "https://localhost:8080/",
     "height": 34
    },
    "colab_type": "code",
    "executionInfo": {
     "elapsed": 1583,
     "status": "ok",
     "timestamp": 1589103517142,
     "user": {
      "displayName": "Sarfraaz Ahmed",
      "photoUrl": "",
      "userId": "11687395159645464019"
     },
     "user_tz": -330
    },
    "id": "UtsuDaKO74Ha",
    "outputId": "ce40cd97-9076-433c-d778-ae6b0a7e5845"
   },
   "outputs": [
    {
     "data": {
      "text/plain": [
       "'0'"
      ]
     },
     "execution_count": 13,
     "metadata": {},
     "output_type": "execute_result"
    }
   ],
   "source": [
    "get_ground_casualties(text)"
   ]
  },
  {
   "cell_type": "code",
   "execution_count": 14,
   "metadata": {
    "colab": {},
    "colab_type": "code",
    "id": "9BNeSMGk5prV"
   },
   "outputs": [],
   "source": [
    "def get_aircraft_type(x):\n",
    "  return x.rsplit(maxsplit=1)[0]"
   ]
  },
  {
   "cell_type": "code",
   "execution_count": 15,
   "metadata": {
    "colab": {
     "base_uri": "https://localhost:8080/",
     "height": 34
    },
    "colab_type": "code",
    "executionInfo": {
     "elapsed": 1565,
     "status": "ok",
     "timestamp": 1589103517144,
     "user": {
      "displayName": "Sarfraaz Ahmed",
      "photoUrl": "",
      "userId": "11687395159645464019"
     },
     "user_tz": -330
    },
    "id": "e8F1QZRq8H56",
    "outputId": "0d0d30cd-d85f-453c-d51b-c48d98585594"
   },
   "outputs": [
    {
     "data": {
      "text/plain": [
       "'Airbus'"
      ]
     },
     "execution_count": 15,
     "metadata": {},
     "output_type": "execute_result"
    }
   ],
   "source": [
    "smpl = \"Airbus A300-600RN14056\"\n",
    "get_aircraft_type(smpl)\n",
    "smpl.rsplit(maxsplit=1)[0]"
   ]
  },
  {
   "cell_type": "markdown",
   "metadata": {
    "colab_type": "text",
    "id": "bNwgYKPO86Jz"
   },
   "source": [
    "# 1. Collect information for all Airplane crashes from 2000 to 2020\n",
    "\n",
    "You might already have received a GitHub link to a csv file called \"plane_crash_all.csv\"\n",
    "\n",
    "Access the data from this csv file and present its summary report :\n",
    "- Number of data points [ or rows ]\n",
    "- Number of features [ or columns ]\n",
    "- First 10 entries in the dataset\n",
    "- Last 10 entries in the dataset\n",
    "- Datatypes of each column"
   ]
  },
  {
   "cell_type": "code",
   "execution_count": 16,
   "metadata": {
    "colab": {},
    "colab_type": "code",
    "id": "IYcLc35UCTZc"
   },
   "outputs": [],
   "source": [
    "df1 = pd.read_csv('plane_crash_all.csv')"
   ]
  },
  {
   "cell_type": "code",
   "execution_count": 17,
   "metadata": {
    "colab": {},
    "colab_type": "code",
    "id": "KszYIKss9VDI"
   },
   "outputs": [
    {
     "data": {
      "text/html": [
       "<div>\n",
       "<style scoped>\n",
       "    .dataframe tbody tr th:only-of-type {\n",
       "        vertical-align: middle;\n",
       "    }\n",
       "\n",
       "    .dataframe tbody tr th {\n",
       "        vertical-align: top;\n",
       "    }\n",
       "\n",
       "    .dataframe thead th {\n",
       "        text-align: right;\n",
       "    }\n",
       "</style>\n",
       "<table border=\"1\" class=\"dataframe\">\n",
       "  <thead>\n",
       "    <tr style=\"text-align: right;\">\n",
       "      <th></th>\n",
       "      <th>Unnamed: 0</th>\n",
       "      <th>Date</th>\n",
       "      <th>Location / Operator</th>\n",
       "      <th>Aircraft Type / Registration</th>\n",
       "      <th>Fatalities</th>\n",
       "    </tr>\n",
       "  </thead>\n",
       "  <tbody>\n",
       "    <tr>\n",
       "      <th>0</th>\n",
       "      <td>0</td>\n",
       "      <td>05 Jan 2000</td>\n",
       "      <td>Abuja, NigeriaSkypower Express Airways</td>\n",
       "      <td>Embraer 110P1A Bandeirante5N-AXL</td>\n",
       "      <td>1/16(1)</td>\n",
       "    </tr>\n",
       "    <tr>\n",
       "      <th>1</th>\n",
       "      <td>1</td>\n",
       "      <td>10 Jan 2000</td>\n",
       "      <td>Niederhasli, SwitzerlandCrossair</td>\n",
       "      <td>Saab 340BHB-AKK</td>\n",
       "      <td>10/10(0)</td>\n",
       "    </tr>\n",
       "    <tr>\n",
       "      <th>2</th>\n",
       "      <td>2</td>\n",
       "      <td>13 Jan 2000</td>\n",
       "      <td>Off Marsa el-Brega, LibyaAvisto</td>\n",
       "      <td>Shorts 360-300HB-AAM</td>\n",
       "      <td>22/41(0)</td>\n",
       "    </tr>\n",
       "    <tr>\n",
       "      <th>3</th>\n",
       "      <td>3</td>\n",
       "      <td>15 Jan 2000</td>\n",
       "      <td>San Jose, Costa RicaTACA</td>\n",
       "      <td>Let 410UVP-EYS-09-C</td>\n",
       "      <td>5/20(0)</td>\n",
       "    </tr>\n",
       "    <tr>\n",
       "      <th>4</th>\n",
       "      <td>4</td>\n",
       "      <td>30 Jan 2000</td>\n",
       "      <td>Off Abidjan, Ivory CoastKenya Airways</td>\n",
       "      <td>AirbusA310-3045Y-BEN</td>\n",
       "      <td>169/179(0)</td>\n",
       "    </tr>\n",
       "    <tr>\n",
       "      <th>...</th>\n",
       "      <td>...</td>\n",
       "      <td>...</td>\n",
       "      <td>...</td>\n",
       "      <td>...</td>\n",
       "      <td>...</td>\n",
       "    </tr>\n",
       "    <tr>\n",
       "      <th>741</th>\n",
       "      <td>12</td>\n",
       "      <td>27 Dec 2019</td>\n",
       "      <td>Almaty, KazakhstanBek Air</td>\n",
       "      <td>Fokker 100UP-F100</td>\n",
       "      <td>12/98(0)</td>\n",
       "    </tr>\n",
       "    <tr>\n",
       "      <th>742</th>\n",
       "      <td>0</td>\n",
       "      <td>02 Jan 2020</td>\n",
       "      <td>Geneina, SudanSudanese Air Force</td>\n",
       "      <td>Antonov An12-A?</td>\n",
       "      <td>18/18(?)</td>\n",
       "    </tr>\n",
       "    <tr>\n",
       "      <th>743</th>\n",
       "      <td>1</td>\n",
       "      <td>08 Jan 2020</td>\n",
       "      <td>Near Shahriah, IranUkraine International Airlines</td>\n",
       "      <td>Boeing 737-8KV WLUR-PSR</td>\n",
       "      <td>176/176(0)</td>\n",
       "    </tr>\n",
       "    <tr>\n",
       "      <th>744</th>\n",
       "      <td>2</td>\n",
       "      <td>05 Feb 2020</td>\n",
       "      <td>Istanbul, TurkeyPegasus Airlines</td>\n",
       "      <td>Boeing 737-86JTC-IZK</td>\n",
       "      <td>3/177(0)</td>\n",
       "    </tr>\n",
       "    <tr>\n",
       "      <th>745</th>\n",
       "      <td>3</td>\n",
       "      <td>29 Mar 2020</td>\n",
       "      <td>Manila, PhilippinesLion Air Inc.</td>\n",
       "      <td>IAI 1124A Westwind IIRP-C5880</td>\n",
       "      <td>8/8(0)</td>\n",
       "    </tr>\n",
       "  </tbody>\n",
       "</table>\n",
       "<p>746 rows × 5 columns</p>\n",
       "</div>"
      ],
      "text/plain": [
       "     Unnamed: 0         Date  \\\n",
       "0             0  05 Jan 2000   \n",
       "1             1  10 Jan 2000   \n",
       "2             2  13 Jan 2000   \n",
       "3             3  15 Jan 2000   \n",
       "4             4  30 Jan 2000   \n",
       "..          ...          ...   \n",
       "741          12  27 Dec 2019   \n",
       "742           0  02 Jan 2020   \n",
       "743           1  08 Jan 2020   \n",
       "744           2  05 Feb 2020   \n",
       "745           3  29 Mar 2020   \n",
       "\n",
       "                                   Location / Operator  \\\n",
       "0               Abuja, NigeriaSkypower Express Airways   \n",
       "1                     Niederhasli, SwitzerlandCrossair   \n",
       "2                      Off Marsa el-Brega, LibyaAvisto   \n",
       "3                             San Jose, Costa RicaTACA   \n",
       "4                Off Abidjan, Ivory CoastKenya Airways   \n",
       "..                                                 ...   \n",
       "741                          Almaty, KazakhstanBek Air   \n",
       "742                   Geneina, SudanSudanese Air Force   \n",
       "743  Near Shahriah, IranUkraine International Airlines   \n",
       "744                   Istanbul, TurkeyPegasus Airlines   \n",
       "745                   Manila, PhilippinesLion Air Inc.   \n",
       "\n",
       "         Aircraft Type / Registration  Fatalities  \n",
       "0    Embraer 110P1A Bandeirante5N-AXL     1/16(1)  \n",
       "1                     Saab 340BHB-AKK    10/10(0)  \n",
       "2                Shorts 360-300HB-AAM    22/41(0)  \n",
       "3                 Let 410UVP-EYS-09-C     5/20(0)  \n",
       "4                AirbusA310-3045Y-BEN  169/179(0)  \n",
       "..                                ...         ...  \n",
       "741                 Fokker 100UP-F100    12/98(0)  \n",
       "742                   Antonov An12-A?    18/18(?)  \n",
       "743           Boeing 737-8KV WLUR-PSR  176/176(0)  \n",
       "744              Boeing 737-86JTC-IZK    3/177(0)  \n",
       "745     IAI 1124A Westwind IIRP-C5880      8/8(0)  \n",
       "\n",
       "[746 rows x 5 columns]"
      ]
     },
     "execution_count": 17,
     "metadata": {},
     "output_type": "execute_result"
    }
   ],
   "source": [
    "#First 10 entries in the dataset \n",
    "df1"
   ]
  },
  {
   "cell_type": "code",
   "execution_count": 18,
   "metadata": {},
   "outputs": [
    {
     "data": {
      "text/html": [
       "<div>\n",
       "<style scoped>\n",
       "    .dataframe tbody tr th:only-of-type {\n",
       "        vertical-align: middle;\n",
       "    }\n",
       "\n",
       "    .dataframe tbody tr th {\n",
       "        vertical-align: top;\n",
       "    }\n",
       "\n",
       "    .dataframe thead th {\n",
       "        text-align: right;\n",
       "    }\n",
       "</style>\n",
       "<table border=\"1\" class=\"dataframe\">\n",
       "  <thead>\n",
       "    <tr style=\"text-align: right;\">\n",
       "      <th></th>\n",
       "      <th>Unnamed: 0</th>\n",
       "      <th>Date</th>\n",
       "      <th>Location / Operator</th>\n",
       "      <th>Aircraft Type / Registration</th>\n",
       "      <th>Fatalities</th>\n",
       "    </tr>\n",
       "  </thead>\n",
       "  <tbody>\n",
       "    <tr>\n",
       "      <th>10</th>\n",
       "      <td>10</td>\n",
       "      <td>17 Mar 2000</td>\n",
       "      <td>Near Kuna Yala, PanamaAeroperlas</td>\n",
       "      <td>de Havilland Canada DHC-6 Twin Otter 300HP-126...</td>\n",
       "      <td>10/10(0)</td>\n",
       "    </tr>\n",
       "    <tr>\n",
       "      <th>11</th>\n",
       "      <td>11</td>\n",
       "      <td>17 Mar 2000</td>\n",
       "      <td>Ennadai Lake, CanadaPoints North Air Services</td>\n",
       "      <td>Douglas C-47A-5-DKC-FNTF</td>\n",
       "      <td>2/2(0)</td>\n",
       "    </tr>\n",
       "    <tr>\n",
       "      <th>12</th>\n",
       "      <td>12</td>\n",
       "      <td>22 Mar 2000</td>\n",
       "      <td>Herreira, SpainMilitary - Ejército del Aire</td>\n",
       "      <td>CASA 212-DE Aviocar 200TM-12D-73</td>\n",
       "      <td>7/7(0)</td>\n",
       "    </tr>\n",
       "    <tr>\n",
       "      <th>13</th>\n",
       "      <td>13</td>\n",
       "      <td>24 Mar 2000</td>\n",
       "      <td>Kadirana, Sri LankaSky Cabs</td>\n",
       "      <td>Antonov AN-12 (freighter)RA-11302</td>\n",
       "      <td>6/8(2)</td>\n",
       "    </tr>\n",
       "    <tr>\n",
       "      <th>14</th>\n",
       "      <td>14</td>\n",
       "      <td>25 Mar 2000</td>\n",
       "      <td>Huambo, AngolaUralex</td>\n",
       "      <td>Antonov AN-32D2-MAJ</td>\n",
       "      <td>3/33(0)</td>\n",
       "    </tr>\n",
       "    <tr>\n",
       "      <th>...</th>\n",
       "      <td>...</td>\n",
       "      <td>...</td>\n",
       "      <td>...</td>\n",
       "      <td>...</td>\n",
       "      <td>...</td>\n",
       "    </tr>\n",
       "    <tr>\n",
       "      <th>741</th>\n",
       "      <td>12</td>\n",
       "      <td>27 Dec 2019</td>\n",
       "      <td>Almaty, KazakhstanBek Air</td>\n",
       "      <td>Fokker 100UP-F100</td>\n",
       "      <td>12/98(0)</td>\n",
       "    </tr>\n",
       "    <tr>\n",
       "      <th>742</th>\n",
       "      <td>0</td>\n",
       "      <td>02 Jan 2020</td>\n",
       "      <td>Geneina, SudanSudanese Air Force</td>\n",
       "      <td>Antonov An12-A?</td>\n",
       "      <td>18/18(?)</td>\n",
       "    </tr>\n",
       "    <tr>\n",
       "      <th>743</th>\n",
       "      <td>1</td>\n",
       "      <td>08 Jan 2020</td>\n",
       "      <td>Near Shahriah, IranUkraine International Airlines</td>\n",
       "      <td>Boeing 737-8KV WLUR-PSR</td>\n",
       "      <td>176/176(0)</td>\n",
       "    </tr>\n",
       "    <tr>\n",
       "      <th>744</th>\n",
       "      <td>2</td>\n",
       "      <td>05 Feb 2020</td>\n",
       "      <td>Istanbul, TurkeyPegasus Airlines</td>\n",
       "      <td>Boeing 737-86JTC-IZK</td>\n",
       "      <td>3/177(0)</td>\n",
       "    </tr>\n",
       "    <tr>\n",
       "      <th>745</th>\n",
       "      <td>3</td>\n",
       "      <td>29 Mar 2020</td>\n",
       "      <td>Manila, PhilippinesLion Air Inc.</td>\n",
       "      <td>IAI 1124A Westwind IIRP-C5880</td>\n",
       "      <td>8/8(0)</td>\n",
       "    </tr>\n",
       "  </tbody>\n",
       "</table>\n",
       "<p>736 rows × 5 columns</p>\n",
       "</div>"
      ],
      "text/plain": [
       "     Unnamed: 0         Date  \\\n",
       "10           10  17 Mar 2000   \n",
       "11           11  17 Mar 2000   \n",
       "12           12  22 Mar 2000   \n",
       "13           13  24 Mar 2000   \n",
       "14           14  25 Mar 2000   \n",
       "..          ...          ...   \n",
       "741          12  27 Dec 2019   \n",
       "742           0  02 Jan 2020   \n",
       "743           1  08 Jan 2020   \n",
       "744           2  05 Feb 2020   \n",
       "745           3  29 Mar 2020   \n",
       "\n",
       "                                   Location / Operator  \\\n",
       "10                    Near Kuna Yala, PanamaAeroperlas   \n",
       "11       Ennadai Lake, CanadaPoints North Air Services   \n",
       "12         Herreira, SpainMilitary - Ejército del Aire   \n",
       "13                         Kadirana, Sri LankaSky Cabs   \n",
       "14                                Huambo, AngolaUralex   \n",
       "..                                                 ...   \n",
       "741                          Almaty, KazakhstanBek Air   \n",
       "742                   Geneina, SudanSudanese Air Force   \n",
       "743  Near Shahriah, IranUkraine International Airlines   \n",
       "744                   Istanbul, TurkeyPegasus Airlines   \n",
       "745                   Manila, PhilippinesLion Air Inc.   \n",
       "\n",
       "                          Aircraft Type / Registration  Fatalities  \n",
       "10   de Havilland Canada DHC-6 Twin Otter 300HP-126...    10/10(0)  \n",
       "11                            Douglas C-47A-5-DKC-FNTF      2/2(0)  \n",
       "12                    CASA 212-DE Aviocar 200TM-12D-73      7/7(0)  \n",
       "13                   Antonov AN-12 (freighter)RA-11302      6/8(2)  \n",
       "14                                 Antonov AN-32D2-MAJ     3/33(0)  \n",
       "..                                                 ...         ...  \n",
       "741                                  Fokker 100UP-F100    12/98(0)  \n",
       "742                                    Antonov An12-A?    18/18(?)  \n",
       "743                            Boeing 737-8KV WLUR-PSR  176/176(0)  \n",
       "744                               Boeing 737-86JTC-IZK    3/177(0)  \n",
       "745                      IAI 1124A Westwind IIRP-C5880      8/8(0)  \n",
       "\n",
       "[736 rows x 5 columns]"
      ]
     },
     "execution_count": 18,
     "metadata": {},
     "output_type": "execute_result"
    }
   ],
   "source": [
    "#Last 10 entries in the dataset\n",
    "df1[10:]"
   ]
  },
  {
   "cell_type": "code",
   "execution_count": 19,
   "metadata": {},
   "outputs": [
    {
     "data": {
      "text/plain": [
       "(746, 5)"
      ]
     },
     "execution_count": 19,
     "metadata": {},
     "output_type": "execute_result"
    }
   ],
   "source": [
    "#To know the shape of the data (In this data frame Rows = 746,columns = 4)\n",
    "df1.shape"
   ]
  },
  {
   "cell_type": "code",
   "execution_count": 20,
   "metadata": {
    "colab": {},
    "colab_type": "code",
    "id": "HgYFvtmd9U0w"
   },
   "outputs": [
    {
     "data": {
      "text/plain": [
       "Index(['Unnamed: 0', 'Date', 'Location / Operator',\n",
       "       'Aircraft Type / Registration', 'Fatalities'],\n",
       "      dtype='object')"
      ]
     },
     "execution_count": 20,
     "metadata": {},
     "output_type": "execute_result"
    }
   ],
   "source": [
    "#To know the columns name in the data frame\n",
    "df1.columns"
   ]
  },
  {
   "cell_type": "code",
   "execution_count": 21,
   "metadata": {},
   "outputs": [
    {
     "data": {
      "text/plain": [
       "Unnamed: 0                       int64\n",
       "Date                            object\n",
       "Location / Operator             object\n",
       "Aircraft Type / Registration    object\n",
       "Fatalities                      object\n",
       "dtype: object"
      ]
     },
     "execution_count": 21,
     "metadata": {},
     "output_type": "execute_result"
    }
   ],
   "source": [
    "#Datatypes of each column\n",
    "df1.dtypes"
   ]
  },
  {
   "cell_type": "code",
   "execution_count": 22,
   "metadata": {},
   "outputs": [
    {
     "data": {
      "text/html": [
       "<div>\n",
       "<style scoped>\n",
       "    .dataframe tbody tr th:only-of-type {\n",
       "        vertical-align: middle;\n",
       "    }\n",
       "\n",
       "    .dataframe tbody tr th {\n",
       "        vertical-align: top;\n",
       "    }\n",
       "\n",
       "    .dataframe thead th {\n",
       "        text-align: right;\n",
       "    }\n",
       "</style>\n",
       "<table border=\"1\" class=\"dataframe\">\n",
       "  <thead>\n",
       "    <tr style=\"text-align: right;\">\n",
       "      <th></th>\n",
       "      <th>Unnamed: 0</th>\n",
       "      <th>Date</th>\n",
       "      <th>Location / Operator</th>\n",
       "      <th>Aircraft Type / Registration</th>\n",
       "      <th>Fatalities</th>\n",
       "    </tr>\n",
       "  </thead>\n",
       "  <tbody>\n",
       "    <tr>\n",
       "      <th>0</th>\n",
       "      <td>0</td>\n",
       "      <td>05 Jan 2000</td>\n",
       "      <td>Abuja, NigeriaSkypower Express Airways</td>\n",
       "      <td>Embraer 110P1A Bandeirante5N-AXL</td>\n",
       "      <td>1/16(1)</td>\n",
       "    </tr>\n",
       "    <tr>\n",
       "      <th>1</th>\n",
       "      <td>1</td>\n",
       "      <td>10 Jan 2000</td>\n",
       "      <td>Niederhasli, SwitzerlandCrossair</td>\n",
       "      <td>Saab 340BHB-AKK</td>\n",
       "      <td>10/10(0)</td>\n",
       "    </tr>\n",
       "    <tr>\n",
       "      <th>2</th>\n",
       "      <td>2</td>\n",
       "      <td>13 Jan 2000</td>\n",
       "      <td>Off Marsa el-Brega, LibyaAvisto</td>\n",
       "      <td>Shorts 360-300HB-AAM</td>\n",
       "      <td>22/41(0)</td>\n",
       "    </tr>\n",
       "    <tr>\n",
       "      <th>3</th>\n",
       "      <td>3</td>\n",
       "      <td>15 Jan 2000</td>\n",
       "      <td>San Jose, Costa RicaTACA</td>\n",
       "      <td>Let 410UVP-EYS-09-C</td>\n",
       "      <td>5/20(0)</td>\n",
       "    </tr>\n",
       "    <tr>\n",
       "      <th>4</th>\n",
       "      <td>4</td>\n",
       "      <td>30 Jan 2000</td>\n",
       "      <td>Off Abidjan, Ivory CoastKenya Airways</td>\n",
       "      <td>AirbusA310-3045Y-BEN</td>\n",
       "      <td>169/179(0)</td>\n",
       "    </tr>\n",
       "  </tbody>\n",
       "</table>\n",
       "</div>"
      ],
      "text/plain": [
       "   Unnamed: 0         Date                     Location / Operator  \\\n",
       "0           0  05 Jan 2000  Abuja, NigeriaSkypower Express Airways   \n",
       "1           1  10 Jan 2000        Niederhasli, SwitzerlandCrossair   \n",
       "2           2  13 Jan 2000         Off Marsa el-Brega, LibyaAvisto   \n",
       "3           3  15 Jan 2000                San Jose, Costa RicaTACA   \n",
       "4           4  30 Jan 2000   Off Abidjan, Ivory CoastKenya Airways   \n",
       "\n",
       "       Aircraft Type / Registration  Fatalities  \n",
       "0  Embraer 110P1A Bandeirante5N-AXL     1/16(1)  \n",
       "1                   Saab 340BHB-AKK    10/10(0)  \n",
       "2              Shorts 360-300HB-AAM    22/41(0)  \n",
       "3               Let 410UVP-EYS-09-C     5/20(0)  \n",
       "4              AirbusA310-3045Y-BEN  169/179(0)  "
      ]
     },
     "execution_count": 22,
     "metadata": {},
     "output_type": "execute_result"
    }
   ],
   "source": [
    "df1.head()"
   ]
  },
  {
   "cell_type": "code",
   "execution_count": 23,
   "metadata": {},
   "outputs": [],
   "source": [
    "df1 = df1.drop(['Unnamed: 0'], axis=1)"
   ]
  },
  {
   "cell_type": "markdown",
   "metadata": {
    "colab_type": "text",
    "id": "uQoK6ypD9W0C"
   },
   "source": [
    "# 2. Clean the data and arrange it into a DataFrame that contains the following columns\n",
    "\n",
    "- Day [ Day of the month ]\n",
    "- Month\n",
    "- Year\n",
    "- Location\n",
    "- Operator\n",
    "- Aircraft Type\n",
    "- Total Passengers\n",
    "- Casualties\n",
    "- Ground Casualties\n",
    "\n",
    "Make sure each column contains data with its appropriate datatype.\n",
    "\n",
    "To study more details about what each field in the HTML represents, you can read through this sample data at : http://www.planecrashinfo.com/2014/2014-15.htm"
   ]
  },
  {
   "cell_type": "code",
   "execution_count": 24,
   "metadata": {
    "colab": {},
    "colab_type": "code",
    "id": "Pl-b4hQh9zhD"
   },
   "outputs": [],
   "source": [
    "#Making list of Each  coluumns\n",
    "data1 = df1['Date'].tolist()\n",
    "data2 = df1['Location / Operator'].tolist()\n",
    "data3 = df1['Aircraft Type / Registration'].tolist()\n",
    "data4 = df1['Fatalities'].tolist()"
   ]
  },
  {
   "cell_type": "code",
   "execution_count": 25,
   "metadata": {
    "colab": {},
    "colab_type": "code",
    "id": "Pl-b4hQh9zhD"
   },
   "outputs": [],
   "source": [
    "#Extracting the reqired data from the list and appending in to new list\n",
    "Day = []\n",
    "Month = []\n",
    "Year = []\n",
    "for i in data1:\n",
    "    splt = i.split(' ')\n",
    "    day = Day.append(splt[0])\n",
    "    mont = Month.append(splt[1])\n",
    "    year = Year.append(splt[2])"
   ]
  },
  {
   "cell_type": "code",
   "execution_count": 26,
   "metadata": {},
   "outputs": [],
   "source": [
    "#Extracting the reqired data from the list and appending in to new list\n",
    "Location = []\n",
    "Operator = []\n",
    "for i in data2:\n",
    "    locn = get_location(i)\n",
    "    locn = Location.append(locn)\n",
    "    opt = get_airline_name(i)\n",
    "    opt = Operator.append(opt)"
   ]
  },
  {
   "cell_type": "code",
   "execution_count": 27,
   "metadata": {},
   "outputs": [],
   "source": [
    "#Extracting the reqired data from the list and appending in to new list\n",
    "Aircraft_Type = []\n",
    "for i in data3:\n",
    "    air_typ = get_aircraft_type(i)\n",
    "    aor_typ = Aircraft_Type.append(air_typ)"
   ]
  },
  {
   "cell_type": "code",
   "execution_count": 28,
   "metadata": {},
   "outputs": [],
   "source": [
    "#Extracting the reqired data from the list and appending in to new list\n",
    "Total_Passengers = []\n",
    "Casualties = []\n",
    "Ground_Casualties = []\n",
    "for i in data4:\n",
    "    pasn = get_passengers(i)\n",
    "    pasn = int(pasn)\n",
    "    pasn = Total_Passengers.append(pasn)\n",
    "    casu = get_casualties(i)\n",
    "    casu = int(casu)\n",
    "    casu = Casualties.append(casu)\n",
    "    gcas = get_ground_casualties(i)\n",
    "    if len(gcas) < 5:\n",
    "        gcas = int(gcas)\n",
    "        gcas = Ground_Casualties.append(gcas)\n",
    "    elif len(gcas) > 5:\n",
    "        gcas = 0\n",
    "        gcas = Ground_Casualties.append(gcas)"
   ]
  },
  {
   "cell_type": "code",
   "execution_count": 29,
   "metadata": {},
   "outputs": [],
   "source": [
    "df = pd.DataFrame({'Day' : Day,\n",
    "                   'Month' : Month,\n",
    "                   'Year' : Year,\n",
    "                   'Location' : Location,\n",
    "                   'Operator' : Operator,\n",
    "                   'Aircraft Type' : Aircraft_Type,\n",
    "                   'Total Passengers' : Total_Passengers,\n",
    "                   'Casualties' : Casualties,\n",
    "                   'Ground Casualties' : Ground_Casualties\n",
    "                  })"
   ]
  },
  {
   "cell_type": "code",
   "execution_count": 30,
   "metadata": {},
   "outputs": [],
   "source": [
    "Total_Casualties = []\n",
    "for i in range(0, len(Casualties)): \n",
    "    Total_Casualties.append(add(Casualties[i], Ground_Casualties[i]))"
   ]
  },
  {
   "cell_type": "code",
   "execution_count": 31,
   "metadata": {},
   "outputs": [],
   "source": [
    "df['Total Casualties'] = Total_Casualties"
   ]
  },
  {
   "cell_type": "code",
   "execution_count": 32,
   "metadata": {},
   "outputs": [
    {
     "data": {
      "text/html": [
       "<div>\n",
       "<style scoped>\n",
       "    .dataframe tbody tr th:only-of-type {\n",
       "        vertical-align: middle;\n",
       "    }\n",
       "\n",
       "    .dataframe tbody tr th {\n",
       "        vertical-align: top;\n",
       "    }\n",
       "\n",
       "    .dataframe thead th {\n",
       "        text-align: right;\n",
       "    }\n",
       "</style>\n",
       "<table border=\"1\" class=\"dataframe\">\n",
       "  <thead>\n",
       "    <tr style=\"text-align: right;\">\n",
       "      <th></th>\n",
       "      <th>Day</th>\n",
       "      <th>Month</th>\n",
       "      <th>Year</th>\n",
       "      <th>Location</th>\n",
       "      <th>Operator</th>\n",
       "      <th>Aircraft Type</th>\n",
       "      <th>Total Passengers</th>\n",
       "      <th>Casualties</th>\n",
       "      <th>Ground Casualties</th>\n",
       "      <th>Total Casualties</th>\n",
       "    </tr>\n",
       "  </thead>\n",
       "  <tbody>\n",
       "    <tr>\n",
       "      <th>0</th>\n",
       "      <td>05</td>\n",
       "      <td>Jan</td>\n",
       "      <td>2000</td>\n",
       "      <td>Abuja, Nigeria</td>\n",
       "      <td>Skypower Express Airways</td>\n",
       "      <td>Embraer 110P1A</td>\n",
       "      <td>16</td>\n",
       "      <td>1</td>\n",
       "      <td>1</td>\n",
       "      <td>2</td>\n",
       "    </tr>\n",
       "    <tr>\n",
       "      <th>1</th>\n",
       "      <td>10</td>\n",
       "      <td>Jan</td>\n",
       "      <td>2000</td>\n",
       "      <td>Niederhasli, Switzerland</td>\n",
       "      <td>Crossair</td>\n",
       "      <td>Saab</td>\n",
       "      <td>10</td>\n",
       "      <td>10</td>\n",
       "      <td>0</td>\n",
       "      <td>10</td>\n",
       "    </tr>\n",
       "    <tr>\n",
       "      <th>2</th>\n",
       "      <td>13</td>\n",
       "      <td>Jan</td>\n",
       "      <td>2000</td>\n",
       "      <td>Off Marsa el-Brega, Libya</td>\n",
       "      <td>Avisto</td>\n",
       "      <td>Shorts</td>\n",
       "      <td>41</td>\n",
       "      <td>22</td>\n",
       "      <td>0</td>\n",
       "      <td>22</td>\n",
       "    </tr>\n",
       "    <tr>\n",
       "      <th>3</th>\n",
       "      <td>15</td>\n",
       "      <td>Jan</td>\n",
       "      <td>2000</td>\n",
       "      <td>San Jose, Costa Rica</td>\n",
       "      <td>TACA</td>\n",
       "      <td>Let</td>\n",
       "      <td>20</td>\n",
       "      <td>5</td>\n",
       "      <td>0</td>\n",
       "      <td>5</td>\n",
       "    </tr>\n",
       "    <tr>\n",
       "      <th>4</th>\n",
       "      <td>30</td>\n",
       "      <td>Jan</td>\n",
       "      <td>2000</td>\n",
       "      <td>Off Abidjan, Ivory Coast</td>\n",
       "      <td>Kenya Airways</td>\n",
       "      <td>AirbusA310-3045Y-BEN</td>\n",
       "      <td>179</td>\n",
       "      <td>169</td>\n",
       "      <td>0</td>\n",
       "      <td>169</td>\n",
       "    </tr>\n",
       "    <tr>\n",
       "      <th>...</th>\n",
       "      <td>...</td>\n",
       "      <td>...</td>\n",
       "      <td>...</td>\n",
       "      <td>...</td>\n",
       "      <td>...</td>\n",
       "      <td>...</td>\n",
       "      <td>...</td>\n",
       "      <td>...</td>\n",
       "      <td>...</td>\n",
       "      <td>...</td>\n",
       "    </tr>\n",
       "    <tr>\n",
       "      <th>741</th>\n",
       "      <td>27</td>\n",
       "      <td>Dec</td>\n",
       "      <td>2019</td>\n",
       "      <td>Almaty, Kazakhstan</td>\n",
       "      <td>Bek Air</td>\n",
       "      <td>Fokker</td>\n",
       "      <td>98</td>\n",
       "      <td>12</td>\n",
       "      <td>0</td>\n",
       "      <td>12</td>\n",
       "    </tr>\n",
       "    <tr>\n",
       "      <th>742</th>\n",
       "      <td>02</td>\n",
       "      <td>Jan</td>\n",
       "      <td>2020</td>\n",
       "      <td>Geneina, Sudan</td>\n",
       "      <td>Sudanese Air Force</td>\n",
       "      <td>Antonov</td>\n",
       "      <td>18</td>\n",
       "      <td>18</td>\n",
       "      <td>0</td>\n",
       "      <td>18</td>\n",
       "    </tr>\n",
       "    <tr>\n",
       "      <th>743</th>\n",
       "      <td>08</td>\n",
       "      <td>Jan</td>\n",
       "      <td>2020</td>\n",
       "      <td>Near Shahriah, Iran</td>\n",
       "      <td>Ukraine International Airlines</td>\n",
       "      <td>Boeing 737-8KV</td>\n",
       "      <td>176</td>\n",
       "      <td>176</td>\n",
       "      <td>0</td>\n",
       "      <td>176</td>\n",
       "    </tr>\n",
       "    <tr>\n",
       "      <th>744</th>\n",
       "      <td>05</td>\n",
       "      <td>Feb</td>\n",
       "      <td>2020</td>\n",
       "      <td>Istanbul, Turkey</td>\n",
       "      <td>Pegasus Airlines</td>\n",
       "      <td>Boeing</td>\n",
       "      <td>177</td>\n",
       "      <td>3</td>\n",
       "      <td>0</td>\n",
       "      <td>3</td>\n",
       "    </tr>\n",
       "    <tr>\n",
       "      <th>745</th>\n",
       "      <td>29</td>\n",
       "      <td>Mar</td>\n",
       "      <td>2020</td>\n",
       "      <td>Manila, Philippines</td>\n",
       "      <td>Lion Air Inc.</td>\n",
       "      <td>IAI 1124A Westwind</td>\n",
       "      <td>8</td>\n",
       "      <td>8</td>\n",
       "      <td>0</td>\n",
       "      <td>8</td>\n",
       "    </tr>\n",
       "  </tbody>\n",
       "</table>\n",
       "<p>746 rows × 10 columns</p>\n",
       "</div>"
      ],
      "text/plain": [
       "    Day Month  Year                   Location  \\\n",
       "0    05   Jan  2000             Abuja, Nigeria   \n",
       "1    10   Jan  2000   Niederhasli, Switzerland   \n",
       "2    13   Jan  2000  Off Marsa el-Brega, Libya   \n",
       "3    15   Jan  2000       San Jose, Costa Rica   \n",
       "4    30   Jan  2000   Off Abidjan, Ivory Coast   \n",
       "..   ..   ...   ...                        ...   \n",
       "741  27   Dec  2019         Almaty, Kazakhstan   \n",
       "742  02   Jan  2020             Geneina, Sudan   \n",
       "743  08   Jan  2020        Near Shahriah, Iran   \n",
       "744  05   Feb  2020           Istanbul, Turkey   \n",
       "745  29   Mar  2020        Manila, Philippines   \n",
       "\n",
       "                           Operator         Aircraft Type  Total Passengers  \\\n",
       "0          Skypower Express Airways        Embraer 110P1A                16   \n",
       "1                          Crossair                  Saab                10   \n",
       "2                            Avisto                Shorts                41   \n",
       "3                              TACA                   Let                20   \n",
       "4                     Kenya Airways  AirbusA310-3045Y-BEN               179   \n",
       "..                              ...                   ...               ...   \n",
       "741                         Bek Air                Fokker                98   \n",
       "742              Sudanese Air Force               Antonov                18   \n",
       "743  Ukraine International Airlines        Boeing 737-8KV               176   \n",
       "744                Pegasus Airlines                Boeing               177   \n",
       "745                   Lion Air Inc.    IAI 1124A Westwind                 8   \n",
       "\n",
       "     Casualties  Ground Casualties  Total Casualties  \n",
       "0             1                  1                 2  \n",
       "1            10                  0                10  \n",
       "2            22                  0                22  \n",
       "3             5                  0                 5  \n",
       "4           169                  0               169  \n",
       "..          ...                ...               ...  \n",
       "741          12                  0                12  \n",
       "742          18                  0                18  \n",
       "743         176                  0               176  \n",
       "744           3                  0                 3  \n",
       "745           8                  0                 8  \n",
       "\n",
       "[746 rows x 10 columns]"
      ]
     },
     "execution_count": 32,
     "metadata": {},
     "output_type": "execute_result"
    }
   ],
   "source": [
    "df"
   ]
  },
  {
   "cell_type": "code",
   "execution_count": 33,
   "metadata": {},
   "outputs": [
    {
     "name": "stdout",
     "output_type": "stream",
     "text": [
      "<class 'pandas.core.frame.DataFrame'>\n",
      "RangeIndex: 746 entries, 0 to 745\n",
      "Data columns (total 10 columns):\n",
      " #   Column             Non-Null Count  Dtype \n",
      "---  ------             --------------  ----- \n",
      " 0   Day                746 non-null    object\n",
      " 1   Month              746 non-null    object\n",
      " 2   Year               746 non-null    object\n",
      " 3   Location           746 non-null    object\n",
      " 4   Operator           746 non-null    object\n",
      " 5   Aircraft Type      746 non-null    object\n",
      " 6   Total Passengers   746 non-null    int64 \n",
      " 7   Casualties         746 non-null    int64 \n",
      " 8   Ground Casualties  746 non-null    int64 \n",
      " 9   Total Casualties   746 non-null    int64 \n",
      "dtypes: int64(4), object(6)\n",
      "memory usage: 40.9+ KB\n"
     ]
    }
   ],
   "source": [
    "df.info()"
   ]
  },
  {
   "cell_type": "markdown",
   "metadata": {
    "colab_type": "text",
    "id": "DBm1xA6rwE34"
   },
   "source": [
    "# 3. Display a graph for number of crashes every year\n",
    "\n",
    "- Do you see any trend ?\n",
    "- Has airplane transportation become any safer over the last 20 years ?\n",
    "\n",
    "\n",
    "\n"
   ]
  },
  {
   "cell_type": "code",
   "execution_count": 34,
   "metadata": {},
   "outputs": [
    {
     "data": {
      "text/plain": [
       "Year\n",
       "2000    63\n",
       "2001    58\n",
       "2002    55\n",
       "2003    62\n",
       "2004    46\n",
       "2005    45\n",
       "2006    38\n",
       "2007    43\n",
       "2008    51\n",
       "2009    46\n",
       "2010    40\n",
       "2011    36\n",
       "2012    26\n",
       "2013    25\n",
       "2014    23\n",
       "2015    18\n",
       "2016    23\n",
       "2017    15\n",
       "2018    16\n",
       "2019    13\n",
       "2020     4\n",
       "Name: Casualties, dtype: int64"
      ]
     },
     "execution_count": 34,
     "metadata": {},
     "output_type": "execute_result"
    }
   ],
   "source": [
    "crash =df.groupby('Year').count()\n",
    "crash['Casualties']"
   ]
  },
  {
   "cell_type": "code",
   "execution_count": 44,
   "metadata": {},
   "outputs": [
    {
     "data": {
      "text/html": [
       "<div>\n",
       "<style scoped>\n",
       "    .dataframe tbody tr th:only-of-type {\n",
       "        vertical-align: middle;\n",
       "    }\n",
       "\n",
       "    .dataframe tbody tr th {\n",
       "        vertical-align: top;\n",
       "    }\n",
       "\n",
       "    .dataframe thead th {\n",
       "        text-align: right;\n",
       "    }\n",
       "</style>\n",
       "<table border=\"1\" class=\"dataframe\">\n",
       "  <thead>\n",
       "    <tr style=\"text-align: right;\">\n",
       "      <th></th>\n",
       "      <th>Day</th>\n",
       "      <th>Month</th>\n",
       "      <th>Location</th>\n",
       "      <th>Operator</th>\n",
       "      <th>Aircraft Type</th>\n",
       "      <th>Total Passengers</th>\n",
       "      <th>Casualties</th>\n",
       "      <th>Ground Casualties</th>\n",
       "      <th>Total Casualties</th>\n",
       "    </tr>\n",
       "    <tr>\n",
       "      <th>Year</th>\n",
       "      <th></th>\n",
       "      <th></th>\n",
       "      <th></th>\n",
       "      <th></th>\n",
       "      <th></th>\n",
       "      <th></th>\n",
       "      <th></th>\n",
       "      <th></th>\n",
       "      <th></th>\n",
       "    </tr>\n",
       "  </thead>\n",
       "  <tbody>\n",
       "    <tr>\n",
       "      <th>2000</th>\n",
       "      <td>63</td>\n",
       "      <td>63</td>\n",
       "      <td>63</td>\n",
       "      <td>63</td>\n",
       "      <td>63</td>\n",
       "      <td>63</td>\n",
       "      <td>63</td>\n",
       "      <td>63</td>\n",
       "      <td>63</td>\n",
       "    </tr>\n",
       "    <tr>\n",
       "      <th>2001</th>\n",
       "      <td>58</td>\n",
       "      <td>58</td>\n",
       "      <td>58</td>\n",
       "      <td>58</td>\n",
       "      <td>58</td>\n",
       "      <td>58</td>\n",
       "      <td>58</td>\n",
       "      <td>58</td>\n",
       "      <td>58</td>\n",
       "    </tr>\n",
       "    <tr>\n",
       "      <th>2002</th>\n",
       "      <td>55</td>\n",
       "      <td>55</td>\n",
       "      <td>55</td>\n",
       "      <td>55</td>\n",
       "      <td>55</td>\n",
       "      <td>55</td>\n",
       "      <td>55</td>\n",
       "      <td>55</td>\n",
       "      <td>55</td>\n",
       "    </tr>\n",
       "    <tr>\n",
       "      <th>2003</th>\n",
       "      <td>62</td>\n",
       "      <td>62</td>\n",
       "      <td>62</td>\n",
       "      <td>62</td>\n",
       "      <td>62</td>\n",
       "      <td>62</td>\n",
       "      <td>62</td>\n",
       "      <td>62</td>\n",
       "      <td>62</td>\n",
       "    </tr>\n",
       "    <tr>\n",
       "      <th>2004</th>\n",
       "      <td>46</td>\n",
       "      <td>46</td>\n",
       "      <td>46</td>\n",
       "      <td>46</td>\n",
       "      <td>46</td>\n",
       "      <td>46</td>\n",
       "      <td>46</td>\n",
       "      <td>46</td>\n",
       "      <td>46</td>\n",
       "    </tr>\n",
       "    <tr>\n",
       "      <th>2005</th>\n",
       "      <td>45</td>\n",
       "      <td>45</td>\n",
       "      <td>45</td>\n",
       "      <td>45</td>\n",
       "      <td>45</td>\n",
       "      <td>45</td>\n",
       "      <td>45</td>\n",
       "      <td>45</td>\n",
       "      <td>45</td>\n",
       "    </tr>\n",
       "    <tr>\n",
       "      <th>2006</th>\n",
       "      <td>38</td>\n",
       "      <td>38</td>\n",
       "      <td>38</td>\n",
       "      <td>38</td>\n",
       "      <td>38</td>\n",
       "      <td>38</td>\n",
       "      <td>38</td>\n",
       "      <td>38</td>\n",
       "      <td>38</td>\n",
       "    </tr>\n",
       "    <tr>\n",
       "      <th>2007</th>\n",
       "      <td>43</td>\n",
       "      <td>43</td>\n",
       "      <td>43</td>\n",
       "      <td>43</td>\n",
       "      <td>43</td>\n",
       "      <td>43</td>\n",
       "      <td>43</td>\n",
       "      <td>43</td>\n",
       "      <td>43</td>\n",
       "    </tr>\n",
       "    <tr>\n",
       "      <th>2008</th>\n",
       "      <td>51</td>\n",
       "      <td>51</td>\n",
       "      <td>51</td>\n",
       "      <td>51</td>\n",
       "      <td>51</td>\n",
       "      <td>51</td>\n",
       "      <td>51</td>\n",
       "      <td>51</td>\n",
       "      <td>51</td>\n",
       "    </tr>\n",
       "    <tr>\n",
       "      <th>2009</th>\n",
       "      <td>46</td>\n",
       "      <td>46</td>\n",
       "      <td>46</td>\n",
       "      <td>46</td>\n",
       "      <td>46</td>\n",
       "      <td>46</td>\n",
       "      <td>46</td>\n",
       "      <td>46</td>\n",
       "      <td>46</td>\n",
       "    </tr>\n",
       "    <tr>\n",
       "      <th>2010</th>\n",
       "      <td>40</td>\n",
       "      <td>40</td>\n",
       "      <td>40</td>\n",
       "      <td>40</td>\n",
       "      <td>40</td>\n",
       "      <td>40</td>\n",
       "      <td>40</td>\n",
       "      <td>40</td>\n",
       "      <td>40</td>\n",
       "    </tr>\n",
       "    <tr>\n",
       "      <th>2011</th>\n",
       "      <td>36</td>\n",
       "      <td>36</td>\n",
       "      <td>36</td>\n",
       "      <td>36</td>\n",
       "      <td>36</td>\n",
       "      <td>36</td>\n",
       "      <td>36</td>\n",
       "      <td>36</td>\n",
       "      <td>36</td>\n",
       "    </tr>\n",
       "    <tr>\n",
       "      <th>2012</th>\n",
       "      <td>26</td>\n",
       "      <td>26</td>\n",
       "      <td>26</td>\n",
       "      <td>26</td>\n",
       "      <td>26</td>\n",
       "      <td>26</td>\n",
       "      <td>26</td>\n",
       "      <td>26</td>\n",
       "      <td>26</td>\n",
       "    </tr>\n",
       "    <tr>\n",
       "      <th>2013</th>\n",
       "      <td>25</td>\n",
       "      <td>25</td>\n",
       "      <td>25</td>\n",
       "      <td>25</td>\n",
       "      <td>25</td>\n",
       "      <td>25</td>\n",
       "      <td>25</td>\n",
       "      <td>25</td>\n",
       "      <td>25</td>\n",
       "    </tr>\n",
       "    <tr>\n",
       "      <th>2014</th>\n",
       "      <td>23</td>\n",
       "      <td>23</td>\n",
       "      <td>23</td>\n",
       "      <td>23</td>\n",
       "      <td>23</td>\n",
       "      <td>23</td>\n",
       "      <td>23</td>\n",
       "      <td>23</td>\n",
       "      <td>23</td>\n",
       "    </tr>\n",
       "    <tr>\n",
       "      <th>2015</th>\n",
       "      <td>18</td>\n",
       "      <td>18</td>\n",
       "      <td>18</td>\n",
       "      <td>18</td>\n",
       "      <td>18</td>\n",
       "      <td>18</td>\n",
       "      <td>18</td>\n",
       "      <td>18</td>\n",
       "      <td>18</td>\n",
       "    </tr>\n",
       "    <tr>\n",
       "      <th>2016</th>\n",
       "      <td>23</td>\n",
       "      <td>23</td>\n",
       "      <td>23</td>\n",
       "      <td>23</td>\n",
       "      <td>23</td>\n",
       "      <td>23</td>\n",
       "      <td>23</td>\n",
       "      <td>23</td>\n",
       "      <td>23</td>\n",
       "    </tr>\n",
       "    <tr>\n",
       "      <th>2017</th>\n",
       "      <td>15</td>\n",
       "      <td>15</td>\n",
       "      <td>15</td>\n",
       "      <td>15</td>\n",
       "      <td>15</td>\n",
       "      <td>15</td>\n",
       "      <td>15</td>\n",
       "      <td>15</td>\n",
       "      <td>15</td>\n",
       "    </tr>\n",
       "    <tr>\n",
       "      <th>2018</th>\n",
       "      <td>16</td>\n",
       "      <td>16</td>\n",
       "      <td>16</td>\n",
       "      <td>16</td>\n",
       "      <td>16</td>\n",
       "      <td>16</td>\n",
       "      <td>16</td>\n",
       "      <td>16</td>\n",
       "      <td>16</td>\n",
       "    </tr>\n",
       "    <tr>\n",
       "      <th>2019</th>\n",
       "      <td>13</td>\n",
       "      <td>13</td>\n",
       "      <td>13</td>\n",
       "      <td>13</td>\n",
       "      <td>13</td>\n",
       "      <td>13</td>\n",
       "      <td>13</td>\n",
       "      <td>13</td>\n",
       "      <td>13</td>\n",
       "    </tr>\n",
       "    <tr>\n",
       "      <th>2020</th>\n",
       "      <td>4</td>\n",
       "      <td>4</td>\n",
       "      <td>4</td>\n",
       "      <td>4</td>\n",
       "      <td>4</td>\n",
       "      <td>4</td>\n",
       "      <td>4</td>\n",
       "      <td>4</td>\n",
       "      <td>4</td>\n",
       "    </tr>\n",
       "  </tbody>\n",
       "</table>\n",
       "</div>"
      ],
      "text/plain": [
       "      Day  Month  Location  Operator  Aircraft Type  Total Passengers  \\\n",
       "Year                                                                    \n",
       "2000   63     63        63        63             63                63   \n",
       "2001   58     58        58        58             58                58   \n",
       "2002   55     55        55        55             55                55   \n",
       "2003   62     62        62        62             62                62   \n",
       "2004   46     46        46        46             46                46   \n",
       "2005   45     45        45        45             45                45   \n",
       "2006   38     38        38        38             38                38   \n",
       "2007   43     43        43        43             43                43   \n",
       "2008   51     51        51        51             51                51   \n",
       "2009   46     46        46        46             46                46   \n",
       "2010   40     40        40        40             40                40   \n",
       "2011   36     36        36        36             36                36   \n",
       "2012   26     26        26        26             26                26   \n",
       "2013   25     25        25        25             25                25   \n",
       "2014   23     23        23        23             23                23   \n",
       "2015   18     18        18        18             18                18   \n",
       "2016   23     23        23        23             23                23   \n",
       "2017   15     15        15        15             15                15   \n",
       "2018   16     16        16        16             16                16   \n",
       "2019   13     13        13        13             13                13   \n",
       "2020    4      4         4         4              4                 4   \n",
       "\n",
       "      Casualties  Ground Casualties  Total Casualties  \n",
       "Year                                                   \n",
       "2000          63                 63                63  \n",
       "2001          58                 58                58  \n",
       "2002          55                 55                55  \n",
       "2003          62                 62                62  \n",
       "2004          46                 46                46  \n",
       "2005          45                 45                45  \n",
       "2006          38                 38                38  \n",
       "2007          43                 43                43  \n",
       "2008          51                 51                51  \n",
       "2009          46                 46                46  \n",
       "2010          40                 40                40  \n",
       "2011          36                 36                36  \n",
       "2012          26                 26                26  \n",
       "2013          25                 25                25  \n",
       "2014          23                 23                23  \n",
       "2015          18                 18                18  \n",
       "2016          23                 23                23  \n",
       "2017          15                 15                15  \n",
       "2018          16                 16                16  \n",
       "2019          13                 13                13  \n",
       "2020           4                  4                 4  "
      ]
     },
     "execution_count": 44,
     "metadata": {},
     "output_type": "execute_result"
    }
   ],
   "source": [
    "crash"
   ]
  },
  {
   "cell_type": "code",
   "execution_count": 127,
   "metadata": {},
   "outputs": [],
   "source": [
    "sns.set()"
   ]
  },
  {
   "cell_type": "code",
   "execution_count": 128,
   "metadata": {},
   "outputs": [
    {
     "data": {
      "image/png": "[encoded data removed]",
      "text/plain": [
       "<Figure size 432x288 with 1 Axes>"
      ]
     },
     "metadata": {},
     "output_type": "display_data"
    }
   ],
   "source": [
    "_ = crash.sort_index(ascending = False)['Casualties'].plot(kind = 'barh')"
   ]
  },
  {
   "cell_type": "code",
   "execution_count": 129,
   "metadata": {},
   "outputs": [
    {
     "data": {
      "text/plain": [
       "Index(['2000', '2001', '2002', '2003', '2004', '2005', '2006', '2007', '2008',\n",
       "       '2009', '2010', '2011', '2012', '2013', '2014', '2015', '2016', '2017',\n",
       "       '2018', '2019', '2020'],\n",
       "      dtype='object', name='Year')"
      ]
     },
     "execution_count": 129,
     "metadata": {},
     "output_type": "execute_result"
    }
   ],
   "source": [
    "crash.index"
   ]
  },
  {
   "cell_type": "code",
   "execution_count": 130,
   "metadata": {},
   "outputs": [
    {
     "data": {
      "text/plain": [
       "Index(['Day', 'Month', 'Location', 'Operator', 'Aircraft Type',\n",
       "       'Total Passengers', 'Casualties', 'Ground Casualties',\n",
       "       'Total Casualties'],\n",
       "      dtype='object')"
      ]
     },
     "execution_count": 130,
     "metadata": {},
     "output_type": "execute_result"
    }
   ],
   "source": [
    "crash.columns"
   ]
  },
  {
   "cell_type": "code",
   "execution_count": 131,
   "metadata": {},
   "outputs": [
    {
     "data": {
      "text/plain": [
       "Day                  63\n",
       "Month                63\n",
       "Location             63\n",
       "Operator             63\n",
       "Aircraft Type        63\n",
       "Total Passengers     63\n",
       "Casualties           63\n",
       "Ground Casualties    63\n",
       "Total Casualties     63\n",
       "Name: 2000, dtype: int64"
      ]
     },
     "execution_count": 131,
     "metadata": {},
     "output_type": "execute_result"
    }
   ],
   "source": [
    "crash.loc['2000']"
   ]
  },
  {
   "cell_type": "code",
   "execution_count": 132,
   "metadata": {},
   "outputs": [
    {
     "data": {
      "text/html": [
       "<div>\n",
       "<style scoped>\n",
       "    .dataframe tbody tr th:only-of-type {\n",
       "        vertical-align: middle;\n",
       "    }\n",
       "\n",
       "    .dataframe tbody tr th {\n",
       "        vertical-align: top;\n",
       "    }\n",
       "\n",
       "    .dataframe thead th {\n",
       "        text-align: right;\n",
       "    }\n",
       "</style>\n",
       "<table border=\"1\" class=\"dataframe\">\n",
       "  <thead>\n",
       "    <tr style=\"text-align: right;\">\n",
       "      <th></th>\n",
       "      <th>Day</th>\n",
       "      <th>Month</th>\n",
       "      <th>Location</th>\n",
       "      <th>Operator</th>\n",
       "      <th>Aircraft Type</th>\n",
       "      <th>Total Passengers</th>\n",
       "      <th>Casualties</th>\n",
       "      <th>Ground Casualties</th>\n",
       "      <th>Total Casualties</th>\n",
       "    </tr>\n",
       "    <tr>\n",
       "      <th>Year</th>\n",
       "      <th></th>\n",
       "      <th></th>\n",
       "      <th></th>\n",
       "      <th></th>\n",
       "      <th></th>\n",
       "      <th></th>\n",
       "      <th></th>\n",
       "      <th></th>\n",
       "      <th></th>\n",
       "    </tr>\n",
       "  </thead>\n",
       "  <tbody>\n",
       "    <tr>\n",
       "      <th>2000</th>\n",
       "      <td>63</td>\n",
       "      <td>63</td>\n",
       "      <td>63</td>\n",
       "      <td>63</td>\n",
       "      <td>63</td>\n",
       "      <td>63</td>\n",
       "      <td>63</td>\n",
       "      <td>63</td>\n",
       "      <td>63</td>\n",
       "    </tr>\n",
       "    <tr>\n",
       "      <th>2001</th>\n",
       "      <td>58</td>\n",
       "      <td>58</td>\n",
       "      <td>58</td>\n",
       "      <td>58</td>\n",
       "      <td>58</td>\n",
       "      <td>58</td>\n",
       "      <td>58</td>\n",
       "      <td>58</td>\n",
       "      <td>58</td>\n",
       "    </tr>\n",
       "    <tr>\n",
       "      <th>2002</th>\n",
       "      <td>55</td>\n",
       "      <td>55</td>\n",
       "      <td>55</td>\n",
       "      <td>55</td>\n",
       "      <td>55</td>\n",
       "      <td>55</td>\n",
       "      <td>55</td>\n",
       "      <td>55</td>\n",
       "      <td>55</td>\n",
       "    </tr>\n",
       "    <tr>\n",
       "      <th>2003</th>\n",
       "      <td>62</td>\n",
       "      <td>62</td>\n",
       "      <td>62</td>\n",
       "      <td>62</td>\n",
       "      <td>62</td>\n",
       "      <td>62</td>\n",
       "      <td>62</td>\n",
       "      <td>62</td>\n",
       "      <td>62</td>\n",
       "    </tr>\n",
       "    <tr>\n",
       "      <th>2004</th>\n",
       "      <td>46</td>\n",
       "      <td>46</td>\n",
       "      <td>46</td>\n",
       "      <td>46</td>\n",
       "      <td>46</td>\n",
       "      <td>46</td>\n",
       "      <td>46</td>\n",
       "      <td>46</td>\n",
       "      <td>46</td>\n",
       "    </tr>\n",
       "  </tbody>\n",
       "</table>\n",
       "</div>"
      ],
      "text/plain": [
       "      Day  Month  Location  Operator  Aircraft Type  Total Passengers  \\\n",
       "Year                                                                    \n",
       "2000   63     63        63        63             63                63   \n",
       "2001   58     58        58        58             58                58   \n",
       "2002   55     55        55        55             55                55   \n",
       "2003   62     62        62        62             62                62   \n",
       "2004   46     46        46        46             46                46   \n",
       "\n",
       "      Casualties  Ground Casualties  Total Casualties  \n",
       "Year                                                   \n",
       "2000          63                 63                63  \n",
       "2001          58                 58                58  \n",
       "2002          55                 55                55  \n",
       "2003          62                 62                62  \n",
       "2004          46                 46                46  "
      ]
     },
     "execution_count": 132,
     "metadata": {},
     "output_type": "execute_result"
    }
   ],
   "source": [
    "crash.head()"
   ]
  },
  {
   "cell_type": "code",
   "execution_count": 133,
   "metadata": {},
   "outputs": [
    {
     "data": {
      "text/plain": [
       "Year\n",
       "2000    63\n",
       "2001    58\n",
       "2002    55\n",
       "2003    62\n",
       "2004    46\n",
       "2005    45\n",
       "2006    38\n",
       "2007    43\n",
       "2008    51\n",
       "2009    46\n",
       "2010    40\n",
       "2011    36\n",
       "2012    26\n",
       "2013    25\n",
       "2014    23\n",
       "2015    18\n",
       "2016    23\n",
       "2017    15\n",
       "2018    16\n",
       "2019    13\n",
       "2020     4\n",
       "Name: Aircraft Type, dtype: int64"
      ]
     },
     "execution_count": 133,
     "metadata": {},
     "output_type": "execute_result"
    }
   ],
   "source": [
    "crash['Aircraft Type']"
   ]
  },
  {
   "cell_type": "code",
   "execution_count": 134,
   "metadata": {},
   "outputs": [
    {
     "data": {
      "text/plain": [
       "Day                  63\n",
       "Month                63\n",
       "Location             63\n",
       "Operator             63\n",
       "Aircraft Type        63\n",
       "Total Passengers     63\n",
       "Casualties           63\n",
       "Ground Casualties    63\n",
       "Total Casualties     63\n",
       "Name: 2000, dtype: int64"
      ]
     },
     "execution_count": 134,
     "metadata": {},
     "output_type": "execute_result"
    }
   ],
   "source": [
    "#to get the index by the no\n",
    "crash.iloc[0]"
   ]
  },
  {
   "cell_type": "code",
   "execution_count": 135,
   "metadata": {},
   "outputs": [
    {
     "data": {
      "text/plain": [
       "51"
      ]
     },
     "execution_count": 135,
     "metadata": {},
     "output_type": "execute_result"
    }
   ],
   "source": [
    "#to accsess particular item in the data\n",
    "crash.loc['2008']['Casualties']"
   ]
  },
  {
   "cell_type": "code",
   "execution_count": 136,
   "metadata": {},
   "outputs": [
    {
     "data": {
      "text/plain": [
       "Casualties           26\n",
       "Ground Casualties    26\n",
       "Name: 2012, dtype: int64"
      ]
     },
     "execution_count": 136,
     "metadata": {},
     "output_type": "execute_result"
    }
   ],
   "source": [
    "#to accessing one row by name two coumns by name\n",
    "crash.loc['2012'][['Casualties','Ground Casualties']]"
   ]
  },
  {
   "cell_type": "code",
   "execution_count": 137,
   "metadata": {},
   "outputs": [
    {
     "data": {
      "text/html": [
       "<div>\n",
       "<style scoped>\n",
       "    .dataframe tbody tr th:only-of-type {\n",
       "        vertical-align: middle;\n",
       "    }\n",
       "\n",
       "    .dataframe tbody tr th {\n",
       "        vertical-align: top;\n",
       "    }\n",
       "\n",
       "    .dataframe thead th {\n",
       "        text-align: right;\n",
       "    }\n",
       "</style>\n",
       "<table border=\"1\" class=\"dataframe\">\n",
       "  <thead>\n",
       "    <tr style=\"text-align: right;\">\n",
       "      <th></th>\n",
       "      <th>Casualties</th>\n",
       "      <th>Ground Casualties</th>\n",
       "    </tr>\n",
       "    <tr>\n",
       "      <th>Year</th>\n",
       "      <th></th>\n",
       "      <th></th>\n",
       "    </tr>\n",
       "  </thead>\n",
       "  <tbody>\n",
       "    <tr>\n",
       "      <th>2014</th>\n",
       "      <td>23</td>\n",
       "      <td>23</td>\n",
       "    </tr>\n",
       "    <tr>\n",
       "      <th>2015</th>\n",
       "      <td>18</td>\n",
       "      <td>18</td>\n",
       "    </tr>\n",
       "  </tbody>\n",
       "</table>\n",
       "</div>"
      ],
      "text/plain": [
       "      Casualties  Ground Casualties\n",
       "Year                               \n",
       "2014          23                 23\n",
       "2015          18                 18"
      ]
     },
     "execution_count": 137,
     "metadata": {},
     "output_type": "execute_result"
    }
   ],
   "source": [
    "#To get no or rows and the no of columns\n",
    "crash.loc[['2014','2015']][['Casualties','Ground Casualties']]"
   ]
  },
  {
   "cell_type": "code",
   "execution_count": 138,
   "metadata": {},
   "outputs": [
    {
     "data": {
      "text/html": [
       "<div>\n",
       "<style scoped>\n",
       "    .dataframe tbody tr th:only-of-type {\n",
       "        vertical-align: middle;\n",
       "    }\n",
       "\n",
       "    .dataframe tbody tr th {\n",
       "        vertical-align: top;\n",
       "    }\n",
       "\n",
       "    .dataframe thead th {\n",
       "        text-align: right;\n",
       "    }\n",
       "</style>\n",
       "<table border=\"1\" class=\"dataframe\">\n",
       "  <thead>\n",
       "    <tr style=\"text-align: right;\">\n",
       "      <th></th>\n",
       "      <th>Casualties</th>\n",
       "      <th>Ground Casualties</th>\n",
       "    </tr>\n",
       "    <tr>\n",
       "      <th>Year</th>\n",
       "      <th></th>\n",
       "      <th></th>\n",
       "    </tr>\n",
       "  </thead>\n",
       "  <tbody>\n",
       "    <tr>\n",
       "      <th>2016</th>\n",
       "      <td>23</td>\n",
       "      <td>23</td>\n",
       "    </tr>\n",
       "    <tr>\n",
       "      <th>2017</th>\n",
       "      <td>15</td>\n",
       "      <td>15</td>\n",
       "    </tr>\n",
       "    <tr>\n",
       "      <th>2018</th>\n",
       "      <td>16</td>\n",
       "      <td>16</td>\n",
       "    </tr>\n",
       "    <tr>\n",
       "      <th>2019</th>\n",
       "      <td>13</td>\n",
       "      <td>13</td>\n",
       "    </tr>\n",
       "    <tr>\n",
       "      <th>2020</th>\n",
       "      <td>4</td>\n",
       "      <td>4</td>\n",
       "    </tr>\n",
       "  </tbody>\n",
       "</table>\n",
       "</div>"
      ],
      "text/plain": [
       "      Casualties  Ground Casualties\n",
       "Year                               \n",
       "2016          23                 23\n",
       "2017          15                 15\n",
       "2018          16                 16\n",
       "2019          13                 13\n",
       "2020           4                  4"
      ]
     },
     "execution_count": 138,
     "metadata": {},
     "output_type": "execute_result"
    }
   ],
   "source": [
    "#To get the range the range of rows\n",
    "crash[-5:][['Casualties','Ground Casualties']]"
   ]
  },
  {
   "cell_type": "code",
   "execution_count": 139,
   "metadata": {},
   "outputs": [
    {
     "data": {
      "text/plain": [
       "Casualties           13\n",
       "Ground Casualties    13\n",
       "Name: 2019, dtype: int64"
      ]
     },
     "execution_count": 139,
     "metadata": {},
     "output_type": "execute_result"
    }
   ],
   "source": [
    "#Accessing only one rows by its index no\n",
    "crash.iloc[-2][['Casualties','Ground Casualties']]"
   ]
  },
  {
   "cell_type": "markdown",
   "metadata": {},
   "source": [
    "# Data Analysis\n",
    "### In this graph we can clearly visible that is highest no of crashes happend in the year of 2000 and 2003 only.\n",
    "### Yearly wise the crashes rate is decreased.\n",
    "### And also we can see 2000 to 2010 the No of crashes per year is more then 30.\n",
    "### when we loking at the latest updates we can appricciate the air lines department.\n",
    "### Highest no of crashes recorded at the year of 2000 when its comes to 2019,2020 its very less"
   ]
  },
  {
   "cell_type": "code",
   "execution_count": 140,
   "metadata": {
    "colab": {},
    "colab_type": "code",
    "id": "rpMCUUM6wjw0"
   },
   "outputs": [
    {
     "data": {
      "text/plain": [
       "<matplotlib.legend.Legend at 0x6116430>"
      ]
     },
     "execution_count": 140,
     "metadata": {},
     "output_type": "execute_result"
    },
    {
     "data": {
      "image/png": "[encoded data removed]",
      "text/plain": [
       "<Figure size 1440x432 with 1 Axes>"
      ]
     },
     "metadata": {},
     "output_type": "display_data"
    }
   ],
   "source": [
    "plt.figure(figsize=(20, 6))\n",
    "x_vals, y_vals = ecdf(crash['Total Casualties'])\n",
    "\n",
    "plt.plot(x_vals, y_vals, marker='.', ls='none', label=\"Plane Crash \")\n",
    "\n",
    "_ = plt.xlabel('No Of Plane crash')\n",
    "_ = plt.ylabel('ECDF')\n",
    "plt.legend()"
   ]
  },
  {
   "cell_type": "markdown",
   "metadata": {
    "colab": {},
    "colab_type": "code",
    "id": "b4Q77-jlwjuG"
   },
   "source": [
    "# ECDF Analysis\n",
    "#### In this graph we can see the clear data that is :\n",
    "#### Most of the year plane crashed less then 50 times.\n",
    "#### yearly wise Air Line departments are improved so much thats y plane crashes are reduced\n",
    "#### last 20 years of data 2019,2020 are the safer over the 20 year."
   ]
  },
  {
   "cell_type": "markdown",
   "metadata": {
    "colab_type": "text",
    "id": "EsVe5r-6Svl7"
   },
   "source": [
    "# 4. Display in a graph month-wise report of deaths\n",
    "\n",
    "- Are there any trends or patterns that you see in this data ?\n",
    "- Which are the top 3 months with the highest  deaths on an average ?\n",
    "- Which are the top 3 months with the least  deaths on an average?"
   ]
  },
  {
   "cell_type": "code",
   "execution_count": 141,
   "metadata": {},
   "outputs": [
    {
     "data": {
      "text/html": [
       "<div>\n",
       "<style scoped>\n",
       "    .dataframe tbody tr th:only-of-type {\n",
       "        vertical-align: middle;\n",
       "    }\n",
       "\n",
       "    .dataframe tbody tr th {\n",
       "        vertical-align: top;\n",
       "    }\n",
       "\n",
       "    .dataframe thead th {\n",
       "        text-align: right;\n",
       "    }\n",
       "</style>\n",
       "<table border=\"1\" class=\"dataframe\">\n",
       "  <thead>\n",
       "    <tr style=\"text-align: right;\">\n",
       "      <th></th>\n",
       "      <th>Total Passengers</th>\n",
       "      <th>Casualties</th>\n",
       "      <th>Ground Casualties</th>\n",
       "      <th>Total Casualties</th>\n",
       "    </tr>\n",
       "    <tr>\n",
       "      <th>Month</th>\n",
       "      <th></th>\n",
       "      <th></th>\n",
       "      <th></th>\n",
       "      <th></th>\n",
       "    </tr>\n",
       "  </thead>\n",
       "  <tbody>\n",
       "    <tr>\n",
       "      <th>Apr</th>\n",
       "      <td>1830</td>\n",
       "      <td>1206</td>\n",
       "      <td>52</td>\n",
       "      <td>1258</td>\n",
       "    </tr>\n",
       "    <tr>\n",
       "      <th>Aug</th>\n",
       "      <td>3462</td>\n",
       "      <td>1868</td>\n",
       "      <td>2</td>\n",
       "      <td>1870</td>\n",
       "    </tr>\n",
       "    <tr>\n",
       "      <th>Dec</th>\n",
       "      <td>1640</td>\n",
       "      <td>1012</td>\n",
       "      <td>17</td>\n",
       "      <td>1029</td>\n",
       "    </tr>\n",
       "    <tr>\n",
       "      <th>Feb</th>\n",
       "      <td>1693</td>\n",
       "      <td>1191</td>\n",
       "      <td>3</td>\n",
       "      <td>1194</td>\n",
       "    </tr>\n",
       "    <tr>\n",
       "      <th>Jan</th>\n",
       "      <td>2411</td>\n",
       "      <td>1697</td>\n",
       "      <td>44</td>\n",
       "      <td>1741</td>\n",
       "    </tr>\n",
       "  </tbody>\n",
       "</table>\n",
       "</div>"
      ],
      "text/plain": [
       "       Total Passengers  Casualties  Ground Casualties  Total Casualties\n",
       "Month                                                                   \n",
       "Apr                1830        1206                 52              1258\n",
       "Aug                3462        1868                  2              1870\n",
       "Dec                1640        1012                 17              1029\n",
       "Feb                1693        1191                  3              1194\n",
       "Jan                2411        1697                 44              1741"
      ]
     },
     "execution_count": 141,
     "metadata": {},
     "output_type": "execute_result"
    }
   ],
   "source": [
    "month = df.groupby('Month').sum()\n",
    "month.head()"
   ]
  },
  {
   "cell_type": "code",
   "execution_count": 142,
   "metadata": {},
   "outputs": [
    {
     "data": {
      "text/plain": [
       "Index(['Apr', 'Aug', 'Dec', 'Feb', 'Jan', 'Jul', 'Jun', 'Mar', 'May', 'Nov',\n",
       "       'Oct', 'Sep'],\n",
       "      dtype='object', name='Month')"
      ]
     },
     "execution_count": 142,
     "metadata": {},
     "output_type": "execute_result"
    }
   ],
   "source": [
    "month.index"
   ]
  },
  {
   "cell_type": "code",
   "execution_count": 143,
   "metadata": {},
   "outputs": [
    {
     "data": {
      "text/html": [
       "<div>\n",
       "<style scoped>\n",
       "    .dataframe tbody tr th:only-of-type {\n",
       "        vertical-align: middle;\n",
       "    }\n",
       "\n",
       "    .dataframe tbody tr th {\n",
       "        vertical-align: top;\n",
       "    }\n",
       "\n",
       "    .dataframe thead th {\n",
       "        text-align: right;\n",
       "    }\n",
       "</style>\n",
       "<table border=\"1\" class=\"dataframe\">\n",
       "  <thead>\n",
       "    <tr style=\"text-align: right;\">\n",
       "      <th></th>\n",
       "      <th>Total Passengers</th>\n",
       "      <th>Casualties</th>\n",
       "      <th>Ground Casualties</th>\n",
       "      <th>Total Casualties</th>\n",
       "    </tr>\n",
       "    <tr>\n",
       "      <th>Month</th>\n",
       "      <th></th>\n",
       "      <th></th>\n",
       "      <th></th>\n",
       "      <th></th>\n",
       "    </tr>\n",
       "  </thead>\n",
       "  <tbody>\n",
       "    <tr>\n",
       "      <th>Jan</th>\n",
       "      <td>2411</td>\n",
       "      <td>1697</td>\n",
       "      <td>44</td>\n",
       "      <td>1741</td>\n",
       "    </tr>\n",
       "    <tr>\n",
       "      <th>Feb</th>\n",
       "      <td>1693</td>\n",
       "      <td>1191</td>\n",
       "      <td>3</td>\n",
       "      <td>1194</td>\n",
       "    </tr>\n",
       "    <tr>\n",
       "      <th>Mar</th>\n",
       "      <td>1903</td>\n",
       "      <td>1290</td>\n",
       "      <td>21</td>\n",
       "      <td>1311</td>\n",
       "    </tr>\n",
       "    <tr>\n",
       "      <th>Apr</th>\n",
       "      <td>1830</td>\n",
       "      <td>1206</td>\n",
       "      <td>52</td>\n",
       "      <td>1258</td>\n",
       "    </tr>\n",
       "    <tr>\n",
       "      <th>May</th>\n",
       "      <td>2671</td>\n",
       "      <td>2020</td>\n",
       "      <td>82</td>\n",
       "      <td>2102</td>\n",
       "    </tr>\n",
       "    <tr>\n",
       "      <th>Jun</th>\n",
       "      <td>1818</td>\n",
       "      <td>1371</td>\n",
       "      <td>63</td>\n",
       "      <td>1434</td>\n",
       "    </tr>\n",
       "    <tr>\n",
       "      <th>Jul</th>\n",
       "      <td>3045</td>\n",
       "      <td>2360</td>\n",
       "      <td>130</td>\n",
       "      <td>2490</td>\n",
       "    </tr>\n",
       "    <tr>\n",
       "      <th>Aug</th>\n",
       "      <td>3462</td>\n",
       "      <td>1868</td>\n",
       "      <td>2</td>\n",
       "      <td>1870</td>\n",
       "    </tr>\n",
       "    <tr>\n",
       "      <th>Sep</th>\n",
       "      <td>1576</td>\n",
       "      <td>1173</td>\n",
       "      <td>5679</td>\n",
       "      <td>6852</td>\n",
       "    </tr>\n",
       "    <tr>\n",
       "      <th>Nov</th>\n",
       "      <td>1742</td>\n",
       "      <td>1157</td>\n",
       "      <td>61</td>\n",
       "      <td>1218</td>\n",
       "    </tr>\n",
       "    <tr>\n",
       "      <th>Dec</th>\n",
       "      <td>1640</td>\n",
       "      <td>1012</td>\n",
       "      <td>17</td>\n",
       "      <td>1029</td>\n",
       "    </tr>\n",
       "  </tbody>\n",
       "</table>\n",
       "</div>"
      ],
      "text/plain": [
       "       Total Passengers  Casualties  Ground Casualties  Total Casualties\n",
       "Month                                                                   \n",
       "Jan                2411        1697                 44              1741\n",
       "Feb                1693        1191                  3              1194\n",
       "Mar                1903        1290                 21              1311\n",
       "Apr                1830        1206                 52              1258\n",
       "May                2671        2020                 82              2102\n",
       "Jun                1818        1371                 63              1434\n",
       "Jul                3045        2360                130              2490\n",
       "Aug                3462        1868                  2              1870\n",
       "Sep                1576        1173               5679              6852\n",
       "Nov                1742        1157                 61              1218\n",
       "Dec                1640        1012                 17              1029"
      ]
     },
     "execution_count": 143,
     "metadata": {},
     "output_type": "execute_result"
    }
   ],
   "source": [
    "month = month.reindex(['Jan','Feb','Mar','Apr','May','Jun','Jul','Aug','Sep','Nov','Dec'])\n",
    "month"
   ]
  },
  {
   "cell_type": "code",
   "execution_count": 144,
   "metadata": {},
   "outputs": [
    {
     "data": {
      "image/png": "[encoded data removed]",
      "text/plain": [
       "<Figure size 1440x432 with 1 Axes>"
      ]
     },
     "metadata": {},
     "output_type": "display_data"
    }
   ],
   "source": [
    "_ = month.iloc[::-1]['Casualties'].plot(kind = 'barh',figsize=(20, 6))"
   ]
  },
  {
   "cell_type": "code",
   "execution_count": 145,
   "metadata": {},
   "outputs": [
    {
     "data": {
      "text/plain": [
       "Month\n",
       "Jul    77.504105\n",
       "May    75.627106\n",
       "Jun    75.412541\n",
       "Sep    74.428934\n",
       "Jan    70.385732\n",
       "Feb    70.348494\n",
       "Mar    67.787704\n",
       "Nov    66.417910\n",
       "Apr    65.901639\n",
       "Dec    61.707317\n",
       "Aug    53.957250\n",
       "Name: per_casu, dtype: float64"
      ]
     },
     "execution_count": 145,
     "metadata": {},
     "output_type": "execute_result"
    }
   ],
   "source": [
    "#show the top 5 months of highest percentage of casualties\n",
    "month['per_casu'] = (month['Casualties']/month['Total Passengers'])*100\n",
    "month['per_casu'].sort_values(ascending = False)"
   ]
  },
  {
   "cell_type": "code",
   "execution_count": 146,
   "metadata": {
    "colab": {},
    "colab_type": "code",
    "id": "-7XdxclZwjo7"
   },
   "outputs": [
    {
     "data": {
      "text/plain": [
       "<matplotlib.axes._subplots.AxesSubplot at 0x61ab870>"
      ]
     },
     "execution_count": 146,
     "metadata": {},
     "output_type": "execute_result"
    },
    {
     "data": {
      "image/png": "[encoded data removed]",
      "text/plain": [
       "<Figure size 432x288 with 1 Axes>"
      ]
     },
     "metadata": {},
     "output_type": "display_data"
    }
   ],
   "source": [
    "month['per_casu'].sort_values(ascending = False)[:5].plot(kind='barh')"
   ]
  },
  {
   "cell_type": "code",
   "execution_count": 147,
   "metadata": {},
   "outputs": [
    {
     "data": {
      "text/html": [
       "<div>\n",
       "<style scoped>\n",
       "    .dataframe tbody tr th:only-of-type {\n",
       "        vertical-align: middle;\n",
       "    }\n",
       "\n",
       "    .dataframe tbody tr th {\n",
       "        vertical-align: top;\n",
       "    }\n",
       "\n",
       "    .dataframe thead th {\n",
       "        text-align: right;\n",
       "    }\n",
       "</style>\n",
       "<table border=\"1\" class=\"dataframe\">\n",
       "  <thead>\n",
       "    <tr style=\"text-align: right;\">\n",
       "      <th></th>\n",
       "      <th>Total Passengers</th>\n",
       "      <th>Casualties</th>\n",
       "      <th>Ground Casualties</th>\n",
       "      <th>Total Casualties</th>\n",
       "      <th>per_casu</th>\n",
       "    </tr>\n",
       "    <tr>\n",
       "      <th>Month</th>\n",
       "      <th></th>\n",
       "      <th></th>\n",
       "      <th></th>\n",
       "      <th></th>\n",
       "      <th></th>\n",
       "    </tr>\n",
       "  </thead>\n",
       "  <tbody>\n",
       "    <tr>\n",
       "      <th>Jan</th>\n",
       "      <td>2411</td>\n",
       "      <td>1697</td>\n",
       "      <td>44</td>\n",
       "      <td>1741</td>\n",
       "      <td>70.385732</td>\n",
       "    </tr>\n",
       "    <tr>\n",
       "      <th>Feb</th>\n",
       "      <td>1693</td>\n",
       "      <td>1191</td>\n",
       "      <td>3</td>\n",
       "      <td>1194</td>\n",
       "      <td>70.348494</td>\n",
       "    </tr>\n",
       "    <tr>\n",
       "      <th>Mar</th>\n",
       "      <td>1903</td>\n",
       "      <td>1290</td>\n",
       "      <td>21</td>\n",
       "      <td>1311</td>\n",
       "      <td>67.787704</td>\n",
       "    </tr>\n",
       "    <tr>\n",
       "      <th>Apr</th>\n",
       "      <td>1830</td>\n",
       "      <td>1206</td>\n",
       "      <td>52</td>\n",
       "      <td>1258</td>\n",
       "      <td>65.901639</td>\n",
       "    </tr>\n",
       "    <tr>\n",
       "      <th>May</th>\n",
       "      <td>2671</td>\n",
       "      <td>2020</td>\n",
       "      <td>82</td>\n",
       "      <td>2102</td>\n",
       "      <td>75.627106</td>\n",
       "    </tr>\n",
       "  </tbody>\n",
       "</table>\n",
       "</div>"
      ],
      "text/plain": [
       "       Total Passengers  Casualties  Ground Casualties  Total Casualties  \\\n",
       "Month                                                                      \n",
       "Jan                2411        1697                 44              1741   \n",
       "Feb                1693        1191                  3              1194   \n",
       "Mar                1903        1290                 21              1311   \n",
       "Apr                1830        1206                 52              1258   \n",
       "May                2671        2020                 82              2102   \n",
       "\n",
       "        per_casu  \n",
       "Month             \n",
       "Jan    70.385732  \n",
       "Feb    70.348494  \n",
       "Mar    67.787704  \n",
       "Apr    65.901639  \n",
       "May    75.627106  "
      ]
     },
     "execution_count": 147,
     "metadata": {},
     "output_type": "execute_result"
    }
   ],
   "source": [
    "month.head()"
   ]
  },
  {
   "cell_type": "code",
   "execution_count": 148,
   "metadata": {},
   "outputs": [
    {
     "data": {
      "text/html": [
       "<div>\n",
       "<style scoped>\n",
       "    .dataframe tbody tr th:only-of-type {\n",
       "        vertical-align: middle;\n",
       "    }\n",
       "\n",
       "    .dataframe tbody tr th {\n",
       "        vertical-align: top;\n",
       "    }\n",
       "\n",
       "    .dataframe thead th {\n",
       "        text-align: right;\n",
       "    }\n",
       "</style>\n",
       "<table border=\"1\" class=\"dataframe\">\n",
       "  <thead>\n",
       "    <tr style=\"text-align: right;\">\n",
       "      <th></th>\n",
       "      <th>Total Passengers</th>\n",
       "      <th>Casualties</th>\n",
       "      <th>Ground Casualties</th>\n",
       "      <th>Total Casualties</th>\n",
       "      <th>per_casu</th>\n",
       "    </tr>\n",
       "    <tr>\n",
       "      <th>Month</th>\n",
       "      <th></th>\n",
       "      <th></th>\n",
       "      <th></th>\n",
       "      <th></th>\n",
       "      <th></th>\n",
       "    </tr>\n",
       "  </thead>\n",
       "  <tbody>\n",
       "    <tr>\n",
       "      <th>Jul</th>\n",
       "      <td>3045</td>\n",
       "      <td>2360</td>\n",
       "      <td>130</td>\n",
       "      <td>2490</td>\n",
       "      <td>77.504105</td>\n",
       "    </tr>\n",
       "    <tr>\n",
       "      <th>May</th>\n",
       "      <td>2671</td>\n",
       "      <td>2020</td>\n",
       "      <td>82</td>\n",
       "      <td>2102</td>\n",
       "      <td>75.627106</td>\n",
       "    </tr>\n",
       "    <tr>\n",
       "      <th>Jun</th>\n",
       "      <td>1818</td>\n",
       "      <td>1371</td>\n",
       "      <td>63</td>\n",
       "      <td>1434</td>\n",
       "      <td>75.412541</td>\n",
       "    </tr>\n",
       "    <tr>\n",
       "      <th>Sep</th>\n",
       "      <td>1576</td>\n",
       "      <td>1173</td>\n",
       "      <td>5679</td>\n",
       "      <td>6852</td>\n",
       "      <td>74.428934</td>\n",
       "    </tr>\n",
       "    <tr>\n",
       "      <th>Jan</th>\n",
       "      <td>2411</td>\n",
       "      <td>1697</td>\n",
       "      <td>44</td>\n",
       "      <td>1741</td>\n",
       "      <td>70.385732</td>\n",
       "    </tr>\n",
       "  </tbody>\n",
       "</table>\n",
       "</div>"
      ],
      "text/plain": [
       "       Total Passengers  Casualties  Ground Casualties  Total Casualties  \\\n",
       "Month                                                                      \n",
       "Jul                3045        2360                130              2490   \n",
       "May                2671        2020                 82              2102   \n",
       "Jun                1818        1371                 63              1434   \n",
       "Sep                1576        1173               5679              6852   \n",
       "Jan                2411        1697                 44              1741   \n",
       "\n",
       "        per_casu  \n",
       "Month             \n",
       "Jul    77.504105  \n",
       "May    75.627106  \n",
       "Jun    75.412541  \n",
       "Sep    74.428934  \n",
       "Jan    70.385732  "
      ]
     },
     "execution_count": 148,
     "metadata": {},
     "output_type": "execute_result"
    }
   ],
   "source": [
    "month.sort_values('per_casu',ascending = False).head()"
   ]
  },
  {
   "cell_type": "code",
   "execution_count": 149,
   "metadata": {},
   "outputs": [],
   "source": [
    "#sns.relplot(x='Total Passengers',y ='year',kind='line' ,data = year)"
   ]
  },
  {
   "cell_type": "code",
   "execution_count": 150,
   "metadata": {},
   "outputs": [
    {
     "data": {
      "text/html": [
       "<div>\n",
       "<style scoped>\n",
       "    .dataframe tbody tr th:only-of-type {\n",
       "        vertical-align: middle;\n",
       "    }\n",
       "\n",
       "    .dataframe tbody tr th {\n",
       "        vertical-align: top;\n",
       "    }\n",
       "\n",
       "    .dataframe thead th {\n",
       "        text-align: right;\n",
       "    }\n",
       "</style>\n",
       "<table border=\"1\" class=\"dataframe\">\n",
       "  <thead>\n",
       "    <tr style=\"text-align: right;\">\n",
       "      <th></th>\n",
       "      <th>Total Passengers</th>\n",
       "      <th>Casualties</th>\n",
       "      <th>Ground Casualties</th>\n",
       "      <th>Total Casualties</th>\n",
       "      <th>per_casu</th>\n",
       "    </tr>\n",
       "    <tr>\n",
       "      <th>Month</th>\n",
       "      <th></th>\n",
       "      <th></th>\n",
       "      <th></th>\n",
       "      <th></th>\n",
       "      <th></th>\n",
       "    </tr>\n",
       "  </thead>\n",
       "  <tbody>\n",
       "    <tr>\n",
       "      <th>Jul</th>\n",
       "      <td>3045</td>\n",
       "      <td>2360</td>\n",
       "      <td>130</td>\n",
       "      <td>2490</td>\n",
       "      <td>77.504105</td>\n",
       "    </tr>\n",
       "    <tr>\n",
       "      <th>May</th>\n",
       "      <td>2671</td>\n",
       "      <td>2020</td>\n",
       "      <td>82</td>\n",
       "      <td>2102</td>\n",
       "      <td>75.627106</td>\n",
       "    </tr>\n",
       "    <tr>\n",
       "      <th>Jun</th>\n",
       "      <td>1818</td>\n",
       "      <td>1371</td>\n",
       "      <td>63</td>\n",
       "      <td>1434</td>\n",
       "      <td>75.412541</td>\n",
       "    </tr>\n",
       "    <tr>\n",
       "      <th>Sep</th>\n",
       "      <td>1576</td>\n",
       "      <td>1173</td>\n",
       "      <td>5679</td>\n",
       "      <td>6852</td>\n",
       "      <td>74.428934</td>\n",
       "    </tr>\n",
       "    <tr>\n",
       "      <th>Jan</th>\n",
       "      <td>2411</td>\n",
       "      <td>1697</td>\n",
       "      <td>44</td>\n",
       "      <td>1741</td>\n",
       "      <td>70.385732</td>\n",
       "    </tr>\n",
       "  </tbody>\n",
       "</table>\n",
       "</div>"
      ],
      "text/plain": [
       "       Total Passengers  Casualties  Ground Casualties  Total Casualties  \\\n",
       "Month                                                                      \n",
       "Jul                3045        2360                130              2490   \n",
       "May                2671        2020                 82              2102   \n",
       "Jun                1818        1371                 63              1434   \n",
       "Sep                1576        1173               5679              6852   \n",
       "Jan                2411        1697                 44              1741   \n",
       "\n",
       "        per_casu  \n",
       "Month             \n",
       "Jul    77.504105  \n",
       "May    75.627106  \n",
       "Jun    75.412541  \n",
       "Sep    74.428934  \n",
       "Jan    70.385732  "
      ]
     },
     "execution_count": 150,
     "metadata": {},
     "output_type": "execute_result"
    }
   ],
   "source": [
    "month.sort_values('per_casu',ascending = False)[:5]"
   ]
  },
  {
   "cell_type": "code",
   "execution_count": 151,
   "metadata": {},
   "outputs": [
    {
     "data": {
      "text/plain": [
       "<matplotlib.axes._subplots.AxesSubplot at 0x61e09b0>"
      ]
     },
     "execution_count": 151,
     "metadata": {},
     "output_type": "execute_result"
    },
    {
     "data": {
      "image/png": "[encoded data removed]",
      "text/plain": [
       "<Figure size 432x288 with 1 Axes>"
      ]
     },
     "metadata": {},
     "output_type": "display_data"
    }
   ],
   "source": [
    "month.sort_values('per_casu',ascending = False)[:5][['Total Passengers','Casualties']].plot(kind = 'bar')"
   ]
  },
  {
   "cell_type": "code",
   "execution_count": null,
   "metadata": {},
   "outputs": [],
   "source": []
  },
  {
   "cell_type": "code",
   "execution_count": null,
   "metadata": {},
   "outputs": [],
   "source": []
  },
  {
   "cell_type": "code",
   "execution_count": null,
   "metadata": {},
   "outputs": [],
   "source": []
  },
  {
   "cell_type": "code",
   "execution_count": null,
   "metadata": {},
   "outputs": [],
   "source": []
  },
  {
   "cell_type": "code",
   "execution_count": null,
   "metadata": {},
   "outputs": [],
   "source": []
  },
  {
   "cell_type": "code",
   "execution_count": null,
   "metadata": {},
   "outputs": [],
   "source": []
  },
  {
   "cell_type": "code",
   "execution_count": null,
   "metadata": {},
   "outputs": [],
   "source": []
  },
  {
   "cell_type": "code",
   "execution_count": null,
   "metadata": {},
   "outputs": [],
   "source": []
  },
  {
   "cell_type": "code",
   "execution_count": null,
   "metadata": {},
   "outputs": [],
   "source": []
  },
  {
   "cell_type": "code",
   "execution_count": null,
   "metadata": {},
   "outputs": [],
   "source": []
  },
  {
   "cell_type": "code",
   "execution_count": null,
   "metadata": {
    "colab": {},
    "colab_type": "code",
    "id": "-0muZJroS1Ux"
   },
   "outputs": [],
   "source": []
  },
  {
   "cell_type": "code",
   "execution_count": null,
   "metadata": {
    "colab": {},
    "colab_type": "code",
    "id": "gvGzi208S1GW"
   },
   "outputs": [],
   "source": []
  },
  {
   "cell_type": "code",
   "execution_count": null,
   "metadata": {
    "colab": {},
    "colab_type": "code",
    "id": "H3VazojwS1C_"
   },
   "outputs": [],
   "source": []
  },
  {
   "cell_type": "markdown",
   "metadata": {
    "colab_type": "text",
    "id": "59VTuYG7wn5C"
   },
   "source": [
    "## 5. Report the casualties among passengers and the ground for every year\n",
    "\n",
    "- Has air travel become any safer over these years ?\n",
    "- Are there any specific months where the casualties are usually less ?\n",
    "- Which are the top 3 months, that reported the most number of casualties ?"
   ]
  },
  {
   "cell_type": "code",
   "execution_count": 152,
   "metadata": {
    "colab": {},
    "colab_type": "code",
    "id": "-Hmp5qCrwpzW"
   },
   "outputs": [
    {
     "data": {
      "text/html": [
       "<div>\n",
       "<style scoped>\n",
       "    .dataframe tbody tr th:only-of-type {\n",
       "        vertical-align: middle;\n",
       "    }\n",
       "\n",
       "    .dataframe tbody tr th {\n",
       "        vertical-align: top;\n",
       "    }\n",
       "\n",
       "    .dataframe thead th {\n",
       "        text-align: right;\n",
       "    }\n",
       "</style>\n",
       "<table border=\"1\" class=\"dataframe\">\n",
       "  <thead>\n",
       "    <tr style=\"text-align: right;\">\n",
       "      <th></th>\n",
       "      <th>Total Passengers</th>\n",
       "      <th>Casualties</th>\n",
       "      <th>Ground Casualties</th>\n",
       "      <th>Total Casualties</th>\n",
       "    </tr>\n",
       "    <tr>\n",
       "      <th>Year</th>\n",
       "      <th></th>\n",
       "      <th></th>\n",
       "      <th></th>\n",
       "      <th></th>\n",
       "    </tr>\n",
       "  </thead>\n",
       "  <tbody>\n",
       "    <tr>\n",
       "      <th>2000</th>\n",
       "      <td>2343</td>\n",
       "      <td>1430</td>\n",
       "      <td>23</td>\n",
       "      <td>1453</td>\n",
       "    </tr>\n",
       "    <tr>\n",
       "      <th>2001</th>\n",
       "      <td>2040</td>\n",
       "      <td>1336</td>\n",
       "      <td>5641</td>\n",
       "      <td>6977</td>\n",
       "    </tr>\n",
       "    <tr>\n",
       "      <th>2002</th>\n",
       "      <td>1715</td>\n",
       "      <td>1371</td>\n",
       "      <td>168</td>\n",
       "      <td>1539</td>\n",
       "    </tr>\n",
       "    <tr>\n",
       "      <th>2003</th>\n",
       "      <td>1510</td>\n",
       "      <td>1279</td>\n",
       "      <td>24</td>\n",
       "      <td>1303</td>\n",
       "    </tr>\n",
       "    <tr>\n",
       "      <th>2004</th>\n",
       "      <td>877</td>\n",
       "      <td>662</td>\n",
       "      <td>1</td>\n",
       "      <td>663</td>\n",
       "    </tr>\n",
       "  </tbody>\n",
       "</table>\n",
       "</div>"
      ],
      "text/plain": [
       "      Total Passengers  Casualties  Ground Casualties  Total Casualties\n",
       "Year                                                                   \n",
       "2000              2343        1430                 23              1453\n",
       "2001              2040        1336               5641              6977\n",
       "2002              1715        1371                168              1539\n",
       "2003              1510        1279                 24              1303\n",
       "2004               877         662                  1               663"
      ]
     },
     "execution_count": 152,
     "metadata": {},
     "output_type": "execute_result"
    }
   ],
   "source": [
    "year = df.groupby('Year').sum()\n",
    "year.head()"
   ]
  },
  {
   "cell_type": "code",
   "execution_count": null,
   "metadata": {
    "colab": {},
    "colab_type": "code",
    "id": "DxbkcoN6wpxe"
   },
   "outputs": [],
   "source": []
  },
  {
   "cell_type": "code",
   "execution_count": null,
   "metadata": {
    "colab": {},
    "colab_type": "code",
    "id": "NZcl_PvHwpsr"
   },
   "outputs": [],
   "source": []
  },
  {
   "cell_type": "markdown",
   "metadata": {
    "colab_type": "text",
    "id": "B9Jtu0k1-RFT"
   },
   "source": [
    "# 6. Display in a graph the number of crashes for every year that happened for Airbus\n",
    "\n",
    "- Which were the best 3 years for Airbus ?\n",
    "- Which were the worst 3 years for Airbus ?"
   ]
  },
  {
   "cell_type": "code",
   "execution_count": 157,
   "metadata": {
    "colab": {},
    "colab_type": "code",
    "id": "4iGzm7uT-kEF"
   },
   "outputs": [
    {
     "data": {
      "text/plain": [
       "True"
      ]
     },
     "execution_count": 157,
     "metadata": {},
     "output_type": "execute_result"
    }
   ],
   "source": [
    "'Airbus'in df['Aircraft Type'].unique() "
   ]
  },
  {
   "cell_type": "code",
   "execution_count": 165,
   "metadata": {},
   "outputs": [
    {
     "data": {
      "text/plain": [
       "['??',\n",
       " 'ATR',\n",
       " 'ATR-42-300YV-1449',\n",
       " 'ATR-42-320N902FX',\n",
       " 'ATR-42-500AP-BHO',\n",
       " 'ATR-72-202TS-LBB',\n",
       " 'ATR-72-212AHS-PGL',\n",
       " 'ATR-72-212CU-T1549',\n",
       " 'ATR-72-50RDPL-34233',\n",
       " 'ATR42-320C-GWEA',\n",
       " 'Aerocomp Comp Air',\n",
       " 'Aerospatiale',\n",
       " 'Aerospatiale AS 332L1 Super',\n",
       " 'Aerospatiale AS 350B2',\n",
       " 'Aerospatiale AS-350 B2',\n",
       " 'Aerospatiale AS350 Eurocopter',\n",
       " 'Aerospatiale AS350BA',\n",
       " 'Aerospatiale BAe Concorde',\n",
       " 'Aerospatiale SA365N-1 Dauphin',\n",
       " 'Airbus',\n",
       " 'AirbusA310-3045Y-BEN',\n",
       " 'Antonov',\n",
       " 'Antonov AN-12',\n",
       " 'Antonov AN-140-100',\n",
       " 'Antonov AN-26',\n",
       " 'Antonov AN-28 PZL-Mielec M-28 Sky',\n",
       " 'Antonov An-24',\n",
       " 'Antonv',\n",
       " 'Avro',\n",
       " 'Aérospatiale/Aeritalia',\n",
       " 'BAC One-Eleven',\n",
       " 'BAE Avro',\n",
       " 'BAe',\n",
       " 'BAe 3101 Jetstream',\n",
       " 'BAe Avro',\n",
       " 'BAe HS-748-232 Srs',\n",
       " 'BAe Jetstream',\n",
       " 'Bae Jetstream',\n",
       " 'Bandeirante',\n",
       " 'Beech',\n",
       " 'Beech 200 Super King',\n",
       " 'Beech 65-A80',\n",
       " 'Beech King Air 200',\n",
       " 'Beechcraft',\n",
       " 'Beechcraft 100 King',\n",
       " 'Beechcraft A100 King',\n",
       " 'Beechcraft B200 Super King',\n",
       " 'Beechcraft B300 King',\n",
       " 'Beechcraft SKA',\n",
       " 'Beechcraft Super King Air',\n",
       " 'Bell',\n",
       " 'Bell 206-L4 Jet Ranger',\n",
       " 'Bell 212FAC',\n",
       " 'Bell 407 / Bell 407N407GA /',\n",
       " 'Bell Huey',\n",
       " 'Bell UN-1N',\n",
       " 'Black Hawk',\n",
       " 'Boeing',\n",
       " 'Boeing 737 Max',\n",
       " 'Boeing 737-8KN',\n",
       " 'Boeing 737-8KV',\n",
       " 'Boeing 737-MAX',\n",
       " 'Boeing B-737-210C(A)',\n",
       " 'Boeing B-737-2A8',\n",
       " 'Boeing B-737-8EH /EMB-135JBPR-GTD /',\n",
       " 'Boeing CH-47',\n",
       " 'Bombardier',\n",
       " 'Bombardier DHC-8-402',\n",
       " 'British Aerospace',\n",
       " 'British Aerospace BAe 125-700A',\n",
       " 'British Aerospace BAe Jetstream',\n",
       " 'British Aerospace Jetstream',\n",
       " 'British Aerospace Nimrod',\n",
       " 'Britten Norman BN-2A Trislander',\n",
       " 'Britten Norman BN-2A-27',\n",
       " 'Britten Norman BN-2A-3',\n",
       " 'Britten Norman BN-2B',\n",
       " 'Britten-Norman',\n",
       " 'Britten-Norman BN-2A',\n",
       " 'Britten-Norman BN-2A-20',\n",
       " 'Britten-Norman BN-2A-26',\n",
       " 'Britten-Norman BN-2A-27',\n",
       " 'Britten-Norman BN-2A-8',\n",
       " 'Britten-Norman BN-2A-9',\n",
       " 'Britten-Norman BN2',\n",
       " 'CASA',\n",
       " 'CASA 212',\n",
       " 'CASA 212 AviocarP-2032',\n",
       " 'CASA 212-DE Aviocar',\n",
       " 'CASA 212-MP Aviocar',\n",
       " 'CASA C-212 Aviocar',\n",
       " 'CASA NC-212 Aviocar',\n",
       " 'CH-47',\n",
       " 'CH-47D',\n",
       " 'CH53E Sea',\n",
       " 'Canadair',\n",
       " 'Canadair CL-600',\n",
       " 'Canadair CL-600-2B16 Challenger',\n",
       " 'Canadair CL-601-2A12',\n",
       " 'Canadair CL-604',\n",
       " 'Canadair CRJ200LR',\n",
       " 'Casa 212-AB10',\n",
       " 'Cessna',\n",
       " 'Cessna 208',\n",
       " 'Cessna 208 Grand Caravan',\n",
       " 'Cessna 208B Caravan I Super',\n",
       " 'Cessna 208B Grand',\n",
       " 'Cessna 500 Citation',\n",
       " 'Cessna 550 Citation',\n",
       " 'Cessna 560 Citation',\n",
       " 'Convair',\n",
       " 'Curtiss',\n",
       " 'Dassault Falcon',\n",
       " 'De Havilland Canada DHC-6-300 Twin',\n",
       " 'Dornier',\n",
       " 'Douglas',\n",
       " 'Douglas C-47A-30-DK',\n",
       " 'Douglas DC-3C',\n",
       " 'EMB 721C',\n",
       " 'Embraer',\n",
       " 'Embraer 110',\n",
       " 'Embraer 110P1A',\n",
       " 'Embraer 120ER',\n",
       " 'Embraer 120RT',\n",
       " 'Embraer 820C',\n",
       " 'Embraer EMB-110',\n",
       " 'Embraer EMB-110C',\n",
       " 'Embraer EMB-110P1',\n",
       " 'Embraer EMB-120',\n",
       " 'Embraer-110 C-95B',\n",
       " 'Embraer/Piper EMB-810C',\n",
       " 'Eurocopter',\n",
       " 'Eurocopter AS',\n",
       " 'Eurocopter AS 332L2 Super Puma',\n",
       " 'Eurocopter AS-350BA / Piper PA-32R-300N401lH /',\n",
       " 'Eurocopter AS332L2 Super',\n",
       " 'Eurocopter AS350D',\n",
       " 'Eurocopter Deutschland',\n",
       " 'Eurocopter EC',\n",
       " 'Eurocopter EC-130',\n",
       " 'Eurocopter EC135',\n",
       " 'Eurocopter EC225LP Super Puma M2+',\n",
       " 'Fairchild',\n",
       " 'Fairchild Hiller',\n",
       " 'Fletcher',\n",
       " 'Fokker',\n",
       " 'Fokker 28 Fellowship',\n",
       " 'Fokker F-27 Friendship',\n",
       " 'Fokker F-27 MK',\n",
       " 'Fokker F27 Friendship',\n",
       " 'GAF N22B',\n",
       " 'GAF Nomad',\n",
       " 'Gates Learjet',\n",
       " 'Grumman G-159 Gulfstream',\n",
       " 'Grumman G-21A',\n",
       " 'Grumman G73T Turbo',\n",
       " 'Grumman Gulfstream',\n",
       " 'Grummand Gulfstream',\n",
       " 'HESA',\n",
       " 'Harbin Yunshuji',\n",
       " 'Hawker',\n",
       " 'Hawker Siddeley',\n",
       " 'Helicopter?',\n",
       " 'IAI 1124A',\n",
       " 'IAI 1124A Westwind',\n",
       " 'IAI Attava 201',\n",
       " 'Illyushin',\n",
       " 'Ilushin',\n",
       " 'Iluyshin',\n",
       " 'Ilysushin',\n",
       " 'Ilyushin',\n",
       " 'Ilyushin IL-',\n",
       " 'Ilyushin IL-38 / Ilyushin IL-38IN302 /',\n",
       " 'Ilyushin76TD4K-AZ55',\n",
       " 'Junkers',\n",
       " 'KJ-2000?',\n",
       " 'Kawasaki',\n",
       " 'Kubicek BB85Z Hot Air',\n",
       " 'LET',\n",
       " 'Learjet',\n",
       " 'Let',\n",
       " 'Let 410',\n",
       " 'Let L-410',\n",
       " 'Let-410UVP-EHK-4146',\n",
       " 'Lockheed C-130',\n",
       " 'Lockheed C-130A',\n",
       " 'Lockheed C-130B',\n",
       " 'Lockheed C-130H',\n",
       " 'Lockheed C-130H Hercules',\n",
       " 'Lockheed C-130H-30',\n",
       " 'Lockheed C-130J',\n",
       " 'Lockheed C130-B',\n",
       " 'Lockheed HC-130H',\n",
       " 'Lockheed Hercules',\n",
       " 'Lockheed KC-130T',\n",
       " 'Lockheed L-100',\n",
       " 'Lockheed L-100-30',\n",
       " 'Lockheed MC-130H',\n",
       " 'M28',\n",
       " 'MD-87 / Cessna 525A Citation IISE-DMA /',\n",
       " 'MH-47 Chinook',\n",
       " 'MI 172 V5',\n",
       " 'Mc Donnell Douglas',\n",
       " 'Mc Donnell Douglas 369FF',\n",
       " 'McDonnell',\n",
       " 'McDonnell Douglas',\n",
       " 'McDonnell Douglas C-17A Globemaster',\n",
       " 'McDonnell-Douglas',\n",
       " 'Mi',\n",
       " 'Mi-17',\n",
       " 'Mi-17?',\n",
       " 'Mi-35EV08114',\n",
       " 'Mi-8',\n",
       " 'Mi-8?',\n",
       " 'Mi-8MTV-1RA-27113',\n",
       " 'Mil',\n",
       " 'Mil Mi-172',\n",
       " 'Mil Mi-18',\n",
       " 'Mil-',\n",
       " 'Mitsubishi MU 2B',\n",
       " 'Mitsubishi MU-2B 60',\n",
       " 'North American CT-39A',\n",
       " 'North American P-51D-15-NA',\n",
       " 'PA-34-200 Seneca',\n",
       " 'PAC',\n",
       " 'PZL-Mielec',\n",
       " 'Pacific',\n",
       " 'Pilatus',\n",
       " 'Pilatus Britten Norman BN-2A-27',\n",
       " 'Pilatus Britten-Norman BN-2A-21',\n",
       " 'Pilatus-Britten Norman BN-2A-27',\n",
       " 'Pilatus-Britten Norman BN-2B-26',\n",
       " 'Pilatus-Britten Norman BN-2B-27',\n",
       " 'Piper',\n",
       " 'Piper Navajo PA-31/ Piper Seminole PA-44N27944 /',\n",
       " 'Piper PA-31-350',\n",
       " 'Piper PA-31-350 Navajo',\n",
       " 'Reims Aviation',\n",
       " 'Robertson R44',\n",
       " 'Rockwell 500S Shrike',\n",
       " 'Rockwell CT-39A',\n",
       " 'Rockwell Gulfstream Jetprop 840',\n",
       " 'Rockwell International',\n",
       " 'Rockwell Sabreliner',\n",
       " 'Saab',\n",
       " 'Shaanxi',\n",
       " 'Shaanxi Yunshuji Y-8/Yunshuji',\n",
       " 'Short',\n",
       " 'Shorts',\n",
       " 'Shorts 360-100 /Shorts',\n",
       " 'Shorts SC-7 Skyvan 3M Variant',\n",
       " 'Shorts SC.7 Skyvan',\n",
       " 'Sikorsky',\n",
       " 'Sikorsky S',\n",
       " 'Sikorsky S 76',\n",
       " 'Sikorsky S-76B',\n",
       " 'Sikorsky UH-60 Black Hawk',\n",
       " 'Sikorsky UH-60L Black',\n",
       " 'Sikorsly',\n",
       " 'Socata TB1-10',\n",
       " 'Sud Aviation SE-210 Caravelle',\n",
       " 'Sukhoi',\n",
       " 'Sukhoi Superjet',\n",
       " 'Swearingen SA-226AT Merlin',\n",
       " 'Swearingen SA-226T Metro',\n",
       " 'Swearingen SA-227AC Metro',\n",
       " 'Swearingen SA-227BC Metro',\n",
       " 'Swearingen SA-227BC Metroliner',\n",
       " 'Swearingen SA.226TC Metro',\n",
       " 'Swearingen SA.227AC Metro',\n",
       " 'Swearingen SA.227AT Merlin',\n",
       " 'Swearingen SA227-AC Metro',\n",
       " 'Swearingen SA227AC Metro',\n",
       " 'Swearingen SA227AC Metroliner',\n",
       " 'Swearingen SA227AT Merlin',\n",
       " 'Swearingen SA277-AT',\n",
       " 'Transall',\n",
       " 'Tuolev',\n",
       " 'Tupolev',\n",
       " 'Tupolev TU-154M / Boeing',\n",
       " 'Tupolev TU-204-100V',\n",
       " 'UH-60 Black Hawk / UH-60 Black Hawk? /',\n",
       " 'UH-60 Blackhawk',\n",
       " 'UH-60L Black',\n",
       " 'Urocopter AS350',\n",
       " 'Xian',\n",
       " 'Xian Yunshuji',\n",
       " 'Yakovlev',\n",
       " 'Yunshuji',\n",
       " 'de Havilland Canada',\n",
       " 'de Havilland Canada DH-3T',\n",
       " 'de Havilland Canada DHC 3T Turbine',\n",
       " 'de Havilland Canada DHC-2',\n",
       " 'de Havilland Canada DHC-2 Beaver MK-',\n",
       " 'de Havilland Canada DHC-2 Mark I',\n",
       " 'de Havilland Canada DHC-3',\n",
       " 'de Havilland Canada DHC-6 Twin',\n",
       " 'de Havilland Canada DHC-6 Twin Otter',\n",
       " 'de Havilland Canada DHC-6-300 Twin',\n",
       " 'de Havilland Canada DHC-8-402Q Dash',\n",
       " 'de Havilland DCH-4T',\n",
       " 'de Havilland DHC-2 MK.1',\n",
       " 'de Havilland DHC-2 Mk 1',\n",
       " 'de Havilland DHC-3',\n",
       " 'de Havilland DHC-3T Vazar',\n",
       " 'de Havilland DHC-6 Twim Otter',\n",
       " 'de Havilland DHC-6 Twin Otter']"
      ]
     },
     "execution_count": 165,
     "metadata": {},
     "output_type": "execute_result"
    }
   ],
   "source": [
    "sorted(df['Aircraft Type'].unique()) "
   ]
  },
  {
   "cell_type": "code",
   "execution_count": 161,
   "metadata": {},
   "outputs": [
    {
     "data": {
      "text/html": [
       "<div>\n",
       "<style scoped>\n",
       "    .dataframe tbody tr th:only-of-type {\n",
       "        vertical-align: middle;\n",
       "    }\n",
       "\n",
       "    .dataframe tbody tr th {\n",
       "        vertical-align: top;\n",
       "    }\n",
       "\n",
       "    .dataframe thead th {\n",
       "        text-align: right;\n",
       "    }\n",
       "</style>\n",
       "<table border=\"1\" class=\"dataframe\">\n",
       "  <thead>\n",
       "    <tr style=\"text-align: right;\">\n",
       "      <th></th>\n",
       "      <th>Day</th>\n",
       "      <th>Month</th>\n",
       "      <th>Year</th>\n",
       "      <th>Location</th>\n",
       "      <th>Operator</th>\n",
       "      <th>Aircraft Type</th>\n",
       "      <th>Total Passengers</th>\n",
       "      <th>Casualties</th>\n",
       "      <th>Ground Casualties</th>\n",
       "      <th>Total Casualties</th>\n",
       "    </tr>\n",
       "  </thead>\n",
       "  <tbody>\n",
       "    <tr>\n",
       "      <th>25</th>\n",
       "      <td>25</td>\n",
       "      <td>May</td>\n",
       "      <td>2000</td>\n",
       "      <td>Near Manila, Philippines</td>\n",
       "      <td>Philippine Air Lines</td>\n",
       "      <td>Airbus</td>\n",
       "      <td>298</td>\n",
       "      <td>1</td>\n",
       "      <td>0</td>\n",
       "      <td>1</td>\n",
       "    </tr>\n",
       "    <tr>\n",
       "      <th>46</th>\n",
       "      <td>23</td>\n",
       "      <td>Aug</td>\n",
       "      <td>2000</td>\n",
       "      <td>Off Manama, Bahrain</td>\n",
       "      <td>Gulf Air</td>\n",
       "      <td>Airbus</td>\n",
       "      <td>143</td>\n",
       "      <td>143</td>\n",
       "      <td>0</td>\n",
       "      <td>143</td>\n",
       "    </tr>\n",
       "    <tr>\n",
       "      <th>61</th>\n",
       "      <td>20</td>\n",
       "      <td>Nov</td>\n",
       "      <td>2000</td>\n",
       "      <td>Miami, Florida</td>\n",
       "      <td>American Airlines</td>\n",
       "      <td>Airbus</td>\n",
       "      <td>114</td>\n",
       "      <td>1</td>\n",
       "      <td>0</td>\n",
       "      <td>1</td>\n",
       "    </tr>\n",
       "    <tr>\n",
       "      <th>95</th>\n",
       "      <td>24</td>\n",
       "      <td>Aug</td>\n",
       "      <td>2001</td>\n",
       "      <td>Lajes, Terceira, Azores</td>\n",
       "      <td>Air Transat</td>\n",
       "      <td>Airbus</td>\n",
       "      <td>304</td>\n",
       "      <td>0</td>\n",
       "      <td>0</td>\n",
       "      <td>0</td>\n",
       "    </tr>\n",
       "    <tr>\n",
       "      <th>111</th>\n",
       "      <td>12</td>\n",
       "      <td>Nov</td>\n",
       "      <td>2001</td>\n",
       "      <td>Belle Harbor, Queens, New York</td>\n",
       "      <td>American Airlines</td>\n",
       "      <td>Airbus</td>\n",
       "      <td>260</td>\n",
       "      <td>260</td>\n",
       "      <td>5</td>\n",
       "      <td>265</td>\n",
       "    </tr>\n",
       "    <tr>\n",
       "      <th>313</th>\n",
       "      <td>02</td>\n",
       "      <td>Aug</td>\n",
       "      <td>2005</td>\n",
       "      <td>Toronto, Canada</td>\n",
       "      <td>Air France</td>\n",
       "      <td>Airbus</td>\n",
       "      <td>309</td>\n",
       "      <td>0</td>\n",
       "      <td>0</td>\n",
       "      <td>0</td>\n",
       "    </tr>\n",
       "    <tr>\n",
       "      <th>340</th>\n",
       "      <td>03</td>\n",
       "      <td>May</td>\n",
       "      <td>2006</td>\n",
       "      <td>Off Adler, Russia</td>\n",
       "      <td>Armavia</td>\n",
       "      <td>Airbus</td>\n",
       "      <td>113</td>\n",
       "      <td>113</td>\n",
       "      <td>0</td>\n",
       "      <td>113</td>\n",
       "    </tr>\n",
       "    <tr>\n",
       "      <th>347</th>\n",
       "      <td>09</td>\n",
       "      <td>Jul</td>\n",
       "      <td>2006</td>\n",
       "      <td>Irkutsk, Russia</td>\n",
       "      <td>Sibir (S7)</td>\n",
       "      <td>Airbus</td>\n",
       "      <td>203</td>\n",
       "      <td>125</td>\n",
       "      <td>0</td>\n",
       "      <td>125</td>\n",
       "    </tr>\n",
       "    <tr>\n",
       "      <th>391</th>\n",
       "      <td>17</td>\n",
       "      <td>Jul</td>\n",
       "      <td>2007</td>\n",
       "      <td>Sao Paulo, Brazil</td>\n",
       "      <td>TAM (Brazil)</td>\n",
       "      <td>Airbus</td>\n",
       "      <td>187</td>\n",
       "      <td>187</td>\n",
       "      <td>12</td>\n",
       "      <td>199</td>\n",
       "    </tr>\n",
       "    <tr>\n",
       "      <th>428</th>\n",
       "      <td>30</td>\n",
       "      <td>May</td>\n",
       "      <td>2008</td>\n",
       "      <td>Tegucigalpa, Honduras</td>\n",
       "      <td>TACA International Airlines</td>\n",
       "      <td>Airbus</td>\n",
       "      <td>136</td>\n",
       "      <td>3</td>\n",
       "      <td>2</td>\n",
       "      <td>5</td>\n",
       "    </tr>\n",
       "    <tr>\n",
       "      <th>430</th>\n",
       "      <td>10</td>\n",
       "      <td>Jun</td>\n",
       "      <td>2008</td>\n",
       "      <td>Khartoum, Sudan</td>\n",
       "      <td>Sudan Airways</td>\n",
       "      <td>Airbus</td>\n",
       "      <td>214</td>\n",
       "      <td>32</td>\n",
       "      <td>0</td>\n",
       "      <td>32</td>\n",
       "    </tr>\n",
       "    <tr>\n",
       "      <th>456</th>\n",
       "      <td>27</td>\n",
       "      <td>Nov</td>\n",
       "      <td>2008</td>\n",
       "      <td>Off Perpignan, France</td>\n",
       "      <td>XL Airways leased from Air New Zealand</td>\n",
       "      <td>Airbus</td>\n",
       "      <td>7</td>\n",
       "      <td>7</td>\n",
       "      <td>0</td>\n",
       "      <td>7</td>\n",
       "    </tr>\n",
       "    <tr>\n",
       "      <th>464</th>\n",
       "      <td>15</td>\n",
       "      <td>Jan</td>\n",
       "      <td>2009</td>\n",
       "      <td>New York, New York</td>\n",
       "      <td>US Airways</td>\n",
       "      <td>Airbus</td>\n",
       "      <td>155</td>\n",
       "      <td>0</td>\n",
       "      <td>0</td>\n",
       "      <td>0</td>\n",
       "    </tr>\n",
       "    <tr>\n",
       "      <th>481</th>\n",
       "      <td>01</td>\n",
       "      <td>Jun</td>\n",
       "      <td>2009</td>\n",
       "      <td>Atlantic Ocean, 570 miles northeast of Natal, ...</td>\n",
       "      <td>Air France</td>\n",
       "      <td>Airbus</td>\n",
       "      <td>228</td>\n",
       "      <td>228</td>\n",
       "      <td>0</td>\n",
       "      <td>228</td>\n",
       "    </tr>\n",
       "    <tr>\n",
       "      <th>485</th>\n",
       "      <td>30</td>\n",
       "      <td>Jun</td>\n",
       "      <td>2009</td>\n",
       "      <td>Off Mitsamiouli, Comoros</td>\n",
       "      <td>Yemenia Airway</td>\n",
       "      <td>Airbus</td>\n",
       "      <td>153</td>\n",
       "      <td>152</td>\n",
       "      <td>0</td>\n",
       "      <td>152</td>\n",
       "    </tr>\n",
       "    <tr>\n",
       "      <th>514</th>\n",
       "      <td>13</td>\n",
       "      <td>Apr</td>\n",
       "      <td>2010</td>\n",
       "      <td>Monterey, Mexico</td>\n",
       "      <td>Airborne Freight Company Union</td>\n",
       "      <td>Airbus</td>\n",
       "      <td>5</td>\n",
       "      <td>5</td>\n",
       "      <td>2</td>\n",
       "      <td>7</td>\n",
       "    </tr>\n",
       "    <tr>\n",
       "      <th>516</th>\n",
       "      <td>12</td>\n",
       "      <td>May</td>\n",
       "      <td>2010</td>\n",
       "      <td>Tripoli, Libya</td>\n",
       "      <td>Afriqiyah Airways</td>\n",
       "      <td>Airbus</td>\n",
       "      <td>104</td>\n",
       "      <td>103</td>\n",
       "      <td>0</td>\n",
       "      <td>103</td>\n",
       "    </tr>\n",
       "    <tr>\n",
       "      <th>523</th>\n",
       "      <td>28</td>\n",
       "      <td>Jul</td>\n",
       "      <td>2010</td>\n",
       "      <td>Islamabad, Pakistan</td>\n",
       "      <td>Airblue</td>\n",
       "      <td>Airbus</td>\n",
       "      <td>152</td>\n",
       "      <td>152</td>\n",
       "      <td>0</td>\n",
       "      <td>152</td>\n",
       "    </tr>\n",
       "    <tr>\n",
       "      <th>622</th>\n",
       "      <td>14</td>\n",
       "      <td>Aug</td>\n",
       "      <td>2013</td>\n",
       "      <td>Birmingham, Alabama</td>\n",
       "      <td>United Parcel Service</td>\n",
       "      <td>Airbus</td>\n",
       "      <td>2</td>\n",
       "      <td>2</td>\n",
       "      <td>0</td>\n",
       "      <td>2</td>\n",
       "    </tr>\n",
       "    <tr>\n",
       "      <th>656</th>\n",
       "      <td>28</td>\n",
       "      <td>Dec</td>\n",
       "      <td>2014</td>\n",
       "      <td>Java Sea</td>\n",
       "      <td>AirAsia</td>\n",
       "      <td>Airbus</td>\n",
       "      <td>162</td>\n",
       "      <td>162</td>\n",
       "      <td>0</td>\n",
       "      <td>162</td>\n",
       "    </tr>\n",
       "    <tr>\n",
       "      <th>660</th>\n",
       "      <td>24</td>\n",
       "      <td>Mar</td>\n",
       "      <td>2015</td>\n",
       "      <td>Near Digne-Les-Bains, France</td>\n",
       "      <td>Germanwings</td>\n",
       "      <td>Airbus</td>\n",
       "      <td>150</td>\n",
       "      <td>150</td>\n",
       "      <td>0</td>\n",
       "      <td>150</td>\n",
       "    </tr>\n",
       "    <tr>\n",
       "      <th>671</th>\n",
       "      <td>31</td>\n",
       "      <td>Oct</td>\n",
       "      <td>2015</td>\n",
       "      <td>Near Hasna, Egypt</td>\n",
       "      <td>Metrojet</td>\n",
       "      <td>Airbus</td>\n",
       "      <td>224</td>\n",
       "      <td>224</td>\n",
       "      <td>0</td>\n",
       "      <td>224</td>\n",
       "    </tr>\n",
       "    <tr>\n",
       "      <th>676</th>\n",
       "      <td>02</td>\n",
       "      <td>Feb</td>\n",
       "      <td>2016</td>\n",
       "      <td>Near Mogadishu, Somalia</td>\n",
       "      <td>Daallo Airlines</td>\n",
       "      <td>Airbus</td>\n",
       "      <td>72</td>\n",
       "      <td>1</td>\n",
       "      <td>0</td>\n",
       "      <td>1</td>\n",
       "    </tr>\n",
       "    <tr>\n",
       "      <th>686</th>\n",
       "      <td>19</td>\n",
       "      <td>May</td>\n",
       "      <td>2016</td>\n",
       "      <td>175 miles off the Egyptian coast</td>\n",
       "      <td>EgyptAir</td>\n",
       "      <td>Airbus</td>\n",
       "      <td>66</td>\n",
       "      <td>66</td>\n",
       "      <td>0</td>\n",
       "      <td>66</td>\n",
       "    </tr>\n",
       "  </tbody>\n",
       "</table>\n",
       "</div>"
      ],
      "text/plain": [
       "    Day Month  Year                                           Location  \\\n",
       "25   25   May  2000                           Near Manila, Philippines   \n",
       "46   23   Aug  2000                                Off Manama, Bahrain   \n",
       "61   20   Nov  2000                                     Miami, Florida   \n",
       "95   24   Aug  2001                            Lajes, Terceira, Azores   \n",
       "111  12   Nov  2001                     Belle Harbor, Queens, New York   \n",
       "313  02   Aug  2005                                    Toronto, Canada   \n",
       "340  03   May  2006                                  Off Adler, Russia   \n",
       "347  09   Jul  2006                                    Irkutsk, Russia   \n",
       "391  17   Jul  2007                                  Sao Paulo, Brazil   \n",
       "428  30   May  2008                              Tegucigalpa, Honduras   \n",
       "430  10   Jun  2008                                    Khartoum, Sudan   \n",
       "456  27   Nov  2008                              Off Perpignan, France   \n",
       "464  15   Jan  2009                                 New York, New York   \n",
       "481  01   Jun  2009  Atlantic Ocean, 570 miles northeast of Natal, ...   \n",
       "485  30   Jun  2009                           Off Mitsamiouli, Comoros   \n",
       "514  13   Apr  2010                                   Monterey, Mexico   \n",
       "516  12   May  2010                                     Tripoli, Libya   \n",
       "523  28   Jul  2010                                Islamabad, Pakistan   \n",
       "622  14   Aug  2013                                Birmingham, Alabama   \n",
       "656  28   Dec  2014                                           Java Sea   \n",
       "660  24   Mar  2015                       Near Digne-Les-Bains, France   \n",
       "671  31   Oct  2015                                  Near Hasna, Egypt   \n",
       "676  02   Feb  2016                            Near Mogadishu, Somalia   \n",
       "686  19   May  2016                   175 miles off the Egyptian coast   \n",
       "\n",
       "                                   Operator Aircraft Type  Total Passengers  \\\n",
       "25                     Philippine Air Lines        Airbus               298   \n",
       "46                                 Gulf Air        Airbus               143   \n",
       "61                        American Airlines        Airbus               114   \n",
       "95                              Air Transat        Airbus               304   \n",
       "111                       American Airlines        Airbus               260   \n",
       "313                              Air France        Airbus               309   \n",
       "340                                 Armavia        Airbus               113   \n",
       "347                              Sibir (S7)        Airbus               203   \n",
       "391                            TAM (Brazil)        Airbus               187   \n",
       "428             TACA International Airlines        Airbus               136   \n",
       "430                           Sudan Airways        Airbus               214   \n",
       "456  XL Airways leased from Air New Zealand        Airbus                 7   \n",
       "464                              US Airways        Airbus               155   \n",
       "481                              Air France        Airbus               228   \n",
       "485                          Yemenia Airway        Airbus               153   \n",
       "514          Airborne Freight Company Union        Airbus                 5   \n",
       "516                       Afriqiyah Airways        Airbus               104   \n",
       "523                                 Airblue        Airbus               152   \n",
       "622                   United Parcel Service        Airbus                 2   \n",
       "656                                 AirAsia        Airbus               162   \n",
       "660                             Germanwings        Airbus               150   \n",
       "671                                Metrojet        Airbus               224   \n",
       "676                         Daallo Airlines        Airbus                72   \n",
       "686                                EgyptAir        Airbus                66   \n",
       "\n",
       "     Casualties  Ground Casualties  Total Casualties  \n",
       "25            1                  0                 1  \n",
       "46          143                  0               143  \n",
       "61            1                  0                 1  \n",
       "95            0                  0                 0  \n",
       "111         260                  5               265  \n",
       "313           0                  0                 0  \n",
       "340         113                  0               113  \n",
       "347         125                  0               125  \n",
       "391         187                 12               199  \n",
       "428           3                  2                 5  \n",
       "430          32                  0                32  \n",
       "456           7                  0                 7  \n",
       "464           0                  0                 0  \n",
       "481         228                  0               228  \n",
       "485         152                  0               152  \n",
       "514           5                  2                 7  \n",
       "516         103                  0               103  \n",
       "523         152                  0               152  \n",
       "622           2                  0                 2  \n",
       "656         162                  0               162  \n",
       "660         150                  0               150  \n",
       "671         224                  0               224  \n",
       "676           1                  0                 1  \n",
       "686          66                  0                66  "
      ]
     },
     "execution_count": 161,
     "metadata": {},
     "output_type": "execute_result"
    }
   ],
   "source": [
    "Airbus_Type = df['Aircraft Type'] == 'Airbus'\n",
    "df[Airbus_Type]"
   ]
  },
  {
   "cell_type": "code",
   "execution_count": 156,
   "metadata": {
    "colab": {},
    "colab_type": "code",
    "id": "0e-uKa7U-l3C"
   },
   "outputs": [
    {
     "data": {
      "text/plain": [
       "Index(['Day', 'Month', 'Year', 'Location', 'Operator', 'Aircraft Type',\n",
       "       'Total Passengers', 'Casualties', 'Ground Casualties',\n",
       "       'Total Casualties'],\n",
       "      dtype='object')"
      ]
     },
     "execution_count": 156,
     "metadata": {},
     "output_type": "execute_result"
    }
   ],
   "source": [
    "df.columns"
   ]
  },
  {
   "cell_type": "code",
   "execution_count": null,
   "metadata": {
    "colab": {},
    "colab_type": "code",
    "id": "jKzUYMnx-lzC"
   },
   "outputs": [],
   "source": []
  },
  {
   "cell_type": "markdown",
   "metadata": {
    "colab_type": "text",
    "id": "c7C8N_sQ-m0J"
   },
   "source": [
    "# 7. Cessna is one of the smallest aircrafts. Analyse the trends of casualties, both among passengers and on the ground for this aircraft\n",
    "\n",
    "- Do you see any improvement in its safety for travel ?"
   ]
  },
  {
   "cell_type": "code",
   "execution_count": null,
   "metadata": {
    "colab": {},
    "colab_type": "code",
    "id": "KsoTzAKd-1Hu"
   },
   "outputs": [],
   "source": []
  },
  {
   "cell_type": "code",
   "execution_count": null,
   "metadata": {
    "colab": {},
    "colab_type": "code",
    "id": "e7Xrx65N-3Y0"
   },
   "outputs": [],
   "source": []
  },
  {
   "cell_type": "code",
   "execution_count": null,
   "metadata": {
    "colab": {},
    "colab_type": "code",
    "id": "V_ezMHfE-3Us"
   },
   "outputs": [],
   "source": []
  },
  {
   "cell_type": "markdown",
   "metadata": {
    "colab_type": "text",
    "id": "77GVo9u6-3-N"
   },
   "source": [
    "# 8. Find out the top 5 aircrafts that have had the least number of crashes and can thus be considered relatively safe to travel in"
   ]
  },
  {
   "cell_type": "code",
   "execution_count": null,
   "metadata": {
    "colab": {},
    "colab_type": "code",
    "id": "h0uVmSju_LDq"
   },
   "outputs": [],
   "source": []
  },
  {
   "cell_type": "code",
   "execution_count": null,
   "metadata": {
    "colab": {},
    "colab_type": "code",
    "id": "uAs0Hwjx_K_Z"
   },
   "outputs": [],
   "source": []
  },
  {
   "cell_type": "code",
   "execution_count": null,
   "metadata": {
    "colab": {},
    "colab_type": "code",
    "id": "MhlbyQgE_K8M"
   },
   "outputs": [],
   "source": []
  },
  {
   "cell_type": "code",
   "execution_count": null,
   "metadata": {
    "colab": {},
    "colab_type": "code",
    "id": "QMthEewI_KD4"
   },
   "outputs": [],
   "source": []
  }
 ],
 "metadata": {
  "colab": {
   "collapsed_sections": [],
   "name": "Airplane_crash_Analysis_Bsv.ipynb",
   "provenance": [
    {
     "file_id": "1DopFOr1XH9DH5SSO7J7EVv33H470lgnP",
     "timestamp": 1590284490723
    },
    {
     "file_id": "1zYVTqQ-wQQ8jUjlT2Ar74CS_DrFlgF8D",
     "timestamp": 1589102767882
    },
    {
     "file_id": "1y1rcIYQrntfk4ydAl0aAxBEqkkco7MZf",
     "timestamp": 1588482165611
    }
   ],
   "toc_visible": true
  },
  "kernelspec": {
   "display_name": "Python 3",
   "language": "python",
   "name": "python3"
  },
  "language_info": {
   "codemirror_mode": {
    "name": "ipython",
    "version": 3
   },
   "file_extension": ".py",
   "mimetype": "text/x-python",
   "name": "python",
   "nbconvert_exporter": "python",
   "pygments_lexer": "ipython3",
   "version": "3.7.4"
  }
 },
 "nbformat": 4,
 "nbformat_minor": 1
}

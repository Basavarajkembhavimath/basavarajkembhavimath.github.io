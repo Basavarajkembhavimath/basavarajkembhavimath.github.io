import re
import numpy as np
import pandas as pd
import matplotlib.pyplot as plt
import seaborn as sns
from datetime import datetime

# Helpful functions

def ecdf(data):
  n_data = len(data)
  x_data = np.sort(data)
  y_data = np.linspace(1/n_data, 1, n_data)
  return x_data, y_data

def get_airline_name(x):
  mtch = re.search("[a-z]+([A-Z])", str(x) )
  return x[mtch.span(1)[0]:] if mtch else ""


def get_location(x):
  mtch = re.search("[a-z]+([A-Z])", str(x) )
  return x[:mtch.span(1)[0]] if mtch else ""


def add(a,b):
    return int(a)+int(b)

sample = 'Miami, FloridaAmerican Airlines'
get_airline_name(sample)

get_location(sample)

def get_casualties(x):
  nums = re.findall("([0-9]+)", x)
  return nums[0] if nums else x

def get_passengers(x):
  nums = re.findall("([0-9]+)", x)
  return nums[1] if len(nums) > 1 else x

def get_ground_casualties(x):
  nums = re.findall("([0-9]+)", x)
  return nums[2] if len(nums) > 2 else x

text = '22/41(0)'
get_casualties(text)

get_passengers(text)

get_ground_casualties(text)

def get_aircraft_type(x):
  return x.rsplit(maxsplit=1)[0]

smpl = "Airbus A300-600RN14056"
get_aircraft_type(smpl)
smpl.rsplit(maxsplit=1)[0]

# 1. Collect information for all Airplane crashes from 2000 to 2020

You might already have received a GitHub link to a csv file called "plane_crash_all.csv"

Access the data from this csv file and present its summary report :
- Number of data points [ or rows ]
- Number of features [ or columns ]
- First 10 entries in the dataset
- Last 10 entries in the dataset
- Datatypes of each column

df1 = pd.read_csv('plane_crash_all.csv')

#First 10 entries in the dataset 
df1

#Last 10 entries in the dataset
df1[10:]

#To know the shape of the data (In this data frame Rows = 746,columns = 4)
df1.shape

#To know the columns name in the data frame
df1.columns

#Datatypes of each column
df1.dtypes

df1.head()

df1 = df1.drop(['Unnamed: 0'], axis=1)

# 2. Clean the data and arrange it into a DataFrame that contains the following columns

- Day [ Day of the month ]
- Month
- Year
- Location
- Operator
- Aircraft Type
- Total Passengers
- Casualties
- Ground Casualties

Make sure each column contains data with its appropriate datatype.

To study more details about what each field in the HTML represents, you can read through this sample data at : http://www.planecrashinfo.com/2014/2014-15.htm

#Making list of Each  coluumns
data1 = df1['Date'].tolist()
data2 = df1['Location / Operator'].tolist()
data3 = df1['Aircraft Type / Registration'].tolist()
data4 = df1['Fatalities'].tolist()

#Extracting the reqired data from the list and appending in to new list
Day = []
Month = []
Year = []
for i in data1:
    splt = i.split(' ')
    day = Day.append(splt[0])
    mont = Month.append(splt[1])
    year = Year.append(splt[2])

#Extracting the reqired data from the list and appending in to new list
Location = []
Operator = []
for i in data2:
    locn = get_location(i)
    locn = Location.append(locn)
    opt = get_airline_name(i)
    opt = Operator.append(opt)

#Extracting the reqired data from the list and appending in to new list
Aircraft_Type = []
for i in data3:
    air_typ = get_aircraft_type(i)
    aor_typ = Aircraft_Type.append(air_typ)

#Extracting the reqired data from the list and appending in to new list
Total_Passengers = []
Casualties = []
Ground_Casualties = []
for i in data4:
    pasn = get_passengers(i)
    pasn = int(pasn)
    pasn = Total_Passengers.append(pasn)
    casu = get_casualties(i)
    casu = int(casu)
    casu = Casualties.append(casu)
    gcas = get_ground_casualties(i)
    if len(gcas) < 5:
        gcas = int(gcas)
        gcas = Ground_Casualties.append(gcas)
    elif len(gcas) > 5:
        gcas = 0
        gcas = Ground_Casualties.append(gcas)

df = pd.DataFrame({'Day' : Day,
                   'Month' : Month,
                   'Year' : Year,
                   'Location' : Location,
                   'Operator' : Operator,
                   'Aircraft Type' : Aircraft_Type,
                   'Total Passengers' : Total_Passengers,
                   'Casualties' : Casualties,
                   'Ground Casualties' : Ground_Casualties
                  })

Total_Casualties = []
for i in range(0, len(Casualties)): 
    Total_Casualties.append(add(Casualties[i], Ground_Casualties[i]))

df['Total Casualties'] = Total_Casualties

df

df.info()

# 3. Display a graph for number of crashes every year

- Do you see any trend ?
- Has airplane transportation become any safer over the last 20 years ?





crash =df.groupby('Year').count()
crash['Casualties']

_ = crash['Casualties'].plot()

# Data Analysis
### In this graph we can clearly visible that is highest no of crashes happend in the year of 2000 and 2003 only.
### Yearly wise the crashes rate is decreased.
### And also we can see 2000 to 2010 the No of crashes per year is more then 30.
### when we loking at the latest updates we can appricciate the air lines department.
### Highest no of crashes recorded at the year of 2000 when its comes to 2019,2020 its very less

plt.figure(figsize=(20, 6))
x_vals, y_vals = ecdf(crash['Total Casualties'])

plt.plot(x_vals, y_vals, marker='.', ls='none', label="Plane Crash ")

_ = plt.xlabel('No Of Plane crash')
_ = plt.ylabel('ECDF')
plt.legend()

# ECDF Analysis
#### In this graph we can see the clear data that is :
#### Most of the year plane crashed less then 50 times.
#### yearly wise Air Line departments are improved so much thats y plane crashes are reduced
#### last 20 years of data 2019,2020 are the safer over the 20 year.

# 4. Display in a graph month-wise report of deaths

- Are there any trends or patterns that you see in this data ?
- Which are the top 3 months with the highest  deaths on an average ?
- Which are the top 3 months with the least  deaths on an average?

month = df.groupby('Month').sum()
month.mean()

_ = month['Casualties'].plot(figsize=(20, 6))

month['Casualties'].sort_values(ascending=False)[:10]

df.columns

year = df.groupby('Year').sum()
year

sns.relplot(x='Total Passengers',y ='year',kind='line' ,data = year)

year = df['Year'] == '2000'
df[year]

df['Casualties'].sum()

month.get_group('jan').set_index(Year).head()

month.set_index('Manth')























## 5. Report the casualties among passengers and the ground for every year

- Has air travel become any safer over these years ?
- Are there any specific months where the casualties are usually less ?
- Which are the top 3 months, that reported the most number of casualties ?







# 6. Display in a graph the number of crashes for every year that happened for Airbus

- Which were the best 3 years for Airbus ?
- Which were the worst 3 years for Airbus ?







# 7. Cessna is one of the smallest aircrafts. Analyse the trends of casualties, both among passengers and on the ground for this aircraft

- Do you see any improvement in its safety for travel ?







# 8. Find out the top 5 aircrafts that have had the least number of crashes and can thus be considered relatively safe to travel in






